{
 "cells": [
  {
   "cell_type": "code",
   "execution_count": 5,
   "metadata": {},
   "outputs": [],
   "source": [
    "import requests"
   ]
  },
  {
   "cell_type": "markdown",
   "metadata": {},
   "source": [
    "## Testo"
   ]
  },
  {
   "cell_type": "code",
   "execution_count": 9,
   "metadata": {},
   "outputs": [
    {
     "name": "stdout",
     "output_type": "stream",
     "text": [
      "{'ok': True, 'result': {'message_id': 5, 'from': {'id': 937044171, 'is_bot': True, 'first_name': 'Python', 'username': 'python_notifier_bot'}, 'chat': {'id': 166942243, 'first_name': 'Federico', 'last_name': 'Manenti', 'type': 'private'}, 'date': 1570549355, 'text': 'Paul'}}\n"
     ]
    }
   ],
   "source": [
    "def telegram_bot_sendtext(bot_message):\n",
    "    \n",
    "    bot_token = '937044171:AAGGDmJcUTkkvDaOwcKrnHUyj9XUND7d52A'\n",
    "    bot_chatID = '166942243'\n",
    "    send_text = 'https://api.telegram.org/bot' + bot_token + '/sendMessage?chat_id=' + bot_chatID + '&parse_mode=Markdown&text=' + bot_message\n",
    "\n",
    "    response = requests.get(send_text)\n",
    "\n",
    "    return response.json()\n",
    "    \n",
    "\n",
    "test = telegram_bot_sendtext(\"Paul\")\n",
    "print(test)"
   ]
  },
  {
   "cell_type": "markdown",
   "metadata": {},
   "source": [
    "## Immagini"
   ]
  },
  {
   "cell_type": "code",
   "execution_count": null,
   "metadata": {},
   "outputs": [],
   "source": [
    "def sendImage():\n",
    "    url = \"https://api.telegram.org/bot937044171:AAGGDmJcUTkkvDaOwcKrnHUyj9XUND7d52A/sendPhoto\";\n",
    "    files = {'photo': open('image/png', 'rb')}\n",
    "    data = {'chat_id' : \"166942243\"}\n",
    "    r= requests.post(url, files=files, data=data)\n",
    "    print(r.status_code, r.reason, r.content)"
   ]
  }
 ],
 "metadata": {
  "kernelspec": {
   "display_name": "Python 3",
   "language": "python",
   "name": "python3"
  },
  "language_info": {
   "codemirror_mode": {
    "name": "ipython",
    "version": 3
   },
   "file_extension": ".py",
   "mimetype": "text/x-python",
   "name": "python",
   "nbconvert_exporter": "python",
   "pygments_lexer": "ipython3",
   "version": "3.6.9"
  }
 },
 "nbformat": 4,
 "nbformat_minor": 2
}
