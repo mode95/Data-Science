{
 "cells": [
  {
   "cell_type": "code",
   "execution_count": 1,
   "metadata": {},
   "outputs": [],
   "source": [
    "import os\n",
    "import numpy as np\n",
    "from time import time\n",
    "from scipy.io import wavfile as wav\n",
    "\n",
    "import matplotlib.pyplot as plt\n",
    "import IPython.display as ipd\n",
    "\n",
    "# Strumenti di classificazione\n",
    "from sklearn.svm import SVC\n",
    "from sklearn.model_selection import train_test_split, GridSearchCV\n",
    "from sklearn.metrics import classification_report, confusion_matrix\n",
    "from sklearn.utils.multiclass import unique_labels\n"
   ]
  },
  {
   "cell_type": "code",
   "execution_count": 2,
   "metadata": {},
   "outputs": [],
   "source": [
    "# Segnaposto per feature extractor\n",
    "def identity(input):\n",
    "    return input"
   ]
  },
  {
   "cell_type": "code",
   "execution_count": 3,
   "metadata": {},
   "outputs": [],
   "source": [
    "# Data loader\n",
    "def load_data(feature_extractor=identity, normalize=False):\n",
    "\n",
    "    labels = []\n",
    "    features = []\n",
    "\n",
    "    for f in sorted(os.listdir('/home/federico/Desktop/Università/II_ANNO/Digital_Signal_and_Image_Management/es2/recordings')):\n",
    "        if f.endswith('.wav'):\n",
    "            # Carica file ed estraine le features\n",
    "            _, signal = wav.read('/home/federico/Desktop/Università/II_ANNO/Digital_Signal_and_Image_Management/es2/recordings/' + f)\n",
    "            cur_features = feature_extractor(signal)\n",
    "            features.append(cur_features)\n",
    "\n",
    "            # Categorie\n",
    "            label = f.split('_')[0]\n",
    "            labels.append(label)\n",
    "\n",
    "    # X: features, y: labels\n",
    "    X_train, X_test, y_train, y_test = train_test_split(features, labels, test_size=0.1, random_state=1)\n",
    "\n",
    "    if normalize:\n",
    "        eps = 0.001\n",
    "        X_train = np.array(X_train)\n",
    "        X_train_mean = X_train.mean(axis=0)\n",
    "        X_train_std = X_train.std(axis=0)\n",
    "        X_train = (X_train - X_train_mean + eps)/(X_train_std + eps)\n",
    "        X_train = [row for row in X_train]\n",
    "\n",
    "        X_test = [row for row in (np.array(X_test) - X_train_mean + eps)/(X_train_std + eps)]\n",
    "\n",
    "    return X_train, X_test, y_train, y_test"
   ]
  },
  {
   "cell_type": "markdown",
   "metadata": {},
   "source": [
    "## Definizioni delle funzioni per estrarre le feature"
   ]
  },
  {
   "cell_type": "code",
   "execution_count": 4,
   "metadata": {},
   "outputs": [],
   "source": [
    "def sdev(input):\n",
    "    return np.std(input, keepdims = True)"
   ]
  },
  {
   "cell_type": "code",
   "execution_count": 5,
   "metadata": {},
   "outputs": [],
   "source": [
    "def energy(input):\n",
    "    return np.sum((input*1.0) ** 2, keepdims = True)"
   ]
  },
  {
   "cell_type": "code",
   "execution_count": 6,
   "metadata": {},
   "outputs": [],
   "source": [
    "def aavg(input):\n",
    "    return np.mean(np.abs(input), keepdims=True)"
   ]
  },
  {
   "cell_type": "code",
   "execution_count": 7,
   "metadata": {},
   "outputs": [],
   "source": [
    "def duration(input):\n",
    "    return input.shape"
   ]
  },
  {
   "cell_type": "code",
   "execution_count": 8,
   "metadata": {},
   "outputs": [],
   "source": [
    "def zero_crossing(input):\n",
    "    if np.sign(input[0]) == np.sign(input[-1]): # Se il seganle inizia e finisce con lo stesso segno\n",
    "        res = (np.sum(np.abs(np.sign(input) - np.sign(np.roll(input, -1))), keepdims=True)/2)\n",
    "    \n",
    "    else: # Se il segnale inizia e finisce con segno opposto\n",
    "        res = (np.sum(np.abs(np.sign(input) - np.sign(np.roll(input, -1))), keepdims=True)/2) - 1\n",
    "    return res"
   ]
  },
  {
   "cell_type": "code",
   "execution_count": 9,
   "metadata": {},
   "outputs": [],
   "source": [
    "def combo(input):\n",
    "    return np.concatenate((aavg(input),duration(input) ,sdev(input), energy(input), zero_crossing(input)))"
   ]
  },
  {
   "cell_type": "markdown",
   "metadata": {},
   "source": [
    "## Carico dati e split train e test"
   ]
  },
  {
   "cell_type": "code",
   "execution_count": 10,
   "metadata": {},
   "outputs": [],
   "source": [
    "X_train, X_test , y_train, y_test = load_data(feature_extractor = combo, normalize = True)"
   ]
  },
  {
   "cell_type": "markdown",
   "metadata": {},
   "source": [
    "## SVM"
   ]
  },
  {
   "cell_type": "code",
   "execution_count": 12,
   "metadata": {},
   "outputs": [],
   "source": [
    "# Definizione dello spazio di ricerca per Grid Search degli iperparametri per una SVM\n",
    "param_grid = {\"C\" : [100, 500, 1000, 1500, 2000],\n",
    "              \"gamma\" : [0.0001, 0.005, 0.01, 0.015, 0.02, 0.1, 0.5, 1]}"
   ]
  },
  {
   "cell_type": "code",
   "execution_count": 18,
   "metadata": {},
   "outputs": [],
   "source": [
    "clf = GridSearchCV(SVC(kernel = \"rbf\", class_weight = \"balanced\"), param_grid, cv = 2)"
   ]
  },
  {
   "cell_type": "code",
   "execution_count": 19,
   "metadata": {},
   "outputs": [],
   "source": [
    "clf = clf.fit(X_train, y_train)"
   ]
  },
  {
   "cell_type": "code",
   "execution_count": 15,
   "metadata": {
    "scrolled": true
   },
   "outputs": [
    {
     "name": "stdout",
     "output_type": "stream",
     "text": [
      "I parametri migliori risultano C : 100 e gamma:0.5\n"
     ]
    }
   ],
   "source": [
    "print(\"I parametri migliori risultano C : \" + str(clf.best_estimator_.C) + \" e gamma:\" + str(clf.best_estimator_.gamma))"
   ]
  },
  {
   "cell_type": "code",
   "execution_count": 22,
   "metadata": {},
   "outputs": [
    {
     "name": "stdout",
     "output_type": "stream",
     "text": [
      "              precision    recall  f1-score   support\n",
      "\n",
      "           0       0.77      0.59      0.67        17\n",
      "           1       0.47      0.80      0.59        10\n",
      "           2       0.64      0.60      0.62        15\n",
      "           3       0.85      0.58      0.69        19\n",
      "           4       0.44      0.64      0.52        11\n",
      "           5       0.50      0.71      0.59        14\n",
      "           6       0.93      0.93      0.93        14\n",
      "           7       0.78      0.37      0.50        19\n",
      "           8       0.53      0.53      0.53        17\n",
      "           9       0.59      0.71      0.65        14\n",
      "\n",
      "    accuracy                           0.63       150\n",
      "   macro avg       0.65      0.65      0.63       150\n",
      "weighted avg       0.67      0.63      0.63       150\n",
      "\n"
     ]
    }
   ],
   "source": [
    "y_pred = clf.predict(X_test)\n",
    "print(classification_report(y_test, y_pred))"
   ]
  },
  {
   "cell_type": "code",
   "execution_count": 23,
   "metadata": {},
   "outputs": [
    {
     "name": "stdout",
     "output_type": "stream",
     "text": [
      "Matrice di confusione:\n",
      "[[10  0  1  0  0  0  0  0  0  6]\n",
      " [ 0  8  0  0  2  0  0  0  0  0]\n",
      " [ 0  1  9  1  0  2  1  0  1  0]\n",
      " [ 0  3  2 11  0  3  0  0  0  0]\n",
      " [ 0  2  1  0  7  1  0  0  0  0]\n",
      " [ 0  0  0  0  3 10  0  1  0  0]\n",
      " [ 0  0  0  0  0  0 13  0  1  0]\n",
      " [ 0  1  0  0  2  2  0  7  6  1]\n",
      " [ 0  2  1  1  1  2  0  1  9  0]\n",
      " [ 3  0  0  0  1  0  0  0  0 10]]\n"
     ]
    },
    {
     "data": {
      "text/plain": [
       "<matplotlib.image.AxesImage at 0x7facc9d52990>"
      ]
     },
     "execution_count": 23,
     "metadata": {},
     "output_type": "execute_result"
    },
    {
     "data": {
      "image/png": "[encoded data removed]",
      "text/plain": [
       "<Figure size 432x432 with 1 Axes>"
      ]
     },
     "metadata": {
      "needs_background": "light"
     },
     "output_type": "display_data"
    }
   ],
   "source": [
    "print(\"Matrice di confusione:\")\n",
    "cm = confusion_matrix(y_test, y_pred)\n",
    "print(cm)\n",
    "\n",
    "plt.figure(figsize=(6,6))\n",
    "plt.imshow(cm, cmap=plt.cm.Blues)"
   ]
  },
  {
   "cell_type": "markdown",
   "metadata": {},
   "source": [
    "### Utilizzando come feature anche la \"zero_crossing\" l'accuracy passa dal circa 46% ottenuto a lezione al 63%. \n",
    "### Una classificazione migliore si sarebbe potuta ottenere calcolando altre feature (come mfcc) oppure cambiando il modello utilizzato."
   ]
  }
 ],
 "metadata": {
  "kernelspec": {
   "display_name": "Python 3",
   "language": "python",
   "name": "python3"
  },
  "language_info": {
   "codemirror_mode": {
    "name": "ipython",
    "version": 3
   },
   "file_extension": ".py",
   "mimetype": "text/x-python",
   "name": "python",
   "nbconvert_exporter": "python",
   "pygments_lexer": "ipython3",
   "version": "3.7.4"
  }
 },
 "nbformat": 4,
 "nbformat_minor": 2
}
