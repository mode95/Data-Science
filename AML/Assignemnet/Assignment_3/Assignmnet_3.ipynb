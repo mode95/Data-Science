{
 "cells": [
  {
   "cell_type": "code",
   "execution_count": 1,
   "metadata": {
    "colab": {
     "base_uri": "https://localhost:8080/",
     "height": 82
    },
    "colab_type": "code",
    "id": "r5Me_KF0ryba",
    "outputId": "ec3d4c4b-859a-44ad-8355-2a256672d882"
   },
   "outputs": [
    {
     "name": "stderr",
     "output_type": "stream",
     "text": [
      "Using TensorFlow backend.\n"
     ]
    },
    {
     "data": {
      "text/html": [
       "<p style=\"color: red;\">\n",
       "The default version of TensorFlow in Colab will soon switch to TensorFlow 2.x.<br>\n",
       "We recommend you <a href=\"https://www.tensorflow.org/guide/migrate\" target=\"_blank\">upgrade</a> now \n",
       "or ensure your notebook will continue to use TensorFlow 1.x via the <code>%tensorflow_version 1.x</code> magic:\n",
       "<a href=\"https://colab.research.google.com/notebooks/tensorflow_version.ipynb\" target=\"_blank\">more info</a>.</p>\n"
      ],
      "text/plain": [
       "<IPython.core.display.HTML object>"
      ]
     },
     "metadata": {
      "tags": []
     },
     "output_type": "display_data"
    }
   ],
   "source": [
    "import pandas as pd\n",
    "import numpy as np\n",
    "from keras import layers, optimizers, models, datasets, callbacks\n",
    "import matplotlib.pyplot as plt\n",
    "import seaborn as sns\n",
    "\n",
    "from sklearn.metrics import classification_report"
   ]
  },
  {
   "cell_type": "markdown",
   "metadata": {
    "colab_type": "text",
    "id": "rI0Upra4sS2u"
   },
   "source": [
    "## Import Dati"
   ]
  },
  {
   "cell_type": "code",
   "execution_count": 2,
   "metadata": {
    "colab": {
     "base_uri": "https://localhost:8080/",
     "height": 53
    },
    "colab_type": "code",
    "id": "ahy8-MAUsq71",
    "outputId": "630e4af7-93cf-405b-84d3-93e8c6011459"
   },
   "outputs": [
    {
     "name": "stdout",
     "output_type": "stream",
     "text": [
      "Downloading data from https://s3.amazonaws.com/img-datasets/mnist.npz\n",
      "11493376/11490434 [==============================] - 2s 0us/step\n"
     ]
    }
   ],
   "source": [
    "mnist = datasets.mnist\n",
    "(X_train, y_train),(X_test, y_test) = mnist.load_data()"
   ]
  },
  {
   "cell_type": "code",
   "execution_count": 0,
   "metadata": {
    "colab": {
     "base_uri": "https://localhost:8080/",
     "height": 53
    },
    "colab_type": "code",
    "id": "2JypN8g5s0ZJ",
    "outputId": "8814cdf7-894e-440a-9e2c-f6483b51da3f"
   },
   "outputs": [
    {
     "name": "stdout",
     "output_type": "stream",
     "text": [
      "(60000, 28, 28)\n",
      "(60000,)\n"
     ]
    }
   ],
   "source": [
    "print(X_train.shape)\n",
    "print(y_train.shape)"
   ]
  },
  {
   "cell_type": "code",
   "execution_count": 0,
   "metadata": {
    "colab": {
     "base_uri": "https://localhost:8080/",
     "height": 283
    },
    "colab_type": "code",
    "id": "VL5yLePbtFEX",
    "outputId": "b46c3ad2-c8fc-4a6d-971e-884612a8a201"
   },
   "outputs": [
    {
     "name": "stdout",
     "output_type": "stream",
     "text": [
      "5\n"
     ]
    },
    {
     "data": {
      "image/png": "[encoded data removed]",
      "text/plain": [
       "<Figure size 432x288 with 1 Axes>"
      ]
     },
     "metadata": {
      "tags": []
     },
     "output_type": "display_data"
    }
   ],
   "source": [
    "plt.imshow(X_train[0], cmap = \"gray\")\n",
    "print(y_train[0])"
   ]
  },
  {
   "cell_type": "code",
   "execution_count": 0,
   "metadata": {
    "colab": {
     "base_uri": "https://localhost:8080/",
     "height": 285
    },
    "colab_type": "code",
    "id": "IHMSCihctecS",
    "outputId": "f26dc178-4e8c-48df-8d77-6120ff770d69"
   },
   "outputs": [
    {
     "data": {
      "text/plain": [
       "<matplotlib.axes._subplots.AxesSubplot at 0x7f5a6cd5ab38>"
      ]
     },
     "execution_count": 5,
     "metadata": {
      "tags": []
     },
     "output_type": "execute_result"
    },
    {
     "data": {
      "image/png": "[encoded data removed]",
      "text/plain": [
       "<Figure size 432x288 with 1 Axes>"
      ]
     },
     "metadata": {
      "tags": []
     },
     "output_type": "display_data"
    }
   ],
   "source": [
    "target = pd.DataFrame(y_train)\n",
    "target.columns = [\"TARGET\"]\n",
    "\n",
    "sns.barplot(target[\"TARGET\"].value_counts().index, target[\"TARGET\"].value_counts().values, palette=\"Set1\")"
   ]
  },
  {
   "cell_type": "markdown",
   "metadata": {
    "colab_type": "text",
    "id": "DnejmWGwt9TZ"
   },
   "source": [
    "## Reshape e normalizzazione"
   ]
  },
  {
   "cell_type": "code",
   "execution_count": 0,
   "metadata": {
    "colab": {},
    "colab_type": "code",
    "id": "fpkoCPdTt7nZ"
   },
   "outputs": [],
   "source": [
    "IMG_SIZE = 28\n",
    "X_train = X_train.reshape(-1, IMG_SIZE,IMG_SIZE, 1)\n",
    "X_train = X_train/255.0\n",
    "\n",
    "X_test = X_test.reshape(-1, IMG_SIZE, IMG_SIZE, 1)\n",
    "X_test = X_test/255.0\n"
   ]
  },
  {
   "cell_type": "markdown",
   "metadata": {
    "colab_type": "text",
    "id": "rqx4yBDeujhA"
   },
   "source": [
    "## Rete neurale"
   ]
  },
  {
   "cell_type": "code",
   "execution_count": 0,
   "metadata": {
    "colab": {},
    "colab_type": "code",
    "id": "p38v4Y6cSau6"
   },
   "outputs": [],
   "source": [
    "es = callbacks.EarlyStopping(monitor='val_loss',\n",
    "                              min_delta=0,\n",
    "                              patience=5,\n",
    "                              verbose=0, mode='auto')"
   ]
  },
  {
   "cell_type": "code",
   "execution_count": 5,
   "metadata": {
    "colab": {
     "base_uri": "https://localhost:8080/",
     "height": 523
    },
    "colab_type": "code",
    "id": "gfCmPXEtufmC",
    "outputId": "d5a6b67f-9b17-4cad-95da-a171db18e10e"
   },
   "outputs": [
    {
     "name": "stdout",
     "output_type": "stream",
     "text": [
      "WARNING:tensorflow:From /usr/local/lib/python3.6/dist-packages/keras/backend/tensorflow_backend.py:66: The name tf.get_default_graph is deprecated. Please use tf.compat.v1.get_default_graph instead.\n",
      "\n",
      "WARNING:tensorflow:From /usr/local/lib/python3.6/dist-packages/keras/backend/tensorflow_backend.py:541: The name tf.placeholder is deprecated. Please use tf.compat.v1.placeholder instead.\n",
      "\n",
      "WARNING:tensorflow:From /usr/local/lib/python3.6/dist-packages/keras/backend/tensorflow_backend.py:4432: The name tf.random_uniform is deprecated. Please use tf.random.uniform instead.\n",
      "\n",
      "WARNING:tensorflow:From /usr/local/lib/python3.6/dist-packages/keras/backend/tensorflow_backend.py:190: The name tf.get_default_session is deprecated. Please use tf.compat.v1.get_default_session instead.\n",
      "\n",
      "WARNING:tensorflow:From /usr/local/lib/python3.6/dist-packages/keras/backend/tensorflow_backend.py:197: The name tf.ConfigProto is deprecated. Please use tf.compat.v1.ConfigProto instead.\n",
      "\n",
      "WARNING:tensorflow:From /usr/local/lib/python3.6/dist-packages/keras/backend/tensorflow_backend.py:203: The name tf.Session is deprecated. Please use tf.compat.v1.Session instead.\n",
      "\n",
      "WARNING:tensorflow:From /usr/local/lib/python3.6/dist-packages/keras/backend/tensorflow_backend.py:207: The name tf.global_variables is deprecated. Please use tf.compat.v1.global_variables instead.\n",
      "\n",
      "WARNING:tensorflow:From /usr/local/lib/python3.6/dist-packages/keras/backend/tensorflow_backend.py:216: The name tf.is_variable_initialized is deprecated. Please use tf.compat.v1.is_variable_initialized instead.\n",
      "\n",
      "WARNING:tensorflow:From /usr/local/lib/python3.6/dist-packages/keras/backend/tensorflow_backend.py:223: The name tf.variables_initializer is deprecated. Please use tf.compat.v1.variables_initializer instead.\n",
      "\n",
      "WARNING:tensorflow:From /usr/local/lib/python3.6/dist-packages/keras/backend/tensorflow_backend.py:2041: The name tf.nn.fused_batch_norm is deprecated. Please use tf.compat.v1.nn.fused_batch_norm instead.\n",
      "\n",
      "WARNING:tensorflow:From /usr/local/lib/python3.6/dist-packages/keras/backend/tensorflow_backend.py:148: The name tf.placeholder_with_default is deprecated. Please use tf.compat.v1.placeholder_with_default instead.\n",
      "\n",
      "WARNING:tensorflow:From /usr/local/lib/python3.6/dist-packages/keras/backend/tensorflow_backend.py:4267: The name tf.nn.max_pool is deprecated. Please use tf.nn.max_pool2d instead.\n",
      "\n",
      "WARNING:tensorflow:From /usr/local/lib/python3.6/dist-packages/keras/backend/tensorflow_backend.py:3733: calling dropout (from tensorflow.python.ops.nn_ops) with keep_prob is deprecated and will be removed in a future version.\n",
      "Instructions for updating:\n",
      "Please use `rate` instead of `keep_prob`. Rate should be set to `rate = 1 - keep_prob`.\n"
     ]
    }
   ],
   "source": [
    "model = models.Sequential()\n",
    "\n",
    "model.add(layers.Conv2D(16, (3,3), input_shape = (IMG_SIZE, IMG_SIZE, 1), activation = \"relu\"))\n",
    "model.add(layers.BatchNormalization())\n",
    "model.add(layers.Conv2D(16, (3,3), activation = \"relu\"))\n",
    "model.add(layers.BatchNormalization())\n",
    "model.add(layers.MaxPool2D(pool_size=(2,2)))\n",
    "\n",
    "\n",
    "model.add(layers.Conv2D(16, (3,3), activation = \"relu\"))\n",
    "model.add(layers.BatchNormalization())\n",
    "model.add(layers.Conv2D(8, (3,3), activation = \"relu\"))\n",
    "model.add(layers.BatchNormalization())\n",
    "model.add(layers.MaxPool2D(pool_size=(2,2)))\n",
    "\n",
    "\n",
    "model.add(layers.Flatten())\n",
    "model.add(layers.Dropout(0.5))\n",
    "model.add(layers.Dense(10, activation = \"softmax\"))"
   ]
  },
  {
   "cell_type": "code",
   "execution_count": 7,
   "metadata": {
    "colab": {
     "base_uri": "https://localhost:8080/",
     "height": 629
    },
    "colab_type": "code",
    "id": "eqU54ciBuqxf",
    "outputId": "7ad1e9bd-4167-46b4-f161-4757bfe9ccbd"
   },
   "outputs": [
    {
     "name": "stdout",
     "output_type": "stream",
     "text": [
      "Model: \"sequential_1\"\n",
      "_________________________________________________________________\n",
      "Layer (type)                 Output Shape              Param #   \n",
      "=================================================================\n",
      "conv2d_1 (Conv2D)            (None, 26, 26, 16)        160       \n",
      "_________________________________________________________________\n",
      "batch_normalization_1 (Batch (None, 26, 26, 16)        64        \n",
      "_________________________________________________________________\n",
      "conv2d_2 (Conv2D)            (None, 24, 24, 16)        2320      \n",
      "_________________________________________________________________\n",
      "batch_normalization_2 (Batch (None, 24, 24, 16)        64        \n",
      "_________________________________________________________________\n",
      "max_pooling2d_1 (MaxPooling2 (None, 12, 12, 16)        0         \n",
      "_________________________________________________________________\n",
      "conv2d_3 (Conv2D)            (None, 10, 10, 16)        2320      \n",
      "_________________________________________________________________\n",
      "batch_normalization_3 (Batch (None, 10, 10, 16)        64        \n",
      "_________________________________________________________________\n",
      "conv2d_4 (Conv2D)            (None, 8, 8, 8)           1160      \n",
      "_________________________________________________________________\n",
      "batch_normalization_4 (Batch (None, 8, 8, 8)           32        \n",
      "_________________________________________________________________\n",
      "max_pooling2d_2 (MaxPooling2 (None, 4, 4, 8)           0         \n",
      "_________________________________________________________________\n",
      "flatten_1 (Flatten)          (None, 128)               0         \n",
      "_________________________________________________________________\n",
      "dropout_1 (Dropout)          (None, 128)               0         \n",
      "_________________________________________________________________\n",
      "dense_1 (Dense)              (None, 10)                1290      \n",
      "=================================================================\n",
      "Total params: 7,474\n",
      "Trainable params: 7,362\n",
      "Non-trainable params: 112\n",
      "_________________________________________________________________\n"
     ]
    }
   ],
   "source": [
    "model.summary()"
   ]
  },
  {
   "cell_type": "code",
   "execution_count": 0,
   "metadata": {
    "colab": {},
    "colab_type": "code",
    "id": "sq3MnWQRu4r7"
   },
   "outputs": [],
   "source": [
    "model.compile(loss = \"sparse_categorical_crossentropy\",\n",
    "              optimizer = optimizers.rmsprop(lr=0.0001),\n",
    "              metrics = [\"acc\"])"
   ]
  },
  {
   "cell_type": "code",
   "execution_count": 0,
   "metadata": {
    "colab": {
     "base_uri": "https://localhost:8080/",
     "height": 1000
    },
    "colab_type": "code",
    "id": "upRo0L1-u-Cd",
    "outputId": "3748b723-ee83-4227-b969-9ba38a418079"
   },
   "outputs": [
    {
     "name": "stdout",
     "output_type": "stream",
     "text": [
      "Train on 42000 samples, validate on 18000 samples\n",
      "Epoch 1/100\n",
      "42000/42000 [==============================] - 12s 286us/step - loss: 2.2492 - acc: 0.3879 - val_loss: 0.6375 - val_acc: 0.8039\n",
      "Epoch 2/100\n",
      "42000/42000 [==============================] - 10s 237us/step - loss: 0.8732 - acc: 0.7100 - val_loss: 0.2979 - val_acc: 0.9167\n",
      "Epoch 3/100\n",
      "42000/42000 [==============================] - 10s 236us/step - loss: 0.5031 - acc: 0.8368 - val_loss: 0.1989 - val_acc: 0.9428\n",
      "Epoch 4/100\n",
      "42000/42000 [==============================] - 10s 237us/step - loss: 0.3566 - acc: 0.8882 - val_loss: 0.1523 - val_acc: 0.9552\n",
      "Epoch 5/100\n",
      "42000/42000 [==============================] - 10s 237us/step - loss: 0.2790 - acc: 0.9139 - val_loss: 0.1272 - val_acc: 0.9619\n",
      "Epoch 6/100\n",
      "42000/42000 [==============================] - 10s 237us/step - loss: 0.2371 - acc: 0.9266 - val_loss: 0.1102 - val_acc: 0.9668\n",
      "Epoch 7/100\n",
      "42000/42000 [==============================] - 10s 239us/step - loss: 0.2047 - acc: 0.9360 - val_loss: 0.0996 - val_acc: 0.9708\n",
      "Epoch 8/100\n",
      "42000/42000 [==============================] - 10s 238us/step - loss: 0.1873 - acc: 0.9418 - val_loss: 0.0910 - val_acc: 0.9724\n",
      "Epoch 9/100\n",
      "42000/42000 [==============================] - 10s 239us/step - loss: 0.1694 - acc: 0.9474 - val_loss: 0.0831 - val_acc: 0.9752\n",
      "Epoch 10/100\n",
      "42000/42000 [==============================] - 10s 240us/step - loss: 0.1528 - acc: 0.9520 - val_loss: 0.0782 - val_acc: 0.9764\n",
      "Epoch 11/100\n",
      "42000/42000 [==============================] - 10s 238us/step - loss: 0.1437 - acc: 0.9564 - val_loss: 0.0725 - val_acc: 0.9778\n",
      "Epoch 12/100\n",
      "42000/42000 [==============================] - 10s 237us/step - loss: 0.1347 - acc: 0.9604 - val_loss: 0.0699 - val_acc: 0.9787\n",
      "Epoch 13/100\n",
      "42000/42000 [==============================] - 10s 239us/step - loss: 0.1335 - acc: 0.9587 - val_loss: 0.0664 - val_acc: 0.9799\n",
      "Epoch 14/100\n",
      "42000/42000 [==============================] - 10s 240us/step - loss: 0.1214 - acc: 0.9629 - val_loss: 0.0644 - val_acc: 0.9807\n",
      "Epoch 15/100\n",
      "42000/42000 [==============================] - 10s 240us/step - loss: 0.1156 - acc: 0.9649 - val_loss: 0.0628 - val_acc: 0.9804\n",
      "Epoch 16/100\n",
      "42000/42000 [==============================] - 10s 239us/step - loss: 0.1124 - acc: 0.9648 - val_loss: 0.0600 - val_acc: 0.9813\n",
      "Epoch 17/100\n",
      "42000/42000 [==============================] - 10s 240us/step - loss: 0.1061 - acc: 0.9672 - val_loss: 0.0587 - val_acc: 0.9821\n",
      "Epoch 18/100\n",
      "42000/42000 [==============================] - 10s 240us/step - loss: 0.1030 - acc: 0.9682 - val_loss: 0.0566 - val_acc: 0.9826\n",
      "Epoch 19/100\n",
      "42000/42000 [==============================] - 10s 239us/step - loss: 0.1005 - acc: 0.9678 - val_loss: 0.0555 - val_acc: 0.9825\n",
      "Epoch 20/100\n",
      "42000/42000 [==============================] - 10s 240us/step - loss: 0.0974 - acc: 0.9690 - val_loss: 0.0534 - val_acc: 0.9839\n",
      "Epoch 21/100\n",
      "42000/42000 [==============================] - 10s 240us/step - loss: 0.0933 - acc: 0.9712 - val_loss: 0.0531 - val_acc: 0.9835\n",
      "Epoch 22/100\n",
      "42000/42000 [==============================] - 10s 239us/step - loss: 0.0916 - acc: 0.9711 - val_loss: 0.0510 - val_acc: 0.9844\n",
      "Epoch 23/100\n",
      "42000/42000 [==============================] - 10s 238us/step - loss: 0.0902 - acc: 0.9715 - val_loss: 0.0501 - val_acc: 0.9847\n",
      "Epoch 24/100\n",
      "42000/42000 [==============================] - 10s 239us/step - loss: 0.0873 - acc: 0.9725 - val_loss: 0.0480 - val_acc: 0.9849\n",
      "Epoch 25/100\n",
      "42000/42000 [==============================] - 10s 239us/step - loss: 0.0849 - acc: 0.9737 - val_loss: 0.0485 - val_acc: 0.9849\n",
      "Epoch 26/100\n",
      "42000/42000 [==============================] - 10s 238us/step - loss: 0.0826 - acc: 0.9743 - val_loss: 0.0476 - val_acc: 0.9848\n",
      "Epoch 27/100\n",
      "42000/42000 [==============================] - 10s 240us/step - loss: 0.0808 - acc: 0.9743 - val_loss: 0.0495 - val_acc: 0.9849\n",
      "Epoch 28/100\n",
      "42000/42000 [==============================] - 10s 239us/step - loss: 0.0790 - acc: 0.9749 - val_loss: 0.0463 - val_acc: 0.9858\n",
      "Epoch 29/100\n",
      "42000/42000 [==============================] - 10s 238us/step - loss: 0.0789 - acc: 0.9743 - val_loss: 0.0459 - val_acc: 0.9852\n",
      "Epoch 30/100\n",
      "42000/42000 [==============================] - 10s 239us/step - loss: 0.0774 - acc: 0.9760 - val_loss: 0.0450 - val_acc: 0.9858\n",
      "Epoch 31/100\n",
      "42000/42000 [==============================] - 10s 239us/step - loss: 0.0748 - acc: 0.9765 - val_loss: 0.0461 - val_acc: 0.9859\n",
      "Epoch 32/100\n",
      "42000/42000 [==============================] - 10s 239us/step - loss: 0.0723 - acc: 0.9774 - val_loss: 0.0462 - val_acc: 0.9855\n",
      "Epoch 33/100\n",
      "42000/42000 [==============================] - 10s 240us/step - loss: 0.0732 - acc: 0.9765 - val_loss: 0.0447 - val_acc: 0.9861\n",
      "Epoch 34/100\n",
      "42000/42000 [==============================] - 10s 240us/step - loss: 0.0692 - acc: 0.9774 - val_loss: 0.0432 - val_acc: 0.9864\n",
      "Epoch 35/100\n",
      "42000/42000 [==============================] - 10s 238us/step - loss: 0.0722 - acc: 0.9779 - val_loss: 0.0441 - val_acc: 0.9865\n",
      "Epoch 36/100\n",
      "42000/42000 [==============================] - 10s 238us/step - loss: 0.0684 - acc: 0.9780 - val_loss: 0.0423 - val_acc: 0.9864\n",
      "Epoch 37/100\n",
      "42000/42000 [==============================] - 10s 238us/step - loss: 0.0659 - acc: 0.9787 - val_loss: 0.0421 - val_acc: 0.9868\n",
      "Epoch 38/100\n",
      "42000/42000 [==============================] - 10s 239us/step - loss: 0.0689 - acc: 0.9778 - val_loss: 0.0422 - val_acc: 0.9870\n",
      "Epoch 39/100\n",
      "42000/42000 [==============================] - 10s 240us/step - loss: 0.0650 - acc: 0.9796 - val_loss: 0.0415 - val_acc: 0.9873\n",
      "Epoch 40/100\n",
      "42000/42000 [==============================] - 10s 240us/step - loss: 0.0644 - acc: 0.9796 - val_loss: 0.0412 - val_acc: 0.9872\n",
      "Epoch 41/100\n",
      "42000/42000 [==============================] - 10s 239us/step - loss: 0.0634 - acc: 0.9806 - val_loss: 0.0404 - val_acc: 0.9876\n",
      "Epoch 42/100\n",
      "42000/42000 [==============================] - 10s 239us/step - loss: 0.0626 - acc: 0.9803 - val_loss: 0.0400 - val_acc: 0.9873\n",
      "Epoch 43/100\n",
      "42000/42000 [==============================] - 10s 239us/step - loss: 0.0632 - acc: 0.9798 - val_loss: 0.0397 - val_acc: 0.9874\n",
      "Epoch 44/100\n",
      "42000/42000 [==============================] - 10s 239us/step - loss: 0.0618 - acc: 0.9806 - val_loss: 0.0398 - val_acc: 0.9873\n",
      "Epoch 45/100\n",
      "42000/42000 [==============================] - 10s 239us/step - loss: 0.0610 - acc: 0.9803 - val_loss: 0.0391 - val_acc: 0.9877\n",
      "Epoch 46/100\n",
      "42000/42000 [==============================] - 10s 239us/step - loss: 0.0619 - acc: 0.9804 - val_loss: 0.0398 - val_acc: 0.9871\n",
      "Epoch 47/100\n",
      "42000/42000 [==============================] - 10s 238us/step - loss: 0.0596 - acc: 0.9814 - val_loss: 0.0388 - val_acc: 0.9886\n",
      "Epoch 48/100\n",
      "42000/42000 [==============================] - 10s 238us/step - loss: 0.0614 - acc: 0.9800 - val_loss: 0.0383 - val_acc: 0.9882\n",
      "Epoch 49/100\n",
      "42000/42000 [==============================] - 10s 238us/step - loss: 0.0583 - acc: 0.9805 - val_loss: 0.0395 - val_acc: 0.9876\n",
      "Epoch 50/100\n",
      "42000/42000 [==============================] - 10s 238us/step - loss: 0.0587 - acc: 0.9811 - val_loss: 0.0377 - val_acc: 0.9884\n",
      "Epoch 51/100\n",
      "42000/42000 [==============================] - 10s 238us/step - loss: 0.0589 - acc: 0.9815 - val_loss: 0.0378 - val_acc: 0.9884\n",
      "Epoch 52/100\n",
      "42000/42000 [==============================] - 10s 241us/step - loss: 0.0553 - acc: 0.9817 - val_loss: 0.0375 - val_acc: 0.9882\n",
      "Epoch 53/100\n",
      "42000/42000 [==============================] - 10s 239us/step - loss: 0.0566 - acc: 0.9813 - val_loss: 0.0386 - val_acc: 0.9879\n",
      "Epoch 54/100\n",
      "42000/42000 [==============================] - 10s 238us/step - loss: 0.0557 - acc: 0.9827 - val_loss: 0.0368 - val_acc: 0.9884\n",
      "Epoch 55/100\n",
      "42000/42000 [==============================] - 10s 237us/step - loss: 0.0548 - acc: 0.9825 - val_loss: 0.0371 - val_acc: 0.9883\n",
      "Epoch 56/100\n",
      "42000/42000 [==============================] - 10s 237us/step - loss: 0.0567 - acc: 0.9822 - val_loss: 0.0368 - val_acc: 0.9884\n",
      "Epoch 57/100\n",
      "42000/42000 [==============================] - 10s 239us/step - loss: 0.0547 - acc: 0.9825 - val_loss: 0.0364 - val_acc: 0.9893\n",
      "Epoch 58/100\n",
      "42000/42000 [==============================] - 10s 240us/step - loss: 0.0527 - acc: 0.9832 - val_loss: 0.0376 - val_acc: 0.9884\n",
      "Epoch 59/100\n",
      "42000/42000 [==============================] - 10s 238us/step - loss: 0.0516 - acc: 0.9831 - val_loss: 0.0388 - val_acc: 0.9877\n",
      "Epoch 60/100\n",
      "42000/42000 [==============================] - 10s 239us/step - loss: 0.0517 - acc: 0.9830 - val_loss: 0.0372 - val_acc: 0.9888\n",
      "Epoch 61/100\n",
      "42000/42000 [==============================] - 10s 240us/step - loss: 0.0535 - acc: 0.9830 - val_loss: 0.0361 - val_acc: 0.9891\n",
      "Epoch 62/100\n",
      "42000/42000 [==============================] - 10s 239us/step - loss: 0.0524 - acc: 0.9830 - val_loss: 0.0372 - val_acc: 0.9886\n",
      "Epoch 63/100\n",
      "42000/42000 [==============================] - 10s 240us/step - loss: 0.0506 - acc: 0.9835 - val_loss: 0.0377 - val_acc: 0.9881\n",
      "Epoch 64/100\n",
      "42000/42000 [==============================] - 10s 240us/step - loss: 0.0518 - acc: 0.9834 - val_loss: 0.0373 - val_acc: 0.9884\n",
      "Epoch 65/100\n",
      "42000/42000 [==============================] - 10s 240us/step - loss: 0.0512 - acc: 0.9830 - val_loss: 0.0354 - val_acc: 0.9889\n",
      "Epoch 66/100\n",
      "42000/42000 [==============================] - 10s 238us/step - loss: 0.0484 - acc: 0.9840 - val_loss: 0.0365 - val_acc: 0.9890\n",
      "Epoch 67/100\n",
      "42000/42000 [==============================] - 10s 239us/step - loss: 0.0480 - acc: 0.9845 - val_loss: 0.0362 - val_acc: 0.9891\n",
      "Epoch 68/100\n",
      "42000/42000 [==============================] - 10s 239us/step - loss: 0.0511 - acc: 0.9835 - val_loss: 0.0372 - val_acc: 0.9887\n",
      "Epoch 69/100\n",
      "42000/42000 [==============================] - 10s 240us/step - loss: 0.0505 - acc: 0.9831 - val_loss: 0.0350 - val_acc: 0.9893\n",
      "Epoch 70/100\n",
      "42000/42000 [==============================] - 10s 240us/step - loss: 0.0481 - acc: 0.9840 - val_loss: 0.0351 - val_acc: 0.9890\n",
      "Epoch 71/100\n",
      "42000/42000 [==============================] - 10s 239us/step - loss: 0.0477 - acc: 0.9848 - val_loss: 0.0354 - val_acc: 0.9893\n",
      "Epoch 72/100\n",
      "42000/42000 [==============================] - 10s 239us/step - loss: 0.0474 - acc: 0.9845 - val_loss: 0.0359 - val_acc: 0.9891\n",
      "Epoch 73/100\n",
      "42000/42000 [==============================] - 10s 239us/step - loss: 0.0462 - acc: 0.9847 - val_loss: 0.0359 - val_acc: 0.9893\n",
      "Epoch 74/100\n",
      "42000/42000 [==============================] - 10s 238us/step - loss: 0.0467 - acc: 0.9849 - val_loss: 0.0348 - val_acc: 0.9897\n",
      "Epoch 75/100\n",
      "42000/42000 [==============================] - 10s 240us/step - loss: 0.0472 - acc: 0.9849 - val_loss: 0.0341 - val_acc: 0.9902\n",
      "Epoch 76/100\n",
      "42000/42000 [==============================] - 10s 239us/step - loss: 0.0472 - acc: 0.9845 - val_loss: 0.0349 - val_acc: 0.9895\n",
      "Epoch 77/100\n",
      "42000/42000 [==============================] - 10s 238us/step - loss: 0.0470 - acc: 0.9853 - val_loss: 0.0345 - val_acc: 0.9893\n",
      "Epoch 78/100\n",
      "42000/42000 [==============================] - 10s 238us/step - loss: 0.0439 - acc: 0.9851 - val_loss: 0.0355 - val_acc: 0.9890\n",
      "Epoch 79/100\n",
      "42000/42000 [==============================] - 10s 239us/step - loss: 0.0456 - acc: 0.9850 - val_loss: 0.0342 - val_acc: 0.9902\n",
      "Epoch 80/100\n",
      "42000/42000 [==============================] - 10s 240us/step - loss: 0.0451 - acc: 0.9851 - val_loss: 0.0335 - val_acc: 0.9899\n",
      "Epoch 81/100\n",
      "42000/42000 [==============================] - 10s 239us/step - loss: 0.0442 - acc: 0.9858 - val_loss: 0.0348 - val_acc: 0.9898\n",
      "Epoch 82/100\n",
      "42000/42000 [==============================] - 10s 239us/step - loss: 0.0439 - acc: 0.9860 - val_loss: 0.0341 - val_acc: 0.9896\n",
      "Epoch 83/100\n",
      "42000/42000 [==============================] - 10s 242us/step - loss: 0.0455 - acc: 0.9856 - val_loss: 0.0340 - val_acc: 0.9899\n",
      "Epoch 84/100\n",
      "42000/42000 [==============================] - 10s 239us/step - loss: 0.0445 - acc: 0.9858 - val_loss: 0.0350 - val_acc: 0.9896\n",
      "Epoch 85/100\n",
      "42000/42000 [==============================] - 10s 239us/step - loss: 0.0440 - acc: 0.9856 - val_loss: 0.0345 - val_acc: 0.9903\n"
     ]
    }
   ],
   "source": [
    "history = model.fit(X_train, y_train, \n",
    "          batch_size = 64, \n",
    "          epochs = 100, \n",
    "          validation_split = 0.3,\n",
    "          callbacks = [es])"
   ]
  },
  {
   "cell_type": "code",
   "execution_count": 0,
   "metadata": {
    "colab": {
     "base_uri": "https://localhost:8080/",
     "height": 541
    },
    "colab_type": "code",
    "id": "htJeem6QvBaL",
    "outputId": "178abd34-929d-454c-c0d4-746943bfddfe"
   },
   "outputs": [
    {
     "data": {
      "image/png": "[encoded data removed]",
      "text/plain": [
       "<Figure size 432x288 with 1 Axes>"
      ]
     },
     "metadata": {
      "tags": []
     },
     "output_type": "display_data"
    },
    {
     "data": {
      "image/png": "[encoded data removed]",
      "text/plain": [
       "<Figure size 432x288 with 1 Axes>"
      ]
     },
     "metadata": {
      "tags": []
     },
     "output_type": "display_data"
    }
   ],
   "source": [
    "x_plot = list(range(1,history.epoch[-1]+2))\n",
    "\n",
    "def plot_history(network_history):\n",
    "    plt.figure()\n",
    "    plt.xlabel('Epochs')\n",
    "    plt.ylabel('Loss')\n",
    "    plt.plot(x_plot, network_history.history['loss'])\n",
    "    plt.plot(x_plot, network_history.history['val_loss'])\n",
    "    plt.legend(['Training', 'Validation'])\n",
    "    \n",
    "    plt.figure()\n",
    "    plt.xlabel('Epochs')\n",
    "    plt.ylabel('Accuracy')\n",
    "    plt.plot(x_plot, network_history.history['acc'])\n",
    "    plt.plot(x_plot, network_history.history['val_acc'])\n",
    "    plt.legend(['Training', 'Validation'])\n",
    "\n",
    "    \n",
    "plot_history(history)"
   ]
  },
  {
   "cell_type": "code",
   "execution_count": 0,
   "metadata": {
    "colab": {
     "base_uri": "https://localhost:8080/",
     "height": 71
    },
    "colab_type": "code",
    "id": "rauvhxMaAPNb",
    "outputId": "53ed56b6-6cc0-4d70-fbef-0549fc0d5cb7"
   },
   "outputs": [
    {
     "name": "stdout",
     "output_type": "stream",
     "text": [
      "10000/10000 [==============================] - 1s 120us/step\n",
      "TEST LOSS: 0.026889830066691503\n",
      "TEST ACCURACY: 0.9913\n"
     ]
    }
   ],
   "source": [
    "test_loss, test_acc = model.evaluate(X_test, y_test)\n",
    "print(\"TEST LOSS:\", test_loss)\n",
    "print(\"TEST ACCURACY:\", test_acc)"
   ]
  },
  {
   "cell_type": "code",
   "execution_count": 0,
   "metadata": {
    "colab": {
     "base_uri": "https://localhost:8080/",
     "height": 323
    },
    "colab_type": "code",
    "id": "EhBIVlI6R3Uu",
    "outputId": "223d796b-13bf-4200-ec59-9aebb4182d2b"
   },
   "outputs": [
    {
     "name": "stdout",
     "output_type": "stream",
     "text": [
      "              precision    recall  f1-score   support\n",
      "\n",
      "           0       0.99      0.99      0.99       980\n",
      "           1       0.99      1.00      0.99      1135\n",
      "           2       0.99      0.99      0.99      1032\n",
      "           3       0.99      1.00      0.99      1010\n",
      "           4       0.99      0.98      0.99       982\n",
      "           5       0.99      0.99      0.99       892\n",
      "           6       0.99      0.98      0.99       958\n",
      "           7       0.98      0.99      0.99      1028\n",
      "           8       0.99      0.99      0.99       974\n",
      "           9       0.99      0.98      0.98      1009\n",
      "\n",
      "    accuracy                           0.99     10000\n",
      "   macro avg       0.99      0.99      0.99     10000\n",
      "weighted avg       0.99      0.99      0.99     10000\n",
      "\n"
     ]
    }
   ],
   "source": [
    "y_test_pred = model.predict_classes(X_test)\n",
    "print(classification_report(y_test, y_test_pred))"
   ]
  }
 ],
 "metadata": {
  "accelerator": "GPU",
  "colab": {
   "collapsed_sections": [],
   "name": "Assignmnet_3.ipynb",
   "provenance": [],
   "toc_visible": true
  },
  "kernelspec": {
   "display_name": "Python 3",
   "language": "python",
   "name": "python3"
  },
  "language_info": {
   "codemirror_mode": {
    "name": "ipython",
    "version": 3
   },
   "file_extension": ".py",
   "mimetype": "text/x-python",
   "name": "python",
   "nbconvert_exporter": "python",
   "pygments_lexer": "ipython3",
   "version": "3.7.4"
  }
 },
 "nbformat": 4,
 "nbformat_minor": 1
}
