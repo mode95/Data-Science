{
 "cells": [
  {
   "cell_type": "code",
   "execution_count": 163,
   "metadata": {},
   "outputs": [],
   "source": [
    "import pandas as pd\n",
    "import pickle\n",
    "import numpy as np\n",
    "import matplotlib.pyplot as plt\n",
    "import seaborn as sns\n",
    "from tqdm import tqdm\n",
    "\n",
    "from sklearn.model_selection import train_test_split\n",
    "from sklearn.metrics import classification_report\n",
    "\n",
    "\n",
    "from keras import layers\n",
    "from keras import models\n",
    "from keras import optimizers"
   ]
  },
  {
   "cell_type": "markdown",
   "metadata": {},
   "source": [
    "## Carico dati"
   ]
  },
  {
   "cell_type": "code",
   "execution_count": 126,
   "metadata": {},
   "outputs": [],
   "source": [
    "X_train = pickle.load(open(\"x_train.obj\", \"rb\"))\n",
    "\n",
    "#X_test = pickle.load(open(\"x_test.obj\", \"rb\"))\n",
    "\n",
    "y_train = pickle.load(open(\"y_train.obj\", \"rb\"))"
   ]
  },
  {
   "cell_type": "code",
   "execution_count": 127,
   "metadata": {},
   "outputs": [
    {
     "name": "stdout",
     "output_type": "stream",
     "text": [
      "(14000, 28, 28)\n",
      "(14000,)\n"
     ]
    }
   ],
   "source": [
    "print(X_train.shape)\n",
    "\n",
    "print(y_train.shape)"
   ]
  },
  {
   "cell_type": "code",
   "execution_count": 128,
   "metadata": {},
   "outputs": [],
   "source": [
    "X_train, X_test, y_train, y_test =  train_test_split(X_train, y_train, test_size = 0.3, stratify = y_train, random_state = 123)"
   ]
  },
  {
   "cell_type": "code",
   "execution_count": 129,
   "metadata": {},
   "outputs": [
    {
     "data": {
      "text/plain": [
       "<matplotlib.image.AxesImage at 0x7f53f6ac5cc0>"
      ]
     },
     "execution_count": 129,
     "metadata": {},
     "output_type": "execute_result"
    },
    {
     "data": {
      "image/png": "[encoded data removed]",
      "text/plain": [
       "<Figure size 432x288 with 1 Axes>"
      ]
     },
     "metadata": {},
     "output_type": "display_data"
    }
   ],
   "source": [
    "plt.imshow(X_train[0], cmap=\"gray\") # Lettera s"
   ]
  },
  {
   "cell_type": "code",
   "execution_count": 130,
   "metadata": {},
   "outputs": [
    {
     "name": "stdout",
     "output_type": "stream",
     "text": [
      "19\n"
     ]
    }
   ],
   "source": [
    "print(y_train[0]) # Lettera s"
   ]
  },
  {
   "cell_type": "code",
   "execution_count": 131,
   "metadata": {},
   "outputs": [
    {
     "data": {
      "text/plain": [
       "array([19, 22, 23, ..., 17, 21, 21], dtype=uint8)"
      ]
     },
     "execution_count": 131,
     "metadata": {},
     "output_type": "execute_result"
    }
   ],
   "source": [
    "y_train # è gia mescolato il datset"
   ]
  },
  {
   "cell_type": "code",
   "execution_count": 132,
   "metadata": {},
   "outputs": [],
   "source": [
    "target = pd.DataFrame(y_train)\n",
    "target.columns = [\"TARGET\"]"
   ]
  },
  {
   "cell_type": "code",
   "execution_count": 133,
   "metadata": {},
   "outputs": [
    {
     "data": {
      "text/plain": [
       "<matplotlib.axes._subplots.AxesSubplot at 0x7f53f6b01390>"
      ]
     },
     "execution_count": 133,
     "metadata": {},
     "output_type": "execute_result"
    },
    {
     "data": {
      "image/png": "[encoded data removed]",
      "text/plain": [
       "<Figure size 432x288 with 1 Axes>"
      ]
     },
     "metadata": {},
     "output_type": "display_data"
    }
   ],
   "source": [
    "sns.barplot(target[\"TARGET\"].value_counts().index, target[\"TARGET\"].value_counts().values, palette=\"Set1\")\n",
    "\n",
    "## nella variabile obiettivo non c'è troppa sproporzione"
   ]
  },
  {
   "cell_type": "markdown",
   "metadata": {},
   "source": [
    "## Reshape e normalizzazione colore"
   ]
  },
  {
   "cell_type": "code",
   "execution_count": 134,
   "metadata": {},
   "outputs": [],
   "source": [
    "IMG_SIZE = 28\n",
    "X_train = X_train.reshape(-1, IMG_SIZE,IMG_SIZE, 1)\n",
    "X_train = X_train/255.0\n",
    "\n",
    "X_test = X_test.reshape(-1, IMG_SIZE, IMG_SIZE, 1)\n",
    "X_test = X_test/255.0"
   ]
  },
  {
   "cell_type": "code",
   "execution_count": 135,
   "metadata": {},
   "outputs": [],
   "source": [
    "y_train = pd.Series(y_train) - 16\n",
    "y_test = pd.Series(y_test) - 16"
   ]
  },
  {
   "cell_type": "markdown",
   "metadata": {},
   "source": [
    "## Rete Neurale"
   ]
  },
  {
   "cell_type": "code",
   "execution_count": 190,
   "metadata": {},
   "outputs": [],
   "source": [
    "model = models.Sequential()\n",
    "\n",
    "model.add(layers.Conv2D(32, (3,3), input_shape=(IMG_SIZE, IMG_SIZE, 1), activation=\"relu\"))\n",
    "model.add(layers.MaxPool2D(pool_size=(2,2)))\n",
    "model.add(layers.Dropout(0.2))\n",
    "model.add(layers.Conv2D(32, (3,3), activation=\"relu\"))\n",
    "model.add(layers.MaxPool2D(pool_size=(2,2)))\n",
    "model.add(layers.Dropout(0.2))\n",
    "model.add(layers.Flatten())\n",
    "model.add(layers.Dense(11, activation = \"sigmoid\"))"
   ]
  },
  {
   "cell_type": "code",
   "execution_count": 191,
   "metadata": {},
   "outputs": [],
   "source": [
    "model.compile(loss = \"sparse_categorical_crossentropy\",\n",
    "              optimizer = \"adam\",\n",
    "              metrics = [\"acc\"])"
   ]
  },
  {
   "cell_type": "code",
   "execution_count": 192,
   "metadata": {},
   "outputs": [
    {
     "name": "stdout",
     "output_type": "stream",
     "text": [
      "Train on 6860 samples, validate on 2940 samples\n",
      "Epoch 1/10\n",
      "6860/6860 [==============================] - 9s 1ms/step - loss: 1.1503 - acc: 0.6292 - val_loss: 0.5883 - val_acc: 0.8224\n",
      "Epoch 2/10\n",
      "6860/6860 [==============================] - 7s 1ms/step - loss: 0.5505 - acc: 0.8270 - val_loss: 0.4076 - val_acc: 0.8759\n",
      "Epoch 3/10\n",
      "6860/6860 [==============================] - 11s 2ms/step - loss: 0.3997 - acc: 0.8723 - val_loss: 0.3077 - val_acc: 0.9085\n",
      "Epoch 4/10\n",
      "6860/6860 [==============================] - 12s 2ms/step - loss: 0.3191 - acc: 0.9006 - val_loss: 0.2633 - val_acc: 0.9228\n",
      "Epoch 5/10\n",
      "6860/6860 [==============================] - 11s 2ms/step - loss: 0.2780 - acc: 0.9128 - val_loss: 0.2566 - val_acc: 0.9269\n",
      "Epoch 6/10\n",
      "6860/6860 [==============================] - 13s 2ms/step - loss: 0.2497 - acc: 0.9270 - val_loss: 0.2299 - val_acc: 0.9327\n",
      "Epoch 7/10\n",
      "6860/6860 [==============================] - 12s 2ms/step - loss: 0.2215 - acc: 0.9324 - val_loss: 0.2085 - val_acc: 0.9422\n",
      "Epoch 8/10\n",
      "6860/6860 [==============================] - 10s 1ms/step - loss: 0.2051 - acc: 0.9379 - val_loss: 0.2064 - val_acc: 0.9395\n",
      "Epoch 9/10\n",
      "6860/6860 [==============================] - 12s 2ms/step - loss: 0.1957 - acc: 0.9388 - val_loss: 0.1972 - val_acc: 0.9412\n",
      "Epoch 10/10\n",
      "6860/6860 [==============================] - 10s 1ms/step - loss: 0.1863 - acc: 0.9426 - val_loss: 0.1904 - val_acc: 0.9456\n"
     ]
    }
   ],
   "source": [
    "history = model.fit(X_train, y_train, \n",
    "          batch_size = 32, \n",
    "          epochs = 10, \n",
    "          validation_split = 0.3)"
   ]
  },
  {
   "cell_type": "code",
   "execution_count": 193,
   "metadata": {},
   "outputs": [
    {
     "data": {
      "image/png": "[encoded data removed]",
      "text/plain": [
       "<Figure size 432x288 with 1 Axes>"
      ]
     },
     "metadata": {},
     "output_type": "display_data"
    },
    {
     "data": {
      "image/png": "[encoded data removed]",
      "text/plain": [
       "<Figure size 432x288 with 1 Axes>"
      ]
     },
     "metadata": {},
     "output_type": "display_data"
    }
   ],
   "source": [
    "x_plot = list(range(1,history.epoch[-1]+2))\n",
    "\n",
    "def plot_history(network_history):\n",
    "    plt.figure()\n",
    "    plt.xlabel('Epochs')\n",
    "    plt.ylabel('Loss')\n",
    "    plt.plot(x_plot, network_history.history['loss'])\n",
    "    plt.plot(x_plot, network_history.history['val_loss'])\n",
    "    plt.legend(['Training', 'Validation'])\n",
    "    \n",
    "    plt.figure()\n",
    "    plt.xlabel('Epochs')\n",
    "    plt.ylabel('Accuracy')\n",
    "    plt.plot(x_plot, network_history.history['acc'])\n",
    "    plt.plot(x_plot, network_history.history['val_acc'])\n",
    "    plt.legend(['Training', 'Validation'])\n",
    "\n",
    "    \n",
    "plot_history(history)"
   ]
  },
  {
   "cell_type": "code",
   "execution_count": 194,
   "metadata": {},
   "outputs": [
    {
     "name": "stdout",
     "output_type": "stream",
     "text": [
      "4200/4200 [==============================] - 1s 347us/step\n",
      "TEST LOSS: 0.18617912572054635\n",
      "TEST ACCURACY: 0.9457142857142857\n"
     ]
    }
   ],
   "source": [
    "test_loss, test_acc = model.evaluate(X_test, y_test, batch_size = 32)\n",
    "print(\"TEST LOSS:\", test_loss)\n",
    "print(\"TEST ACCURACY:\", test_acc)"
   ]
  },
  {
   "cell_type": "code",
   "execution_count": 174,
   "metadata": {},
   "outputs": [
    {
     "name": "stdout",
     "output_type": "stream",
     "text": [
      "             precision    recall  f1-score   support\n",
      "\n",
      "          0       0.97      0.94      0.95       388\n",
      "          1       0.92      0.93      0.93       379\n",
      "          2       0.92      0.91      0.91       404\n",
      "          3       0.98      0.99      0.98       399\n",
      "          4       0.92      0.95      0.94       401\n",
      "          5       0.90      0.93      0.92       389\n",
      "          6       0.87      0.90      0.88       381\n",
      "          7       0.97      0.92      0.94       398\n",
      "          8       0.93      0.95      0.94       397\n",
      "          9       0.92      0.89      0.91       396\n",
      "         10       0.96      0.97      0.96       268\n",
      "\n",
      "avg / total       0.93      0.93      0.93      4200\n",
      "\n"
     ]
    }
   ],
   "source": [
    "y_test_pred = model.predict_classes(X_test)\n",
    "print(classification_report(y_test, y_test_pred))"
   ]
  }
 ],
 "metadata": {
  "kernelspec": {
   "display_name": "Python 3",
   "language": "python",
   "name": "python3"
  },
  "language_info": {
   "codemirror_mode": {
    "name": "ipython",
    "version": 3
   },
   "file_extension": ".py",
   "mimetype": "text/x-python",
   "name": "python",
   "nbconvert_exporter": "python",
   "pygments_lexer": "ipython3",
   "version": "3.6.9"
  }
 },
 "nbformat": 4,
 "nbformat_minor": 2
}
