{
  "nbformat": 4,
  "nbformat_minor": 0,
  "metadata": {
    "colab": {
      "name": "Assignment_2.ipynb",
      "provenance": [],
      "collapsed_sections": [
        "54J0qphvB9k9"
      ],
      "toc_visible": true
    },
    "kernelspec": {
      "name": "python3",
      "display_name": "Python 3"
    },
    "accelerator": "GPU"
  },
  "cells": [
    {
      "cell_type": "code",
      "metadata": {
        "id": "3n2vF9Su8rF4",
        "colab_type": "code",
        "colab": {}
      },
      "source": [
        "import pandas as pd\n",
        "import pickle\n",
        "import numpy as np\n",
        "import matplotlib.pyplot as plt\n",
        "import seaborn as sns\n",
        "from tqdm import tqdm\n",
        "\n",
        "from sklearn.model_selection import train_test_split\n",
        "from sklearn.metrics import classification_report\n",
        "\n",
        "\n",
        "from keras import layers\n",
        "from keras import models\n",
        "from keras import optimizers\n",
        "from keras import utils\n",
        "from keras import callbacks\n",
        "from keras import regularizers"
      ],
      "execution_count": 0,
      "outputs": []
    },
    {
      "cell_type": "markdown",
      "metadata": {
        "id": "iUACdJVDVS8C",
        "colab_type": "text"
      },
      "source": [
        "## Dati"
      ]
    },
    {
      "cell_type": "code",
      "metadata": {
        "id": "CELaRzIptR2p",
        "colab_type": "code",
        "outputId": "085a1fac-cf24-4eee-c9b0-4dc62a35c94e",
        "colab": {
          "base_uri": "https://localhost:8080/",
          "height": 35
        }
      },
      "source": [
        "from google.colab import drive\n",
        "drive.mount('/content/drive')"
      ],
      "execution_count": 12,
      "outputs": [
        {
          "output_type": "stream",
          "text": [
            "Drive already mounted at /content/drive; to attempt to forcibly remount, call drive.mount(\"/content/drive\", force_remount=True).\n"
          ],
          "name": "stdout"
        }
      ]
    },
    {
      "cell_type": "code",
      "metadata": {
        "id": "8no1t1LkRfg5",
        "colab_type": "code",
        "colab": {}
      },
      "source": [
        "X_train = pickle.load(open(\"/content/drive/My Drive/AML/Assignment/Assignment_2/x_train.obj\", \"rb\"))\n",
        "\n",
        "X_test_fin = pickle.load(open(\"/content/drive/My Drive/AML/Assignment/Assignment_2/x_test.obj\", \"rb\"))\n",
        "\n",
        "y_train = pickle.load(open(\"/content/drive/My Drive/AML/Assignment/Assignment_2/y_train.obj\", \"rb\"))\n"
      ],
      "execution_count": 0,
      "outputs": []
    },
    {
      "cell_type": "code",
      "metadata": {
        "id": "cQxcBx09RfeQ",
        "colab_type": "code",
        "outputId": "f51ed9a9-9427-4956-ed01-f0ab675504f7",
        "colab": {
          "base_uri": "https://localhost:8080/",
          "height": 53
        }
      },
      "source": [
        "print(X_train.shape)\n",
        "\n",
        "print(X_test_fin.shape)"
      ],
      "execution_count": 0,
      "outputs": [
        {
          "output_type": "stream",
          "text": [
            "(14000, 28, 28)\n",
            "(8800, 28, 28)\n"
          ],
          "name": "stdout"
        }
      ]
    },
    {
      "cell_type": "markdown",
      "metadata": {
        "id": "54J0qphvB9k9",
        "colab_type": "text"
      },
      "source": [
        "# Classificazione"
      ]
    },
    {
      "cell_type": "markdown",
      "metadata": {
        "id": "VwUbg4n7CFw8",
        "colab_type": "text"
      },
      "source": [
        "## Split dati e controllo"
      ]
    },
    {
      "cell_type": "code",
      "metadata": {
        "id": "Oz_W5kU9RfaA",
        "colab_type": "code",
        "outputId": "b7cb3aff-ce16-4a68-fb12-e335d4f54a61",
        "colab": {
          "base_uri": "https://localhost:8080/",
          "height": 53
        }
      },
      "source": [
        "X_train, X_test, y_train, y_test =  train_test_split(X_train, y_train, test_size = 0.2, stratify = y_train, random_state = 123)\n",
        "\n",
        "print(X_train.shape)\n",
        "print(X_test.shape)"
      ],
      "execution_count": 0,
      "outputs": [
        {
          "output_type": "stream",
          "text": [
            "(11200, 28, 28)\n",
            "(2800, 28, 28)\n"
          ],
          "name": "stdout"
        }
      ]
    },
    {
      "cell_type": "code",
      "metadata": {
        "id": "U2_OAEbG-2HR",
        "colab_type": "code",
        "outputId": "0b7a7d30-5e4f-46f6-beb2-a16eceae3c0a",
        "colab": {
          "base_uri": "https://localhost:8080/",
          "height": 283
        }
      },
      "source": [
        "plt.imshow(X_train[0], cmap=\"gray\")"
      ],
      "execution_count": 0,
      "outputs": [
        {
          "output_type": "execute_result",
          "data": {
            "text/plain": [
              "<matplotlib.image.AxesImage at 0x7fa088fbde48>"
            ]
          },
          "metadata": {
            "tags": []
          },
          "execution_count": 11
        },
        {
          "output_type": "display_data",
          "data": {
            "image/png": "[encoded data removed]",
            "text/plain": [
              "<Figure size 432x288 with 1 Axes>"
            ]
          },
          "metadata": {
            "tags": []
          }
        }
      ]
    },
    {
      "cell_type": "code",
      "metadata": {
        "id": "wVZwksTc-_vA",
        "colab_type": "code",
        "outputId": "69376c71-6d25-448f-cd73-a872652c4604",
        "colab": {
          "base_uri": "https://localhost:8080/",
          "height": 35
        }
      },
      "source": [
        "y_train[0] "
      ],
      "execution_count": 0,
      "outputs": [
        {
          "output_type": "execute_result",
          "data": {
            "text/plain": [
              "16"
            ]
          },
          "metadata": {
            "tags": []
          },
          "execution_count": 12
        }
      ]
    },
    {
      "cell_type": "code",
      "metadata": {
        "id": "J5MmDtQ1_Lcx",
        "colab_type": "code",
        "outputId": "d5f7a7aa-c554-4f41-b742-23eca9bf14db",
        "colab": {
          "base_uri": "https://localhost:8080/",
          "height": 287
        }
      },
      "source": [
        "target = pd.DataFrame(y_train)\n",
        "target.columns = [\"TARGET\"]\n",
        "\n",
        "sns.barplot(target[\"TARGET\"].value_counts().index, target[\"TARGET\"].value_counts().values, palette=\"Set1\")\n",
        "\n",
        "## nella variabile obiettivo non c'è troppa sproporzione"
      ],
      "execution_count": 0,
      "outputs": [
        {
          "output_type": "execute_result",
          "data": {
            "text/plain": [
              "<matplotlib.axes._subplots.AxesSubplot at 0x7f5dec4edb70>"
            ]
          },
          "metadata": {
            "tags": []
          },
          "execution_count": 8
        },
        {
          "output_type": "display_data",
          "data": {
            "image/png": "[encoded data removed]",
            "text/plain": [
              "<Figure size 432x288 with 1 Axes>"
            ]
          },
          "metadata": {
            "tags": []
          }
        }
      ]
    },
    {
      "cell_type": "markdown",
      "metadata": {
        "id": "Xr0EtpcaVWky",
        "colab_type": "text"
      },
      "source": [
        "## Reshape"
      ]
    },
    {
      "cell_type": "code",
      "metadata": {
        "id": "ATkFam7gRfYA",
        "colab_type": "code",
        "colab": {}
      },
      "source": [
        "X_train = X_train.reshape(11200, 28*28)\n",
        "X_test = X_test.reshape(2800, 28*28)\n",
        "X_test_fin = X_test_fin.reshape(8800, 28*28)\n",
        "X_train = X_train.astype(\"float32\")\n",
        "X_test = X_test.astype(\"float32\")\n",
        "X_test_fin = X_test_fin.astype(\"float32\")\n",
        "\n",
        "# Put everything on grayscale\n",
        "X_train /= 255\n",
        "X_test /= 255\n",
        "X_test_fin /= 255\n",
        "\n",
        "# convert class vectors to binary class matrices\n",
        "y_train = utils.to_categorical(y_train - 16, 11)\n",
        "y_test = utils.to_categorical(y_test - 16, 11)"
      ],
      "execution_count": 0,
      "outputs": []
    },
    {
      "cell_type": "markdown",
      "metadata": {
        "id": "TlAV71hj_WbQ",
        "colab_type": "text"
      },
      "source": [
        "## Rete Neurale"
      ]
    },
    {
      "cell_type": "code",
      "metadata": {
        "id": "yll1TYmP_R5H",
        "colab_type": "code",
        "colab": {}
      },
      "source": [
        "dims = X_train.shape[1]\n",
        "\n",
        "\n",
        "model = models.Sequential()\n",
        "model.add(layers.Dense(512, input_shape=(dims,), activation = \"relu\"))\n",
        "model.add(layers.Dropout(0.5))\n",
        "model.add(layers.Dense(512, activation = \"relu\"))\n",
        "model.add(layers.Dropout(0.5))\n",
        "model.add(layers.Dense(512, activation = \"relu\"))\n",
        "model.add(layers.Dropout(0.5))\n",
        "model.add(layers.Dense(11, activation = \"softmax\"))"
      ],
      "execution_count": 0,
      "outputs": []
    },
    {
      "cell_type": "code",
      "metadata": {
        "id": "gI7SCKIL_Zb0",
        "colab_type": "code",
        "colab": {}
      },
      "source": [
        "es = callbacks.EarlyStopping(monitor='val_loss',\n",
        "                              min_delta=0,\n",
        "                              patience=1,\n",
        "                              verbose=0, mode='auto')"
      ],
      "execution_count": 0,
      "outputs": []
    },
    {
      "cell_type": "code",
      "metadata": {
        "id": "fyEovnBc_aPA",
        "colab_type": "code",
        "colab": {}
      },
      "source": [
        "model.compile(optimizer = optimizers.adam(), \n",
        "              loss = 'categorical_crossentropy', \n",
        "              metrics = ['accuracy'])"
      ],
      "execution_count": 0,
      "outputs": []
    },
    {
      "cell_type": "code",
      "metadata": {
        "id": "3CRmbJjA_eLC",
        "colab_type": "code",
        "outputId": "17600bd8-15cf-4715-f7d8-b8dd7e9d24c5",
        "colab": {
          "base_uri": "https://localhost:8080/",
          "height": 323
        }
      },
      "source": [
        "history = model.fit(X_train, y_train,\n",
        "                    batch_size = 64,\n",
        "                    epochs = 100,\n",
        "                    validation_split = 0.2,\n",
        "                    callbacks = [es])"
      ],
      "execution_count": 0,
      "outputs": [
        {
          "output_type": "stream",
          "text": [
            "Train on 8960 samples, validate on 2240 samples\n",
            "Epoch 1/100\n",
            "8960/8960 [==============================] - 2s 232us/step - loss: 1.2412 - acc: 0.5863 - val_loss: 0.5752 - val_acc: 0.8165\n",
            "Epoch 2/100\n",
            "8960/8960 [==============================] - 1s 131us/step - loss: 0.6410 - acc: 0.7984 - val_loss: 0.4111 - val_acc: 0.8750\n",
            "Epoch 3/100\n",
            "8960/8960 [==============================] - 1s 131us/step - loss: 0.4892 - acc: 0.8492 - val_loss: 0.3569 - val_acc: 0.8942\n",
            "Epoch 4/100\n",
            "8960/8960 [==============================] - 1s 124us/step - loss: 0.4003 - acc: 0.8765 - val_loss: 0.3171 - val_acc: 0.9027\n",
            "Epoch 5/100\n",
            "8960/8960 [==============================] - 1s 124us/step - loss: 0.3716 - acc: 0.8810 - val_loss: 0.2923 - val_acc: 0.9156\n",
            "Epoch 6/100\n",
            "8960/8960 [==============================] - 1s 127us/step - loss: 0.3378 - acc: 0.8979 - val_loss: 0.2729 - val_acc: 0.9214\n",
            "Epoch 7/100\n",
            "8960/8960 [==============================] - 1s 137us/step - loss: 0.3016 - acc: 0.9062 - val_loss: 0.2723 - val_acc: 0.9246\n",
            "Epoch 8/100\n",
            "8960/8960 [==============================] - 1s 126us/step - loss: 0.2706 - acc: 0.9150 - val_loss: 0.2811 - val_acc: 0.9201\n"
          ],
          "name": "stdout"
        }
      ]
    },
    {
      "cell_type": "code",
      "metadata": {
        "id": "ixI2wLjo_3i0",
        "colab_type": "code",
        "outputId": "40090605-b6b9-4dfc-b432-dc64508bd039",
        "colab": {
          "base_uri": "https://localhost:8080/",
          "height": 541
        }
      },
      "source": [
        "x_plot = list(range(1,history.epoch[-1]+2))\n",
        "\n",
        "def plot_history(network_history):\n",
        "    plt.figure()\n",
        "    plt.xlabel('Epochs')\n",
        "    plt.ylabel('Loss')\n",
        "    plt.plot(x_plot, network_history.history['loss'])\n",
        "    plt.plot(x_plot, network_history.history['val_loss'])\n",
        "    plt.legend(['Training', 'Validation'])\n",
        "    \n",
        "    plt.figure()\n",
        "    plt.xlabel('Epochs')\n",
        "    plt.ylabel('Accuracy')\n",
        "    plt.plot(x_plot, network_history.history['acc'])\n",
        "    plt.plot(x_plot, network_history.history['val_acc'])\n",
        "    plt.legend(['Training', 'Validation'])\n",
        "\n",
        "    \n",
        "plot_history(history)"
      ],
      "execution_count": 0,
      "outputs": [
        {
          "output_type": "display_data",
          "data": {
            "image/png": "[encoded data removed]",
            "text/plain": [
              "<Figure size 432x288 with 1 Axes>"
            ]
          },
          "metadata": {
            "tags": []
          }
        },
        {
          "output_type": "display_data",
          "data": {
            "image/png": "[encoded data removed]",
            "text/plain": [
              "<Figure size 432x288 with 1 Axes>"
            ]
          },
          "metadata": {
            "tags": []
          }
        }
      ]
    },
    {
      "cell_type": "code",
      "metadata": {
        "id": "OWn-ePKt_6pZ",
        "colab_type": "code",
        "outputId": "678170fb-ed9a-4f80-c688-3b7d98007ce1",
        "colab": {
          "base_uri": "https://localhost:8080/",
          "height": 71
        }
      },
      "source": [
        "test_loss, test_acc = model.evaluate(X_test, y_test, batch_size = 64)\n",
        "print(\"TEST LOSS:\", test_loss)\n",
        "print(\"TEST ACCURACY:\", test_acc)"
      ],
      "execution_count": 0,
      "outputs": [
        {
          "output_type": "stream",
          "text": [
            "2800/2800 [==============================] - 0s 40us/step\n",
            "TEST LOSS: 0.25758607149124146\n",
            "TEST ACCURACY: 0.9207142860548837\n"
          ],
          "name": "stdout"
        }
      ]
    },
    {
      "cell_type": "code",
      "metadata": {
        "id": "mbEsVUrr_8gE",
        "colab_type": "code",
        "outputId": "c61cac40-b1ce-44d0-ace9-af29311f8189",
        "colab": {
          "base_uri": "https://localhost:8080/",
          "height": 341
        }
      },
      "source": [
        "y_test_pred = model.predict_classes(X_test)\n",
        "print(classification_report(np.argmax(y_test, 1), y_test_pred))"
      ],
      "execution_count": 0,
      "outputs": [
        {
          "output_type": "stream",
          "text": [
            "              precision    recall  f1-score   support\n",
            "\n",
            "           0       0.96      0.95      0.95       259\n",
            "           1       0.92      0.91      0.92       253\n",
            "           2       0.90      0.94      0.92       269\n",
            "           3       0.97      0.98      0.97       266\n",
            "           4       0.96      0.94      0.95       267\n",
            "           5       0.92      0.92      0.92       259\n",
            "           6       0.82      0.91      0.86       254\n",
            "           7       0.96      0.93      0.94       265\n",
            "           8       0.95      0.94      0.94       265\n",
            "           9       0.90      0.86      0.88       264\n",
            "          10       0.98      0.94      0.96       179\n",
            "\n",
            "    accuracy                           0.93      2800\n",
            "   macro avg       0.93      0.93      0.93      2800\n",
            "weighted avg       0.93      0.93      0.93      2800\n",
            "\n"
          ],
          "name": "stdout"
        }
      ]
    },
    {
      "cell_type": "code",
      "metadata": {
        "id": "BZBF0dLABLpu",
        "colab_type": "code",
        "colab": {}
      },
      "source": [
        "y_fin = model.predict_classes(X_test_fin) + 16"
      ],
      "execution_count": 0,
      "outputs": []
    },
    {
      "cell_type": "code",
      "metadata": {
        "id": "HXLNbCXoDUie",
        "colab_type": "code",
        "colab": {}
      },
      "source": [
        "a = []\n",
        "for i in y_fin:\n",
        "    a.append(i)\n",
        "with open(\"Federico_Manenti_790032_score2.txt\", \"w\") as f:\n",
        "    for i in a:\n",
        "        f.write(\"%s\\n\" % str(i))"
      ],
      "execution_count": 0,
      "outputs": []
    },
    {
      "cell_type": "markdown",
      "metadata": {
        "id": "wlm0VRdkE3su",
        "colab_type": "text"
      },
      "source": [
        "# Autoencoder"
      ]
    },
    {
      "cell_type": "markdown",
      "metadata": {
        "id": "t6X2fejIJQBA",
        "colab_type": "text"
      },
      "source": [
        "## Dati e reshape"
      ]
    },
    {
      "cell_type": "code",
      "metadata": {
        "id": "1gjyq6YqE9eX",
        "colab_type": "code",
        "colab": {}
      },
      "source": [
        "X_train = pickle.load(open(\"/content/drive/My Drive/AML/Assignment/Assignment_2/x_train.obj\", \"rb\"))\n",
        "\n",
        "X_val = pickle.load(open(\"/content/drive/My Drive/AML/Assignment/Assignment_2/x_test.obj\", \"rb\"))\n"
      ],
      "execution_count": 0,
      "outputs": []
    },
    {
      "cell_type": "code",
      "metadata": {
        "id": "pkm1qW2FGxpI",
        "colab_type": "code",
        "colab": {}
      },
      "source": [
        "X_train = X_train.reshape(14000, 28*28)\n",
        "X_val = X_val.reshape(8800, 28*28)\n",
        "X_train = X_train.astype(\"float32\")\n",
        "X_val = X_val.astype(\"float32\")\n",
        "\n",
        "# Put everything on grayscale\n",
        "X_train /= 255\n",
        "X_val /= 255"
      ],
      "execution_count": 0,
      "outputs": []
    },
    {
      "cell_type": "markdown",
      "metadata": {
        "id": "gdQpyIucJT4Y",
        "colab_type": "text"
      },
      "source": [
        "## Rete neurale"
      ]
    },
    {
      "cell_type": "code",
      "metadata": {
        "id": "xaAcc4vuLxcP",
        "colab_type": "code",
        "colab": {}
      },
      "source": [
        "input_img = layers.Input(shape=(784,))\n",
        "encoded = layers.Dense(392, activation='relu')(input_img)\n",
        "encoded = layers.Dropout(0.3)(encoded)\n",
        "encoded_1 = layers.Dense(196, activation='relu')(encoded)\n",
        "encoded_1 = layers.Dropout(0.3)(encoded_1)\n",
        "\n",
        "decoded_1 = layers.Dense(392, activation='relu')(encoded_1)\n",
        "decoded_1 = layers.Dropout(0.3)(decoded_1)\n",
        "decoded = layers.Dense(784, activation='sigmoid')(decoded_1)\n",
        "autoencoder = models.Model(input_img, decoded)"
      ],
      "execution_count": 0,
      "outputs": []
    },
    {
      "cell_type": "code",
      "metadata": {
        "id": "FBRh84lGMDnT",
        "colab_type": "code",
        "colab": {}
      },
      "source": [
        "encoder = models.Model(input_img, encoded_1)\n",
        "encoded_input = layers.Input(shape=(196,))\n",
        "decoder_layer_1 = autoencoder.layers[-3](encoded_input)\n",
        "decoder_layer_2 = autoencoder.layers[-2](decoder_layer_1)\n",
        "decoder_layer_3 = autoencoder.layers[-1](decoder_layer_2)\n",
        "decoder = models.Model(encoded_input, decoder_layer_3)"
      ],
      "execution_count": 0,
      "outputs": []
    },
    {
      "cell_type": "code",
      "metadata": {
        "id": "9mecfjrwMgvN",
        "colab_type": "code",
        "outputId": "a6825d46-68a2-4941-c0f4-0f7ce1d79926",
        "colab": {
          "base_uri": "https://localhost:8080/",
          "height": 449
        }
      },
      "source": [
        "autoencoder.compile(optimizer='adam', loss='binary_crossentropy')\n",
        "autoencoder.summary()"
      ],
      "execution_count": 315,
      "outputs": [
        {
          "output_type": "stream",
          "text": [
            "Model: \"model_170\"\n",
            "_________________________________________________________________\n",
            "Layer (type)                 Output Shape              Param #   \n",
            "=================================================================\n",
            "input_131 (InputLayer)       (None, 784)               0         \n",
            "_________________________________________________________________\n",
            "dense_338 (Dense)            (None, 392)               307720    \n",
            "_________________________________________________________________\n",
            "dropout_147 (Dropout)        (None, 392)               0         \n",
            "_________________________________________________________________\n",
            "dense_339 (Dense)            (None, 196)               77028     \n",
            "_________________________________________________________________\n",
            "dropout_148 (Dropout)        (None, 196)               0         \n",
            "_________________________________________________________________\n",
            "dense_340 (Dense)            (None, 392)               77224     \n",
            "_________________________________________________________________\n",
            "dropout_149 (Dropout)        (None, 392)               0         \n",
            "_________________________________________________________________\n",
            "dense_341 (Dense)            (None, 784)               308112    \n",
            "=================================================================\n",
            "Total params: 770,084\n",
            "Trainable params: 770,084\n",
            "Non-trainable params: 0\n",
            "_________________________________________________________________\n"
          ],
          "name": "stdout"
        }
      ]
    },
    {
      "cell_type": "code",
      "metadata": {
        "id": "ngPtPp3_iEXE",
        "colab_type": "code",
        "colab": {}
      },
      "source": [
        "es = callbacks.EarlyStopping(monitor='val_loss',\n",
        "                              min_delta=0,\n",
        "                              patience=3,\n",
        "                              verbose=0, mode='auto')"
      ],
      "execution_count": 0,
      "outputs": []
    },
    {
      "cell_type": "code",
      "metadata": {
        "id": "4IswU_RXMh4m",
        "colab_type": "code",
        "outputId": "514aeed0-ec62-4c08-c9c3-1785c47a9862",
        "colab": {
          "base_uri": "https://localhost:8080/",
          "height": 395
        }
      },
      "source": [
        "history = autoencoder.fit(X_train, X_train,\n",
        "                epochs=10,\n",
        "                batch_size=128,\n",
        "                shuffle=True,\n",
        "                validation_data=(X_val, X_val),\n",
        "                callbacks = [es])"
      ],
      "execution_count": 317,
      "outputs": [
        {
          "output_type": "stream",
          "text": [
            "Train on 14000 samples, validate on 8800 samples\n",
            "Epoch 1/10\n",
            "14000/14000 [==============================] - 6s 430us/step - loss: 0.3387 - val_loss: 0.2365\n",
            "Epoch 2/10\n",
            "14000/14000 [==============================] - 1s 84us/step - loss: 0.2376 - val_loss: 0.1963\n",
            "Epoch 3/10\n",
            "14000/14000 [==============================] - 1s 85us/step - loss: 0.2160 - val_loss: 0.1828\n",
            "Epoch 4/10\n",
            "14000/14000 [==============================] - 1s 85us/step - loss: 0.2059 - val_loss: 0.1754\n",
            "Epoch 5/10\n",
            "14000/14000 [==============================] - 1s 86us/step - loss: 0.1997 - val_loss: 0.1704\n",
            "Epoch 6/10\n",
            "14000/14000 [==============================] - 1s 85us/step - loss: 0.1953 - val_loss: 0.1667\n",
            "Epoch 7/10\n",
            "14000/14000 [==============================] - 1s 87us/step - loss: 0.1921 - val_loss: 0.1646\n",
            "Epoch 8/10\n",
            "14000/14000 [==============================] - 1s 86us/step - loss: 0.1894 - val_loss: 0.1615\n",
            "Epoch 9/10\n",
            "14000/14000 [==============================] - 1s 83us/step - loss: 0.1876 - val_loss: 0.1605\n",
            "Epoch 10/10\n",
            "14000/14000 [==============================] - 1s 85us/step - loss: 0.1860 - val_loss: 0.1583\n"
          ],
          "name": "stdout"
        }
      ]
    },
    {
      "cell_type": "code",
      "metadata": {
        "id": "iQOXYnaLM4qf",
        "colab_type": "code",
        "outputId": "d175fa5c-c911-4af0-baa9-428f9e9095e6",
        "colab": {
          "base_uri": "https://localhost:8080/",
          "height": 279
        }
      },
      "source": [
        "x_plot = list(range(1,history.epoch[-1]+2))\n",
        "\n",
        "def plot_history(network_history):\n",
        "    plt.figure()\n",
        "    plt.xlabel('Epochs')\n",
        "    plt.ylabel('Loss')\n",
        "    plt.plot(x_plot, network_history.history['loss'])\n",
        "    plt.plot(x_plot, network_history.history['val_loss'])\n",
        "    plt.legend(['Training', 'Validation'])\n",
        "\n",
        "\n",
        "    \n",
        "plot_history(history)"
      ],
      "execution_count": 318,
      "outputs": [
        {
          "output_type": "display_data",
          "data": {
            "image/png": "[encoded data removed]",
            "text/plain": [
              "<Figure size 432x288 with 1 Axes>"
            ]
          },
          "metadata": {
            "tags": []
          }
        }
      ]
    },
    {
      "cell_type": "code",
      "metadata": {
        "id": "1gH-CqtxM6_S",
        "colab_type": "code",
        "outputId": "4a325f60-d808-4d19-9fe0-23ddd900435d",
        "colab": {
          "base_uri": "https://localhost:8080/",
          "height": 248
        }
      },
      "source": [
        "encoded_imgs = encoder.predict(X_val)\n",
        "decoded_imgs = decoder.predict(encoded_imgs)\n",
        "\n",
        "n = 10 \n",
        "plt.figure(figsize=(20, 4))\n",
        "for i in range(n):\n",
        "    # original\n",
        "    ax = plt.subplot(2, n, i + 1)\n",
        "    plt.imshow(X_val[i].reshape(28, 28))\n",
        "    plt.gray()\n",
        "    ax.get_xaxis().set_visible(False)\n",
        "    ax.get_yaxis().set_visible(False)\n",
        "\n",
        "    # reconstruction\n",
        "    ax = plt.subplot(2, n, i + 1 + n)\n",
        "    plt.imshow(decoded_imgs[i].reshape(28, 28))\n",
        "    plt.gray()\n",
        "    ax.get_xaxis().set_visible(False)\n",
        "    ax.get_yaxis().set_visible(False)\n",
        "plt.show()"
      ],
      "execution_count": 319,
      "outputs": [
        {
          "output_type": "display_data",
          "data": {
            "image/png": "[encoded data removed]",
            "text/plain": [
              "<Figure size 1440x288 with 20 Axes>"
            ]
          },
          "metadata": {
            "tags": []
          }
        }
      ]
    }
  ]
}