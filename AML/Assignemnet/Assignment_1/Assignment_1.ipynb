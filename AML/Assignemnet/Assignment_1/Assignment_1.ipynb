{
 "cells": [
  {
   "cell_type": "markdown",
   "metadata": {},
   "source": [
    "## Librerie"
   ]
  },
  {
   "cell_type": "code",
   "execution_count": 19,
   "metadata": {},
   "outputs": [],
   "source": [
    "import pandas as pd\n",
    "import seaborn as sns\n",
    "import matplotlib.pyplot as plt\n",
    "import numpy as np\n",
    "\n",
    "from sklearn.model_selection import train_test_split\n",
    "from sklearn.utils import resample\n",
    "from sklearn.metrics import classification_report\n",
    "\n",
    "from keras import models\n",
    "from keras import layers\n",
    "from keras import optimizers"
   ]
  },
  {
   "cell_type": "markdown",
   "metadata": {},
   "source": [
    "## Import Dati"
   ]
  },
  {
   "cell_type": "code",
   "execution_count": 20,
   "metadata": {},
   "outputs": [],
   "source": [
    "data = pd.read_csv(\"train.csv\")"
   ]
  },
  {
   "cell_type": "code",
   "execution_count": 21,
   "metadata": {},
   "outputs": [],
   "source": [
    "pd.set_option('display.max_columns', 500)"
   ]
  },
  {
   "cell_type": "code",
   "execution_count": 22,
   "metadata": {},
   "outputs": [],
   "source": [
    "data = data.rename(columns = {\"default.payment.next.month\" : \"TARGET\", \"PAY_0\": \"PAY_1\"})"
   ]
  },
  {
   "cell_type": "code",
   "execution_count": 23,
   "metadata": {},
   "outputs": [
    {
     "data": {
      "text/plain": [
       "LIMIT_BAL    0\n",
       "SEX          0\n",
       "EDUCATION    0\n",
       "MARRIAGE     0\n",
       "AGE          0\n",
       "PAY_1        0\n",
       "PAY_2        0\n",
       "PAY_3        0\n",
       "PAY_4        0\n",
       "PAY_5        0\n",
       "PAY_6        0\n",
       "BILL_AMT1    0\n",
       "BILL_AMT2    0\n",
       "BILL_AMT3    0\n",
       "BILL_AMT4    0\n",
       "BILL_AMT5    0\n",
       "BILL_AMT6    0\n",
       "PAY_AMT1     0\n",
       "PAY_AMT2     0\n",
       "PAY_AMT3     0\n",
       "PAY_AMT4     0\n",
       "PAY_AMT5     0\n",
       "PAY_AMT6     0\n",
       "TARGET       0\n",
       "dtype: int64"
      ]
     },
     "execution_count": 23,
     "metadata": {},
     "output_type": "execute_result"
    }
   ],
   "source": [
    "data.isna().sum() \n",
    "## NON CI SONO NA"
   ]
  },
  {
   "cell_type": "code",
   "execution_count": 24,
   "metadata": {
    "scrolled": true
   },
   "outputs": [
    {
     "data": {
      "text/html": [
       "<div>\n",
       "<style scoped>\n",
       "    .dataframe tbody tr th:only-of-type {\n",
       "        vertical-align: middle;\n",
       "    }\n",
       "\n",
       "    .dataframe tbody tr th {\n",
       "        vertical-align: top;\n",
       "    }\n",
       "\n",
       "    .dataframe thead th {\n",
       "        text-align: right;\n",
       "    }\n",
       "</style>\n",
       "<table border=\"1\" class=\"dataframe\">\n",
       "  <thead>\n",
       "    <tr style=\"text-align: right;\">\n",
       "      <th></th>\n",
       "      <th>LIMIT_BAL</th>\n",
       "      <th>SEX</th>\n",
       "      <th>EDUCATION</th>\n",
       "      <th>MARRIAGE</th>\n",
       "      <th>AGE</th>\n",
       "      <th>PAY_1</th>\n",
       "      <th>PAY_2</th>\n",
       "      <th>PAY_3</th>\n",
       "      <th>PAY_4</th>\n",
       "      <th>PAY_5</th>\n",
       "      <th>PAY_6</th>\n",
       "      <th>BILL_AMT1</th>\n",
       "      <th>BILL_AMT2</th>\n",
       "      <th>BILL_AMT3</th>\n",
       "      <th>BILL_AMT4</th>\n",
       "      <th>BILL_AMT5</th>\n",
       "      <th>BILL_AMT6</th>\n",
       "      <th>PAY_AMT1</th>\n",
       "      <th>PAY_AMT2</th>\n",
       "      <th>PAY_AMT3</th>\n",
       "      <th>PAY_AMT4</th>\n",
       "      <th>PAY_AMT5</th>\n",
       "      <th>PAY_AMT6</th>\n",
       "      <th>TARGET</th>\n",
       "    </tr>\n",
       "  </thead>\n",
       "  <tbody>\n",
       "    <tr>\n",
       "      <th>0</th>\n",
       "      <td>20000.0</td>\n",
       "      <td>2</td>\n",
       "      <td>2</td>\n",
       "      <td>1</td>\n",
       "      <td>24</td>\n",
       "      <td>2</td>\n",
       "      <td>2</td>\n",
       "      <td>-1</td>\n",
       "      <td>-1</td>\n",
       "      <td>-2</td>\n",
       "      <td>-2</td>\n",
       "      <td>3913.0</td>\n",
       "      <td>3102.0</td>\n",
       "      <td>689.0</td>\n",
       "      <td>0.0</td>\n",
       "      <td>0.0</td>\n",
       "      <td>0.0</td>\n",
       "      <td>0.0</td>\n",
       "      <td>689.0</td>\n",
       "      <td>0.0</td>\n",
       "      <td>0.0</td>\n",
       "      <td>0.0</td>\n",
       "      <td>0.0</td>\n",
       "      <td>1</td>\n",
       "    </tr>\n",
       "    <tr>\n",
       "      <th>1</th>\n",
       "      <td>120000.0</td>\n",
       "      <td>2</td>\n",
       "      <td>2</td>\n",
       "      <td>2</td>\n",
       "      <td>26</td>\n",
       "      <td>-1</td>\n",
       "      <td>2</td>\n",
       "      <td>0</td>\n",
       "      <td>0</td>\n",
       "      <td>0</td>\n",
       "      <td>2</td>\n",
       "      <td>2682.0</td>\n",
       "      <td>1725.0</td>\n",
       "      <td>2682.0</td>\n",
       "      <td>3272.0</td>\n",
       "      <td>3455.0</td>\n",
       "      <td>3261.0</td>\n",
       "      <td>0.0</td>\n",
       "      <td>1000.0</td>\n",
       "      <td>1000.0</td>\n",
       "      <td>1000.0</td>\n",
       "      <td>0.0</td>\n",
       "      <td>2000.0</td>\n",
       "      <td>1</td>\n",
       "    </tr>\n",
       "    <tr>\n",
       "      <th>2</th>\n",
       "      <td>90000.0</td>\n",
       "      <td>2</td>\n",
       "      <td>2</td>\n",
       "      <td>2</td>\n",
       "      <td>34</td>\n",
       "      <td>0</td>\n",
       "      <td>0</td>\n",
       "      <td>0</td>\n",
       "      <td>0</td>\n",
       "      <td>0</td>\n",
       "      <td>0</td>\n",
       "      <td>29239.0</td>\n",
       "      <td>14027.0</td>\n",
       "      <td>13559.0</td>\n",
       "      <td>14331.0</td>\n",
       "      <td>14948.0</td>\n",
       "      <td>15549.0</td>\n",
       "      <td>1518.0</td>\n",
       "      <td>1500.0</td>\n",
       "      <td>1000.0</td>\n",
       "      <td>1000.0</td>\n",
       "      <td>1000.0</td>\n",
       "      <td>5000.0</td>\n",
       "      <td>0</td>\n",
       "    </tr>\n",
       "    <tr>\n",
       "      <th>3</th>\n",
       "      <td>50000.0</td>\n",
       "      <td>2</td>\n",
       "      <td>2</td>\n",
       "      <td>1</td>\n",
       "      <td>37</td>\n",
       "      <td>0</td>\n",
       "      <td>0</td>\n",
       "      <td>0</td>\n",
       "      <td>0</td>\n",
       "      <td>0</td>\n",
       "      <td>0</td>\n",
       "      <td>46990.0</td>\n",
       "      <td>48233.0</td>\n",
       "      <td>49291.0</td>\n",
       "      <td>28314.0</td>\n",
       "      <td>28959.0</td>\n",
       "      <td>29547.0</td>\n",
       "      <td>2000.0</td>\n",
       "      <td>2019.0</td>\n",
       "      <td>1200.0</td>\n",
       "      <td>1100.0</td>\n",
       "      <td>1069.0</td>\n",
       "      <td>1000.0</td>\n",
       "      <td>0</td>\n",
       "    </tr>\n",
       "    <tr>\n",
       "      <th>4</th>\n",
       "      <td>50000.0</td>\n",
       "      <td>1</td>\n",
       "      <td>2</td>\n",
       "      <td>1</td>\n",
       "      <td>57</td>\n",
       "      <td>-1</td>\n",
       "      <td>0</td>\n",
       "      <td>-1</td>\n",
       "      <td>0</td>\n",
       "      <td>0</td>\n",
       "      <td>0</td>\n",
       "      <td>8617.0</td>\n",
       "      <td>5670.0</td>\n",
       "      <td>35835.0</td>\n",
       "      <td>20940.0</td>\n",
       "      <td>19146.0</td>\n",
       "      <td>19131.0</td>\n",
       "      <td>2000.0</td>\n",
       "      <td>36681.0</td>\n",
       "      <td>10000.0</td>\n",
       "      <td>9000.0</td>\n",
       "      <td>689.0</td>\n",
       "      <td>679.0</td>\n",
       "      <td>0</td>\n",
       "    </tr>\n",
       "  </tbody>\n",
       "</table>\n",
       "</div>"
      ],
      "text/plain": [
       "   LIMIT_BAL  SEX  EDUCATION  MARRIAGE  AGE  PAY_1  PAY_2  PAY_3  PAY_4  \\\n",
       "0    20000.0    2          2         1   24      2      2     -1     -1   \n",
       "1   120000.0    2          2         2   26     -1      2      0      0   \n",
       "2    90000.0    2          2         2   34      0      0      0      0   \n",
       "3    50000.0    2          2         1   37      0      0      0      0   \n",
       "4    50000.0    1          2         1   57     -1      0     -1      0   \n",
       "\n",
       "   PAY_5  PAY_6  BILL_AMT1  BILL_AMT2  BILL_AMT3  BILL_AMT4  BILL_AMT5  \\\n",
       "0     -2     -2     3913.0     3102.0      689.0        0.0        0.0   \n",
       "1      0      2     2682.0     1725.0     2682.0     3272.0     3455.0   \n",
       "2      0      0    29239.0    14027.0    13559.0    14331.0    14948.0   \n",
       "3      0      0    46990.0    48233.0    49291.0    28314.0    28959.0   \n",
       "4      0      0     8617.0     5670.0    35835.0    20940.0    19146.0   \n",
       "\n",
       "   BILL_AMT6  PAY_AMT1  PAY_AMT2  PAY_AMT3  PAY_AMT4  PAY_AMT5  PAY_AMT6  \\\n",
       "0        0.0       0.0     689.0       0.0       0.0       0.0       0.0   \n",
       "1     3261.0       0.0    1000.0    1000.0    1000.0       0.0    2000.0   \n",
       "2    15549.0    1518.0    1500.0    1000.0    1000.0    1000.0    5000.0   \n",
       "3    29547.0    2000.0    2019.0    1200.0    1100.0    1069.0    1000.0   \n",
       "4    19131.0    2000.0   36681.0   10000.0    9000.0     689.0     679.0   \n",
       "\n",
       "   TARGET  \n",
       "0       1  \n",
       "1       1  \n",
       "2       0  \n",
       "3       0  \n",
       "4       0  "
      ]
     },
     "execution_count": 24,
     "metadata": {},
     "output_type": "execute_result"
    }
   ],
   "source": [
    "data.head()"
   ]
  },
  {
   "cell_type": "markdown",
   "metadata": {},
   "source": [
    "## Analisi esplorative"
   ]
  },
  {
   "cell_type": "code",
   "execution_count": 25,
   "metadata": {},
   "outputs": [
    {
     "data": {
      "text/html": [
       "<div>\n",
       "<style scoped>\n",
       "    .dataframe tbody tr th:only-of-type {\n",
       "        vertical-align: middle;\n",
       "    }\n",
       "\n",
       "    .dataframe tbody tr th {\n",
       "        vertical-align: top;\n",
       "    }\n",
       "\n",
       "    .dataframe thead th {\n",
       "        text-align: right;\n",
       "    }\n",
       "</style>\n",
       "<table border=\"1\" class=\"dataframe\">\n",
       "  <thead>\n",
       "    <tr style=\"text-align: right;\">\n",
       "      <th></th>\n",
       "      <th>LIMIT_BAL</th>\n",
       "      <th>SEX</th>\n",
       "      <th>EDUCATION</th>\n",
       "      <th>MARRIAGE</th>\n",
       "      <th>AGE</th>\n",
       "      <th>PAY_1</th>\n",
       "      <th>PAY_2</th>\n",
       "      <th>PAY_3</th>\n",
       "      <th>PAY_4</th>\n",
       "      <th>PAY_5</th>\n",
       "      <th>PAY_6</th>\n",
       "      <th>BILL_AMT1</th>\n",
       "      <th>BILL_AMT2</th>\n",
       "      <th>BILL_AMT3</th>\n",
       "      <th>BILL_AMT4</th>\n",
       "      <th>BILL_AMT5</th>\n",
       "      <th>BILL_AMT6</th>\n",
       "      <th>PAY_AMT1</th>\n",
       "      <th>PAY_AMT2</th>\n",
       "      <th>PAY_AMT3</th>\n",
       "      <th>PAY_AMT4</th>\n",
       "      <th>PAY_AMT5</th>\n",
       "      <th>PAY_AMT6</th>\n",
       "      <th>TARGET</th>\n",
       "    </tr>\n",
       "  </thead>\n",
       "  <tbody>\n",
       "    <tr>\n",
       "      <th>count</th>\n",
       "      <td>27000.000000</td>\n",
       "      <td>27000.000000</td>\n",
       "      <td>27000.000000</td>\n",
       "      <td>27000.000000</td>\n",
       "      <td>27000.000000</td>\n",
       "      <td>27000.000000</td>\n",
       "      <td>27000.000000</td>\n",
       "      <td>27000.000000</td>\n",
       "      <td>27000.000000</td>\n",
       "      <td>27000.000000</td>\n",
       "      <td>27000.000000</td>\n",
       "      <td>27000.000000</td>\n",
       "      <td>27000.000000</td>\n",
       "      <td>2.700000e+04</td>\n",
       "      <td>27000.000000</td>\n",
       "      <td>27000.000000</td>\n",
       "      <td>27000.000000</td>\n",
       "      <td>27000.000000</td>\n",
       "      <td>2.700000e+04</td>\n",
       "      <td>27000.000000</td>\n",
       "      <td>27000.000000</td>\n",
       "      <td>27000.000000</td>\n",
       "      <td>27000.000000</td>\n",
       "      <td>27000.000000</td>\n",
       "    </tr>\n",
       "    <tr>\n",
       "      <th>mean</th>\n",
       "      <td>167196.518519</td>\n",
       "      <td>1.603185</td>\n",
       "      <td>1.852444</td>\n",
       "      <td>1.551074</td>\n",
       "      <td>35.466667</td>\n",
       "      <td>-0.017704</td>\n",
       "      <td>-0.131259</td>\n",
       "      <td>-0.164963</td>\n",
       "      <td>-0.218704</td>\n",
       "      <td>-0.265148</td>\n",
       "      <td>-0.289963</td>\n",
       "      <td>51323.763407</td>\n",
       "      <td>49209.214889</td>\n",
       "      <td>4.698653e+04</td>\n",
       "      <td>43268.021926</td>\n",
       "      <td>40306.842667</td>\n",
       "      <td>38901.908259</td>\n",
       "      <td>5689.029370</td>\n",
       "      <td>5.931783e+03</td>\n",
       "      <td>5224.739037</td>\n",
       "      <td>4852.083778</td>\n",
       "      <td>4795.497259</td>\n",
       "      <td>5221.980185</td>\n",
       "      <td>0.221222</td>\n",
       "    </tr>\n",
       "    <tr>\n",
       "      <th>std</th>\n",
       "      <td>129337.261882</td>\n",
       "      <td>0.489246</td>\n",
       "      <td>0.789157</td>\n",
       "      <td>0.522311</td>\n",
       "      <td>9.206436</td>\n",
       "      <td>1.125608</td>\n",
       "      <td>1.197965</td>\n",
       "      <td>1.198714</td>\n",
       "      <td>1.171908</td>\n",
       "      <td>1.136924</td>\n",
       "      <td>1.153581</td>\n",
       "      <td>73528.597002</td>\n",
       "      <td>71167.111334</td>\n",
       "      <td>6.929217e+04</td>\n",
       "      <td>64392.383099</td>\n",
       "      <td>60803.533634</td>\n",
       "      <td>59510.024370</td>\n",
       "      <td>16911.464096</td>\n",
       "      <td>2.352149e+04</td>\n",
       "      <td>17786.906985</td>\n",
       "      <td>15978.287986</td>\n",
       "      <td>15043.584614</td>\n",
       "      <td>18069.890373</td>\n",
       "      <td>0.415078</td>\n",
       "    </tr>\n",
       "    <tr>\n",
       "      <th>min</th>\n",
       "      <td>10000.000000</td>\n",
       "      <td>1.000000</td>\n",
       "      <td>0.000000</td>\n",
       "      <td>0.000000</td>\n",
       "      <td>21.000000</td>\n",
       "      <td>-2.000000</td>\n",
       "      <td>-2.000000</td>\n",
       "      <td>-2.000000</td>\n",
       "      <td>-2.000000</td>\n",
       "      <td>-2.000000</td>\n",
       "      <td>-2.000000</td>\n",
       "      <td>-165580.000000</td>\n",
       "      <td>-69777.000000</td>\n",
       "      <td>-1.572640e+05</td>\n",
       "      <td>-170000.000000</td>\n",
       "      <td>-81334.000000</td>\n",
       "      <td>-339603.000000</td>\n",
       "      <td>0.000000</td>\n",
       "      <td>0.000000e+00</td>\n",
       "      <td>0.000000</td>\n",
       "      <td>0.000000</td>\n",
       "      <td>0.000000</td>\n",
       "      <td>0.000000</td>\n",
       "      <td>0.000000</td>\n",
       "    </tr>\n",
       "    <tr>\n",
       "      <th>25%</th>\n",
       "      <td>50000.000000</td>\n",
       "      <td>1.000000</td>\n",
       "      <td>1.000000</td>\n",
       "      <td>1.000000</td>\n",
       "      <td>28.000000</td>\n",
       "      <td>-1.000000</td>\n",
       "      <td>-1.000000</td>\n",
       "      <td>-1.000000</td>\n",
       "      <td>-1.000000</td>\n",
       "      <td>-1.000000</td>\n",
       "      <td>-1.000000</td>\n",
       "      <td>3600.000000</td>\n",
       "      <td>2986.000000</td>\n",
       "      <td>2.663000e+03</td>\n",
       "      <td>2313.000000</td>\n",
       "      <td>1746.000000</td>\n",
       "      <td>1261.000000</td>\n",
       "      <td>1000.000000</td>\n",
       "      <td>8.345000e+02</td>\n",
       "      <td>390.000000</td>\n",
       "      <td>291.750000</td>\n",
       "      <td>248.750000</td>\n",
       "      <td>106.750000</td>\n",
       "      <td>0.000000</td>\n",
       "    </tr>\n",
       "    <tr>\n",
       "      <th>50%</th>\n",
       "      <td>140000.000000</td>\n",
       "      <td>2.000000</td>\n",
       "      <td>2.000000</td>\n",
       "      <td>2.000000</td>\n",
       "      <td>34.000000</td>\n",
       "      <td>0.000000</td>\n",
       "      <td>0.000000</td>\n",
       "      <td>0.000000</td>\n",
       "      <td>0.000000</td>\n",
       "      <td>0.000000</td>\n",
       "      <td>0.000000</td>\n",
       "      <td>22431.000000</td>\n",
       "      <td>21188.500000</td>\n",
       "      <td>2.008800e+04</td>\n",
       "      <td>19067.500000</td>\n",
       "      <td>18118.500000</td>\n",
       "      <td>17137.500000</td>\n",
       "      <td>2100.000000</td>\n",
       "      <td>2.008500e+03</td>\n",
       "      <td>1800.000000</td>\n",
       "      <td>1500.000000</td>\n",
       "      <td>1504.500000</td>\n",
       "      <td>1500.000000</td>\n",
       "      <td>0.000000</td>\n",
       "    </tr>\n",
       "    <tr>\n",
       "      <th>75%</th>\n",
       "      <td>240000.000000</td>\n",
       "      <td>2.000000</td>\n",
       "      <td>2.000000</td>\n",
       "      <td>2.000000</td>\n",
       "      <td>41.000000</td>\n",
       "      <td>0.000000</td>\n",
       "      <td>0.000000</td>\n",
       "      <td>0.000000</td>\n",
       "      <td>0.000000</td>\n",
       "      <td>0.000000</td>\n",
       "      <td>0.000000</td>\n",
       "      <td>67591.750000</td>\n",
       "      <td>64145.250000</td>\n",
       "      <td>6.022025e+04</td>\n",
       "      <td>54656.750000</td>\n",
       "      <td>50245.500000</td>\n",
       "      <td>49326.250000</td>\n",
       "      <td>5005.000000</td>\n",
       "      <td>5.000000e+03</td>\n",
       "      <td>4500.000000</td>\n",
       "      <td>4006.000000</td>\n",
       "      <td>4036.250000</td>\n",
       "      <td>4000.000000</td>\n",
       "      <td>0.000000</td>\n",
       "    </tr>\n",
       "    <tr>\n",
       "      <th>max</th>\n",
       "      <td>1000000.000000</td>\n",
       "      <td>2.000000</td>\n",
       "      <td>6.000000</td>\n",
       "      <td>3.000000</td>\n",
       "      <td>79.000000</td>\n",
       "      <td>8.000000</td>\n",
       "      <td>8.000000</td>\n",
       "      <td>8.000000</td>\n",
       "      <td>8.000000</td>\n",
       "      <td>8.000000</td>\n",
       "      <td>8.000000</td>\n",
       "      <td>964511.000000</td>\n",
       "      <td>983931.000000</td>\n",
       "      <td>1.664089e+06</td>\n",
       "      <td>891586.000000</td>\n",
       "      <td>927171.000000</td>\n",
       "      <td>961664.000000</td>\n",
       "      <td>873552.000000</td>\n",
       "      <td>1.684259e+06</td>\n",
       "      <td>896040.000000</td>\n",
       "      <td>621000.000000</td>\n",
       "      <td>426529.000000</td>\n",
       "      <td>528666.000000</td>\n",
       "      <td>1.000000</td>\n",
       "    </tr>\n",
       "  </tbody>\n",
       "</table>\n",
       "</div>"
      ],
      "text/plain": [
       "            LIMIT_BAL           SEX     EDUCATION      MARRIAGE           AGE  \\\n",
       "count    27000.000000  27000.000000  27000.000000  27000.000000  27000.000000   \n",
       "mean    167196.518519      1.603185      1.852444      1.551074     35.466667   \n",
       "std     129337.261882      0.489246      0.789157      0.522311      9.206436   \n",
       "min      10000.000000      1.000000      0.000000      0.000000     21.000000   \n",
       "25%      50000.000000      1.000000      1.000000      1.000000     28.000000   \n",
       "50%     140000.000000      2.000000      2.000000      2.000000     34.000000   \n",
       "75%     240000.000000      2.000000      2.000000      2.000000     41.000000   \n",
       "max    1000000.000000      2.000000      6.000000      3.000000     79.000000   \n",
       "\n",
       "              PAY_1         PAY_2         PAY_3         PAY_4         PAY_5  \\\n",
       "count  27000.000000  27000.000000  27000.000000  27000.000000  27000.000000   \n",
       "mean      -0.017704     -0.131259     -0.164963     -0.218704     -0.265148   \n",
       "std        1.125608      1.197965      1.198714      1.171908      1.136924   \n",
       "min       -2.000000     -2.000000     -2.000000     -2.000000     -2.000000   \n",
       "25%       -1.000000     -1.000000     -1.000000     -1.000000     -1.000000   \n",
       "50%        0.000000      0.000000      0.000000      0.000000      0.000000   \n",
       "75%        0.000000      0.000000      0.000000      0.000000      0.000000   \n",
       "max        8.000000      8.000000      8.000000      8.000000      8.000000   \n",
       "\n",
       "              PAY_6      BILL_AMT1      BILL_AMT2     BILL_AMT3  \\\n",
       "count  27000.000000   27000.000000   27000.000000  2.700000e+04   \n",
       "mean      -0.289963   51323.763407   49209.214889  4.698653e+04   \n",
       "std        1.153581   73528.597002   71167.111334  6.929217e+04   \n",
       "min       -2.000000 -165580.000000  -69777.000000 -1.572640e+05   \n",
       "25%       -1.000000    3600.000000    2986.000000  2.663000e+03   \n",
       "50%        0.000000   22431.000000   21188.500000  2.008800e+04   \n",
       "75%        0.000000   67591.750000   64145.250000  6.022025e+04   \n",
       "max        8.000000  964511.000000  983931.000000  1.664089e+06   \n",
       "\n",
       "           BILL_AMT4      BILL_AMT5      BILL_AMT6       PAY_AMT1  \\\n",
       "count   27000.000000   27000.000000   27000.000000   27000.000000   \n",
       "mean    43268.021926   40306.842667   38901.908259    5689.029370   \n",
       "std     64392.383099   60803.533634   59510.024370   16911.464096   \n",
       "min   -170000.000000  -81334.000000 -339603.000000       0.000000   \n",
       "25%      2313.000000    1746.000000    1261.000000    1000.000000   \n",
       "50%     19067.500000   18118.500000   17137.500000    2100.000000   \n",
       "75%     54656.750000   50245.500000   49326.250000    5005.000000   \n",
       "max    891586.000000  927171.000000  961664.000000  873552.000000   \n",
       "\n",
       "           PAY_AMT2       PAY_AMT3       PAY_AMT4       PAY_AMT5  \\\n",
       "count  2.700000e+04   27000.000000   27000.000000   27000.000000   \n",
       "mean   5.931783e+03    5224.739037    4852.083778    4795.497259   \n",
       "std    2.352149e+04   17786.906985   15978.287986   15043.584614   \n",
       "min    0.000000e+00       0.000000       0.000000       0.000000   \n",
       "25%    8.345000e+02     390.000000     291.750000     248.750000   \n",
       "50%    2.008500e+03    1800.000000    1500.000000    1504.500000   \n",
       "75%    5.000000e+03    4500.000000    4006.000000    4036.250000   \n",
       "max    1.684259e+06  896040.000000  621000.000000  426529.000000   \n",
       "\n",
       "            PAY_AMT6        TARGET  \n",
       "count   27000.000000  27000.000000  \n",
       "mean     5221.980185      0.221222  \n",
       "std     18069.890373      0.415078  \n",
       "min         0.000000      0.000000  \n",
       "25%       106.750000      0.000000  \n",
       "50%      1500.000000      0.000000  \n",
       "75%      4000.000000      0.000000  \n",
       "max    528666.000000      1.000000  "
      ]
     },
     "execution_count": 25,
     "metadata": {},
     "output_type": "execute_result"
    }
   ],
   "source": [
    "data.describe()"
   ]
  },
  {
   "cell_type": "code",
   "execution_count": 26,
   "metadata": {},
   "outputs": [],
   "source": [
    "a = data.groupby(\"TARGET\").count()\n",
    "a = a.reset_index(level=[0])\n",
    "a = a[[\"TARGET\", \"LIMIT_BAL\"]]\n",
    "a.columns = [\"TARGET\", \"COUNT\"]"
   ]
  },
  {
   "cell_type": "code",
   "execution_count": 27,
   "metadata": {},
   "outputs": [
    {
     "name": "stdout",
     "output_type": "stream",
     "text": [
      "Il valore 1 è il 28.41% del valore 0\n"
     ]
    }
   ],
   "source": [
    "print(\"Il valore 1 è il \" + str(round((a[\"COUNT\"][1]/a[\"COUNT\"][0]) * 100,2)) + \"% del valore 0\")"
   ]
  },
  {
   "cell_type": "code",
   "execution_count": 28,
   "metadata": {
    "scrolled": true
   },
   "outputs": [
    {
     "data": {
      "text/plain": [
       "<matplotlib.axes._subplots.AxesSubplot at 0x7fdb13e34710>"
      ]
     },
     "execution_count": 28,
     "metadata": {},
     "output_type": "execute_result"
    },
    {
     "data": {
      "image/png": "[encoded data removed]",
      "text/plain": [
       "<Figure size 432x288 with 1 Axes>"
      ]
     },
     "metadata": {},
     "output_type": "display_data"
    }
   ],
   "source": [
    "sns.barplot(x = \"TARGET\", y = \"COUNT\", data = a)\n",
    "\n",
    "## Variabile target molto sbilanciata"
   ]
  },
  {
   "cell_type": "code",
   "execution_count": 29,
   "metadata": {},
   "outputs": [
    {
     "data": {
      "text/html": [
       "<div>\n",
       "<style scoped>\n",
       "    .dataframe tbody tr th:only-of-type {\n",
       "        vertical-align: middle;\n",
       "    }\n",
       "\n",
       "    .dataframe tbody tr th {\n",
       "        vertical-align: top;\n",
       "    }\n",
       "\n",
       "    .dataframe thead th {\n",
       "        text-align: right;\n",
       "    }\n",
       "</style>\n",
       "<table border=\"1\" class=\"dataframe\">\n",
       "  <thead>\n",
       "    <tr style=\"text-align: right;\">\n",
       "      <th></th>\n",
       "      <th>LIMIT_BAL</th>\n",
       "      <th>SEX</th>\n",
       "      <th>EDUCATION</th>\n",
       "      <th>MARRIAGE</th>\n",
       "      <th>AGE</th>\n",
       "      <th>PAY_1</th>\n",
       "      <th>PAY_2</th>\n",
       "      <th>PAY_3</th>\n",
       "      <th>PAY_4</th>\n",
       "      <th>PAY_5</th>\n",
       "      <th>PAY_6</th>\n",
       "      <th>BILL_AMT1</th>\n",
       "      <th>BILL_AMT2</th>\n",
       "      <th>BILL_AMT3</th>\n",
       "      <th>BILL_AMT4</th>\n",
       "      <th>BILL_AMT5</th>\n",
       "      <th>BILL_AMT6</th>\n",
       "      <th>PAY_AMT1</th>\n",
       "      <th>PAY_AMT2</th>\n",
       "      <th>PAY_AMT3</th>\n",
       "      <th>PAY_AMT4</th>\n",
       "      <th>PAY_AMT5</th>\n",
       "      <th>PAY_AMT6</th>\n",
       "      <th>TARGET</th>\n",
       "    </tr>\n",
       "  </thead>\n",
       "  <tbody>\n",
       "    <tr>\n",
       "      <th>0</th>\n",
       "      <td>20000.0</td>\n",
       "      <td>2</td>\n",
       "      <td>2</td>\n",
       "      <td>1</td>\n",
       "      <td>24</td>\n",
       "      <td>2</td>\n",
       "      <td>2</td>\n",
       "      <td>-1</td>\n",
       "      <td>-1</td>\n",
       "      <td>-2</td>\n",
       "      <td>-2</td>\n",
       "      <td>3913.0</td>\n",
       "      <td>3102.0</td>\n",
       "      <td>689.0</td>\n",
       "      <td>0.0</td>\n",
       "      <td>0.0</td>\n",
       "      <td>0.0</td>\n",
       "      <td>0.0</td>\n",
       "      <td>689.0</td>\n",
       "      <td>0.0</td>\n",
       "      <td>0.0</td>\n",
       "      <td>0.0</td>\n",
       "      <td>0.0</td>\n",
       "      <td>1</td>\n",
       "    </tr>\n",
       "    <tr>\n",
       "      <th>1</th>\n",
       "      <td>120000.0</td>\n",
       "      <td>2</td>\n",
       "      <td>2</td>\n",
       "      <td>2</td>\n",
       "      <td>26</td>\n",
       "      <td>-1</td>\n",
       "      <td>2</td>\n",
       "      <td>0</td>\n",
       "      <td>0</td>\n",
       "      <td>0</td>\n",
       "      <td>2</td>\n",
       "      <td>2682.0</td>\n",
       "      <td>1725.0</td>\n",
       "      <td>2682.0</td>\n",
       "      <td>3272.0</td>\n",
       "      <td>3455.0</td>\n",
       "      <td>3261.0</td>\n",
       "      <td>0.0</td>\n",
       "      <td>1000.0</td>\n",
       "      <td>1000.0</td>\n",
       "      <td>1000.0</td>\n",
       "      <td>0.0</td>\n",
       "      <td>2000.0</td>\n",
       "      <td>1</td>\n",
       "    </tr>\n",
       "    <tr>\n",
       "      <th>2</th>\n",
       "      <td>90000.0</td>\n",
       "      <td>2</td>\n",
       "      <td>2</td>\n",
       "      <td>2</td>\n",
       "      <td>34</td>\n",
       "      <td>0</td>\n",
       "      <td>0</td>\n",
       "      <td>0</td>\n",
       "      <td>0</td>\n",
       "      <td>0</td>\n",
       "      <td>0</td>\n",
       "      <td>29239.0</td>\n",
       "      <td>14027.0</td>\n",
       "      <td>13559.0</td>\n",
       "      <td>14331.0</td>\n",
       "      <td>14948.0</td>\n",
       "      <td>15549.0</td>\n",
       "      <td>1518.0</td>\n",
       "      <td>1500.0</td>\n",
       "      <td>1000.0</td>\n",
       "      <td>1000.0</td>\n",
       "      <td>1000.0</td>\n",
       "      <td>5000.0</td>\n",
       "      <td>0</td>\n",
       "    </tr>\n",
       "    <tr>\n",
       "      <th>3</th>\n",
       "      <td>50000.0</td>\n",
       "      <td>2</td>\n",
       "      <td>2</td>\n",
       "      <td>1</td>\n",
       "      <td>37</td>\n",
       "      <td>0</td>\n",
       "      <td>0</td>\n",
       "      <td>0</td>\n",
       "      <td>0</td>\n",
       "      <td>0</td>\n",
       "      <td>0</td>\n",
       "      <td>46990.0</td>\n",
       "      <td>48233.0</td>\n",
       "      <td>49291.0</td>\n",
       "      <td>28314.0</td>\n",
       "      <td>28959.0</td>\n",
       "      <td>29547.0</td>\n",
       "      <td>2000.0</td>\n",
       "      <td>2019.0</td>\n",
       "      <td>1200.0</td>\n",
       "      <td>1100.0</td>\n",
       "      <td>1069.0</td>\n",
       "      <td>1000.0</td>\n",
       "      <td>0</td>\n",
       "    </tr>\n",
       "    <tr>\n",
       "      <th>4</th>\n",
       "      <td>50000.0</td>\n",
       "      <td>1</td>\n",
       "      <td>2</td>\n",
       "      <td>1</td>\n",
       "      <td>57</td>\n",
       "      <td>-1</td>\n",
       "      <td>0</td>\n",
       "      <td>-1</td>\n",
       "      <td>0</td>\n",
       "      <td>0</td>\n",
       "      <td>0</td>\n",
       "      <td>8617.0</td>\n",
       "      <td>5670.0</td>\n",
       "      <td>35835.0</td>\n",
       "      <td>20940.0</td>\n",
       "      <td>19146.0</td>\n",
       "      <td>19131.0</td>\n",
       "      <td>2000.0</td>\n",
       "      <td>36681.0</td>\n",
       "      <td>10000.0</td>\n",
       "      <td>9000.0</td>\n",
       "      <td>689.0</td>\n",
       "      <td>679.0</td>\n",
       "      <td>0</td>\n",
       "    </tr>\n",
       "  </tbody>\n",
       "</table>\n",
       "</div>"
      ],
      "text/plain": [
       "   LIMIT_BAL  SEX  EDUCATION  MARRIAGE  AGE  PAY_1  PAY_2  PAY_3  PAY_4  \\\n",
       "0    20000.0    2          2         1   24      2      2     -1     -1   \n",
       "1   120000.0    2          2         2   26     -1      2      0      0   \n",
       "2    90000.0    2          2         2   34      0      0      0      0   \n",
       "3    50000.0    2          2         1   37      0      0      0      0   \n",
       "4    50000.0    1          2         1   57     -1      0     -1      0   \n",
       "\n",
       "   PAY_5  PAY_6  BILL_AMT1  BILL_AMT2  BILL_AMT3  BILL_AMT4  BILL_AMT5  \\\n",
       "0     -2     -2     3913.0     3102.0      689.0        0.0        0.0   \n",
       "1      0      2     2682.0     1725.0     2682.0     3272.0     3455.0   \n",
       "2      0      0    29239.0    14027.0    13559.0    14331.0    14948.0   \n",
       "3      0      0    46990.0    48233.0    49291.0    28314.0    28959.0   \n",
       "4      0      0     8617.0     5670.0    35835.0    20940.0    19146.0   \n",
       "\n",
       "   BILL_AMT6  PAY_AMT1  PAY_AMT2  PAY_AMT3  PAY_AMT4  PAY_AMT5  PAY_AMT6  \\\n",
       "0        0.0       0.0     689.0       0.0       0.0       0.0       0.0   \n",
       "1     3261.0       0.0    1000.0    1000.0    1000.0       0.0    2000.0   \n",
       "2    15549.0    1518.0    1500.0    1000.0    1000.0    1000.0    5000.0   \n",
       "3    29547.0    2000.0    2019.0    1200.0    1100.0    1069.0    1000.0   \n",
       "4    19131.0    2000.0   36681.0   10000.0    9000.0     689.0     679.0   \n",
       "\n",
       "   TARGET  \n",
       "0       1  \n",
       "1       1  \n",
       "2       0  \n",
       "3       0  \n",
       "4       0  "
      ]
     },
     "execution_count": 29,
     "metadata": {},
     "output_type": "execute_result"
    }
   ],
   "source": [
    "data.head()"
   ]
  },
  {
   "cell_type": "code",
   "execution_count": 30,
   "metadata": {},
   "outputs": [
    {
     "name": "stdout",
     "output_type": "stream",
     "text": [
      "[2 1 3 5 4 6 0]\n",
      "[1 2 3 0]\n",
      "[ 2 -1  0 -2  1  3  4  8  7  5  6]\n"
     ]
    }
   ],
   "source": [
    "print(data[\"EDUCATION\"].unique())\n",
    "print(data[\"MARRIAGE\"].unique())\n",
    "print(data[\"PAY_1\"].unique())"
   ]
  },
  {
   "cell_type": "code",
   "execution_count": 31,
   "metadata": {},
   "outputs": [
    {
     "data": {
      "image/png": "[encoded data removed]",
      "text/plain": [
       "<Figure size 720x720 with 2 Axes>"
      ]
     },
     "metadata": {},
     "output_type": "display_data"
    }
   ],
   "source": [
    "f = plt.figure(figsize=(10, 10))\n",
    "plt.matshow(data.corr(), fignum=f.number)\n",
    "plt.xticks(range(data.shape[1]), data.columns, fontsize=15, rotation=90)\n",
    "plt.yticks(range(data.shape[1]), data.columns, fontsize=15)\n",
    "cb = plt.colorbar()\n",
    "cb.ax.tick_params(labelsize=14)"
   ]
  },
  {
   "cell_type": "markdown",
   "metadata": {},
   "source": [
    "### Forte correlazione tra le variabili BILL_ATM1-6"
   ]
  },
  {
   "cell_type": "markdown",
   "metadata": {},
   "source": [
    "## PREPROCESSING"
   ]
  },
  {
   "cell_type": "code",
   "execution_count": 32,
   "metadata": {
    "scrolled": false
   },
   "outputs": [
    {
     "data": {
      "image/png": "[encoded data removed]",
      "text/plain": [
       "<Figure size 360x720 with 2 Axes>"
      ]
     },
     "metadata": {},
     "output_type": "display_data"
    }
   ],
   "source": [
    "plt.figure(figsize=(5, 10))\n",
    "plt.subplot(2,1,1)\n",
    "plt.hist(data[\"BILL_AMT1\"])\n",
    "plt.title(\"BILL_AMT1\")\n",
    "\n",
    "plt.subplot(2,1,2)\n",
    "plt.hist(data[\"PAY_AMT1\"])\n",
    "plt.title(\"PAY_AMT1\")\n",
    "\n",
    "plt.show()\n",
    "\n",
    "\n",
    "## Sbilanciamento variabili, quindi trasf logaritmica"
   ]
  },
  {
   "cell_type": "code",
   "execution_count": 33,
   "metadata": {
    "scrolled": true
   },
   "outputs": [
    {
     "name": "stderr",
     "output_type": "stream",
     "text": [
      "/home/federico/anaconda3/lib/python3.6/site-packages/ipykernel_launcher.py:3: SettingWithCopyWarning: \n",
      "A value is trying to be set on a copy of a slice from a DataFrame\n",
      "\n",
      "See the caveats in the documentation: http://pandas.pydata.org/pandas-docs/stable/indexing.html#indexing-view-versus-copy\n",
      "  This is separate from the ipykernel package so we can avoid doing imports until\n"
     ]
    }
   ],
   "source": [
    "## Cambio in 0 i valori negativi per poter applicare la trasf log\n",
    "for i in range(1,7):\n",
    "    data[\"BILL_AMT\" + str(i)][data[\"BILL_AMT\" + str(i)] < 0] = 0"
   ]
  },
  {
   "cell_type": "code",
   "execution_count": 34,
   "metadata": {},
   "outputs": [],
   "source": [
    "## Applico trasf ln(x+1) a BILL_AMT1-6 e PAY_AMT1-6 e LIMIT_BAL\n",
    "\n",
    "data[\"LIMIT_BAL\"] = np.log(data[\"LIMIT_BAL\"] + 1)\n",
    "for i in range(1,7):\n",
    "    data[\"BILL_AMT\" + str(i)] = np.log(data[\"BILL_AMT\" + str(i)] + 1)\n",
    "    data[\"PAY_AMT\" + str(i)] = np.log(data[\"PAY_AMT\" + str(i)] + 1)"
   ]
  },
  {
   "cell_type": "code",
   "execution_count": 35,
   "metadata": {
    "scrolled": true
   },
   "outputs": [
    {
     "data": {
      "image/png": "[encoded data removed]",
      "text/plain": [
       "<Figure size 360x720 with 3 Axes>"
      ]
     },
     "metadata": {},
     "output_type": "display_data"
    }
   ],
   "source": [
    "plt.figure(figsize=(5, 10))\n",
    "plt.subplot(3,1,1)\n",
    "plt.hist(data[\"BILL_AMT1\"])\n",
    "plt.title(\"BILL_AMT1\")\n",
    "\n",
    "plt.subplot(3,1,2)\n",
    "plt.hist(data[\"PAY_AMT1\"])\n",
    "plt.title(\"PAY_AMT1\")\n",
    "\n",
    "plt.subplot(3,1,3)\n",
    "plt.hist(data[\"LIMIT_BAL\"])\n",
    "plt.title(\"LIMIT_BAL\")\n",
    "\n",
    "plt.show()\n"
   ]
  },
  {
   "cell_type": "code",
   "execution_count": 36,
   "metadata": {},
   "outputs": [],
   "source": [
    "## Calcolo la media per levare il problema della correlazione\n",
    "data[\"AVG_BILL_AMT\"] = data[[\"BILL_AMT1\", \"BILL_AMT2\", \"BILL_AMT3\", \"BILL_AMT4\", \"BILL_AMT5\", \"BILL_AMT6\"]].mean(axis = 1)"
   ]
  },
  {
   "cell_type": "code",
   "execution_count": 37,
   "metadata": {},
   "outputs": [
    {
     "name": "stderr",
     "output_type": "stream",
     "text": [
      "/home/federico/anaconda3/lib/python3.6/site-packages/ipykernel_launcher.py:7: SettingWithCopyWarning: \n",
      "A value is trying to be set on a copy of a slice from a DataFrame\n",
      "\n",
      "See the caveats in the documentation: http://pandas.pydata.org/pandas-docs/stable/indexing.html#indexing-view-versus-copy\n",
      "  import sys\n"
     ]
    }
   ],
   "source": [
    "## sistemo variabile age ed education (1 = scuola secondaria di primo grado; 2 = universita; \n",
    "## 3 = scuola secondaria di secondo grado; 0, 4, 5, 6= altri)\n",
    "\n",
    "age_bin =  pd.get_dummies(pd.cut(data[\"AGE\"], [0, 20,30,40,50,60,70,80, float(\"inf\")]))\n",
    "age_bin.columns = [\"0-20\", \"21-30\", \"30-40\", \"41-50\", \"51-60\", \"61-70\", \"70-80\", \"80+\"]\n",
    "data = data.join(age_bin)\n",
    "data[\"EDUCATION\"][data[\"EDUCATION\"]>=4] =0"
   ]
  },
  {
   "cell_type": "markdown",
   "metadata": {},
   "source": [
    "## Split train, test  e downsapling"
   ]
  },
  {
   "cell_type": "code",
   "execution_count": 38,
   "metadata": {},
   "outputs": [
    {
     "data": {
      "text/plain": [
       "Index(['LIMIT_BAL', 'SEX', 'EDUCATION', 'MARRIAGE', 'AGE', 'PAY_1', 'PAY_2',\n",
       "       'PAY_3', 'PAY_4', 'PAY_5', 'PAY_6', 'BILL_AMT1', 'BILL_AMT2',\n",
       "       'BILL_AMT3', 'BILL_AMT4', 'BILL_AMT5', 'BILL_AMT6', 'PAY_AMT1',\n",
       "       'PAY_AMT2', 'PAY_AMT3', 'PAY_AMT4', 'PAY_AMT5', 'PAY_AMT6', 'TARGET',\n",
       "       'AVG_BILL_AMT', '0-20', '21-30', '30-40', '41-50', '51-60', '61-70',\n",
       "       '70-80', '80+'],\n",
       "      dtype='object')"
      ]
     },
     "execution_count": 38,
     "metadata": {},
     "output_type": "execute_result"
    }
   ],
   "source": [
    "data.columns"
   ]
  },
  {
   "cell_type": "code",
   "execution_count": 39,
   "metadata": {},
   "outputs": [],
   "source": [
    "data = data[['LIMIT_BAL', 'SEX', 'EDUCATION', 'MARRIAGE', 'PAY_1', 'PAY_2',\n",
    "       'PAY_3', 'PAY_4', 'PAY_5', 'PAY_6', 'PAY_AMT1',\n",
    "       'PAY_AMT2', 'PAY_AMT3', 'PAY_AMT4', 'PAY_AMT5', 'PAY_AMT6',\n",
    "       'AVG_BILL_AMT', '0-20', '21-30', '30-40', '41-50', '51-60', '61-70',\n",
    "       '70-80', '80+', 'TARGET']]"
   ]
  },
  {
   "cell_type": "code",
   "execution_count": 40,
   "metadata": {},
   "outputs": [],
   "source": [
    "train, test = train_test_split(data, test_size = 0.1, stratify = data[\"TARGET\"], random_state = 123)"
   ]
  },
  {
   "cell_type": "code",
   "execution_count": 41,
   "metadata": {},
   "outputs": [
    {
     "data": {
      "text/plain": [
       "0    18924\n",
       "1     5376\n",
       "Name: TARGET, dtype: int64"
      ]
     },
     "execution_count": 41,
     "metadata": {},
     "output_type": "execute_result"
    }
   ],
   "source": [
    "train[\"TARGET\"].value_counts()"
   ]
  },
  {
   "cell_type": "code",
   "execution_count": 42,
   "metadata": {},
   "outputs": [
    {
     "data": {
      "text/plain": [
       "1    5376\n",
       "0    5376\n",
       "Name: TARGET, dtype: int64"
      ]
     },
     "execution_count": 42,
     "metadata": {},
     "output_type": "execute_result"
    }
   ],
   "source": [
    "\n",
    "df_majority = train[train.TARGET==0]\n",
    "df_minority = train[train.TARGET==1]\n",
    " \n",
    "\n",
    "df_majority_downsampled = resample(df_majority, \n",
    "                                 replace=False,    \n",
    "                                 n_samples=train[\"TARGET\"].value_counts()[1],     \n",
    "                                 random_state=123) \n",
    " \n",
    "\n",
    "train_ds = pd.concat([df_majority_downsampled, df_minority])\n",
    "\n",
    "train_ds.TARGET.value_counts()"
   ]
  },
  {
   "cell_type": "code",
   "execution_count": 43,
   "metadata": {
    "scrolled": true
   },
   "outputs": [],
   "source": [
    "train_ds = train_ds.sample(frac=1).reset_index(drop=True)"
   ]
  },
  {
   "cell_type": "markdown",
   "metadata": {},
   "source": [
    "## Rete neurale"
   ]
  },
  {
   "cell_type": "code",
   "execution_count": 44,
   "metadata": {},
   "outputs": [],
   "source": [
    "X_train, y_train = train_ds[['LIMIT_BAL', 'SEX', 'EDUCATION', 'MARRIAGE', 'PAY_1', 'PAY_2', 'PAY_3',\n",
    "       'PAY_4', 'PAY_5', 'PAY_6', 'PAY_AMT1', 'PAY_AMT2', 'PAY_AMT3',\n",
    "       'PAY_AMT4', 'PAY_AMT5', 'PAY_AMT6', 'AVG_BILL_AMT', '0-20', '21-30', '30-40', '41-50', '51-60', '61-70',\n",
    "       '70-80', '80+']], train_ds[\"TARGET\"]\n",
    "\n",
    "X_test, y_test = test[['LIMIT_BAL', 'SEX', 'EDUCATION', 'MARRIAGE', 'PAY_1', 'PAY_2', 'PAY_3',\n",
    "       'PAY_4', 'PAY_5', 'PAY_6', 'PAY_AMT1', 'PAY_AMT2', 'PAY_AMT3',\n",
    "       'PAY_AMT4', 'PAY_AMT5', 'PAY_AMT6', 'AVG_BILL_AMT', '0-20', '21-30', '30-40', '41-50', '51-60', '61-70',\n",
    "       '70-80', '80+']], test[\"TARGET\"]\n"
   ]
  },
  {
   "cell_type": "code",
   "execution_count": 45,
   "metadata": {},
   "outputs": [
    {
     "name": "stderr",
     "output_type": "stream",
     "text": [
      "/home/federico/anaconda3/lib/python3.6/site-packages/ipykernel_launcher.py:1: FutureWarning: Method .as_matrix will be removed in a future version. Use .values instead.\n",
      "  \"\"\"Entry point for launching an IPython kernel.\n",
      "/home/federico/anaconda3/lib/python3.6/site-packages/ipykernel_launcher.py:4: FutureWarning: Method .as_matrix will be removed in a future version. Use .values instead.\n",
      "  after removing the cwd from sys.path.\n"
     ]
    }
   ],
   "source": [
    "X_train = X_train.as_matrix()\n",
    "y_train = y_train.values.reshape(10752,1)\n",
    "\n",
    "X_test = X_test.as_matrix()\n",
    "y_test = y_test.values.reshape(2700,1)"
   ]
  },
  {
   "cell_type": "code",
   "execution_count": 48,
   "metadata": {},
   "outputs": [],
   "source": [
    "from keras import backend as K\n",
    "def recall_m(y_true, y_pred):\n",
    "        true_positives = K.sum(K.round(K.clip(y_true * y_pred, 0, 1)))\n",
    "        possible_positives = K.sum(K.round(K.clip(y_true, 0, 1)))\n",
    "        recall = true_positives / (possible_positives + K.epsilon())\n",
    "        return recall\n",
    "\n",
    "def precision_m(y_true, y_pred):\n",
    "        true_positives = K.sum(K.round(K.clip(y_true * y_pred, 0, 1)))\n",
    "        predicted_positives = K.sum(K.round(K.clip(y_pred, 0, 1)))\n",
    "        precision = true_positives / (predicted_positives + K.epsilon())\n",
    "        return precision\n",
    "\n",
    "def f1_m(y_true, y_pred):\n",
    "    precision = precision_m(y_true, y_pred)\n",
    "    recall = recall_m(y_true, y_pred)\n",
    "    return 2*((precision*recall)/(precision+recall+K.epsilon()))\n"
   ]
  },
  {
   "cell_type": "code",
   "execution_count": 168,
   "metadata": {},
   "outputs": [],
   "source": [
    "model = models.Sequential()\n",
    "\n",
    "model.add(layers.Dense(32, input_dim =  25, activation = \"relu\"))\n",
    "model.add(layers.Dropout(0.3))\n",
    "model.add(layers.Dense(32, activation=\"relu\"))\n",
    "model.add(layers.Dropout(0.3))\n",
    "model.add(layers.Dense(32, activation=\"relu\"))\n",
    "model.add(layers.Dropout(0.3))\n",
    "model.add(layers.Dense(1, activation=\"sigmoid\"))"
   ]
  },
  {
   "cell_type": "code",
   "execution_count": 169,
   "metadata": {},
   "outputs": [],
   "source": [
    "model.compile(optimizer = optimizers.adam(), loss=\"binary_crossentropy\", metrics=[\"acc\", f1_m])"
   ]
  },
  {
   "cell_type": "code",
   "execution_count": 170,
   "metadata": {
    "scrolled": true
   },
   "outputs": [
    {
     "name": "stdout",
     "output_type": "stream",
     "text": [
      "Train on 7526 samples, validate on 3226 samples\n",
      "Epoch 1/10\n",
      "7526/7526 [==============================] - 3s 423us/step - loss: 0.7765 - acc: 0.5225 - f1_m: 0.5347 - val_loss: 0.6655 - val_acc: 0.6060 - val_f1_m: 0.4954\n",
      "Epoch 2/10\n",
      "7526/7526 [==============================] - 2s 324us/step - loss: 0.6842 - acc: 0.5666 - f1_m: 0.5586 - val_loss: 0.6401 - val_acc: 0.6562 - val_f1_m: 0.6009\n",
      "Epoch 3/10\n",
      "7526/7526 [==============================] - 1s 186us/step - loss: 0.6568 - acc: 0.6064 - f1_m: 0.5984 - val_loss: 0.6280 - val_acc: 0.6692 - val_f1_m: 0.6248\n",
      "Epoch 4/10\n",
      "7526/7526 [==============================] - 2s 255us/step - loss: 0.6356 - acc: 0.6370 - f1_m: 0.6164 - val_loss: 0.6162 - val_acc: 0.6785 - val_f1_m: 0.6364\n",
      "Epoch 5/10\n",
      "7526/7526 [==============================] - 1s 99us/step - loss: 0.6311 - acc: 0.6419 - f1_m: 0.6206 - val_loss: 0.6106 - val_acc: 0.6829 - val_f1_m: 0.6459\n",
      "Epoch 6/10\n",
      "7526/7526 [==============================] - 1s 81us/step - loss: 0.6250 - acc: 0.6535 - f1_m: 0.6284 - val_loss: 0.6083 - val_acc: 0.6847 - val_f1_m: 0.6543\n",
      "Epoch 7/10\n",
      "7526/7526 [==============================] - 2s 233us/step - loss: 0.6171 - acc: 0.6628 - f1_m: 0.6380 - val_loss: 0.6067 - val_acc: 0.6882 - val_f1_m: 0.6591\n",
      "Epoch 8/10\n",
      "7526/7526 [==============================] - 0s 59us/step - loss: 0.6122 - acc: 0.6725 - f1_m: 0.6503 - val_loss: 0.6041 - val_acc: 0.6906 - val_f1_m: 0.6640\n",
      "Epoch 9/10\n",
      "7526/7526 [==============================] - 0s 61us/step - loss: 0.6138 - acc: 0.6738 - f1_m: 0.6515 - val_loss: 0.6004 - val_acc: 0.6882 - val_f1_m: 0.6547\n",
      "Epoch 10/10\n",
      "7526/7526 [==============================] - 0s 65us/step - loss: 0.6110 - acc: 0.6745 - f1_m: 0.6512 - val_loss: 0.5990 - val_acc: 0.6928 - val_f1_m: 0.6585\n"
     ]
    }
   ],
   "source": [
    "history = model.fit(X_train, y_train, \n",
    "                    batch_size=128,\n",
    "                    epochs=10,\n",
    "                    validation_split=0.3)"
   ]
  },
  {
   "cell_type": "code",
   "execution_count": 171,
   "metadata": {},
   "outputs": [
    {
     "data": {
      "image/png": "[encoded data removed]",
      "text/plain": [
       "<Figure size 432x288 with 1 Axes>"
      ]
     },
     "metadata": {},
     "output_type": "display_data"
    },
    {
     "data": {
      "image/png": "[encoded data removed]",
      "text/plain": [
       "<Figure size 432x288 with 1 Axes>"
      ]
     },
     "metadata": {},
     "output_type": "display_data"
    },
    {
     "data": {
      "image/png": "[encoded data removed]",
      "text/plain": [
       "<Figure size 432x288 with 1 Axes>"
      ]
     },
     "metadata": {},
     "output_type": "display_data"
    }
   ],
   "source": [
    "x_plot = list(range(1,history.epoch[-1]+2))\n",
    "\n",
    "def plot_history(network_history):\n",
    "    plt.figure()\n",
    "    plt.xlabel('Epochs')\n",
    "    plt.ylabel('Loss')\n",
    "    plt.plot(x_plot, network_history.history['loss'])\n",
    "    plt.plot(x_plot, network_history.history['val_loss'])\n",
    "    plt.legend(['Training', 'Validation'])\n",
    "    \n",
    "    plt.figure()\n",
    "    plt.xlabel('Epochs')\n",
    "    plt.ylabel('Accuracy')\n",
    "    plt.plot(x_plot, network_history.history['acc'])\n",
    "    plt.plot(x_plot, network_history.history['val_acc'])\n",
    "    plt.legend(['Training', 'Validation'])\n",
    "\n",
    "    plt.figure()\n",
    "    plt.xlabel('Epochs')\n",
    "    plt.ylabel('F1')\n",
    "    plt.plot(x_plot, network_history.history['f1_m'])\n",
    "    plt.plot(x_plot, network_history.history['val_f1_m'])\n",
    "    plt.legend(['Training', 'Validation'], loc='lower right')\n",
    "    plt.show()\n",
    "    \n",
    "plot_history(history)"
   ]
  },
  {
   "cell_type": "code",
   "execution_count": 166,
   "metadata": {},
   "outputs": [
    {
     "name": "stdout",
     "output_type": "stream",
     "text": [
      "2700/2700 [==============================] - 0s 40us/step\n",
      "TEST LOSS: 0.5891658786491112\n",
      "TEST ACCURACY: 0.7529629628746598\n",
      "TEST F1: 0.5305101363747208\n"
     ]
    }
   ],
   "source": [
    "test_loss, test_acc, F1 = model.evaluate(X_test, y_test, batch_size=128)\n",
    "print(\"TEST LOSS:\", test_loss)\n",
    "print(\"TEST ACCURACY:\", test_acc)\n",
    "print(\"TEST F1:\", F1)"
   ]
  },
  {
   "cell_type": "code",
   "execution_count": 173,
   "metadata": {},
   "outputs": [
    {
     "name": "stdout",
     "output_type": "stream",
     "text": [
      "             precision    recall  f1-score   support\n",
      "\n",
      "          0       0.88      0.79      0.83      2103\n",
      "          1       0.45      0.62      0.52       597\n",
      "\n",
      "avg / total       0.79      0.75      0.76      2700\n",
      "\n"
     ]
    }
   ],
   "source": [
    "y_test_pred = model.predict_classes(X_test)\n",
    "print(classification_report(y_test, y_test_pred))"
   ]
  },
  {
   "cell_type": "markdown",
   "metadata": {},
   "source": [
    "## Carico test finale"
   ]
  },
  {
   "cell_type": "code",
   "execution_count": 143,
   "metadata": {},
   "outputs": [],
   "source": [
    "test_fin = pd.read_csv(\"/home/federico/Desktop/Università/II_ANNO/Advance_ML/Assignemnet/Assignment_1/test.csv\")\n",
    "test_fin = test_fin.rename(columns = {\"default.payment.next.month\" : \"TARGET\", \"PAY_0\": \"PAY_1\"})"
   ]
  },
  {
   "cell_type": "code",
   "execution_count": 144,
   "metadata": {},
   "outputs": [
    {
     "name": "stderr",
     "output_type": "stream",
     "text": [
      "/home/federico/anaconda3/lib/python3.6/site-packages/ipykernel_launcher.py:4: SettingWithCopyWarning: \n",
      "A value is trying to be set on a copy of a slice from a DataFrame\n",
      "\n",
      "See the caveats in the documentation: http://pandas.pydata.org/pandas-docs/stable/indexing.html#indexing-view-versus-copy\n",
      "  after removing the cwd from sys.path.\n",
      "/home/federico/anaconda3/lib/python3.6/site-packages/ipykernel_launcher.py:16: SettingWithCopyWarning: \n",
      "A value is trying to be set on a copy of a slice from a DataFrame\n",
      "\n",
      "See the caveats in the documentation: http://pandas.pydata.org/pandas-docs/stable/indexing.html#indexing-view-versus-copy\n",
      "  app.launch_new_instance()\n",
      "/home/federico/anaconda3/lib/python3.6/site-packages/ipykernel_launcher.py:25: FutureWarning: Method .as_matrix will be removed in a future version. Use .values instead.\n"
     ]
    }
   ],
   "source": [
    "## Applico le stesse fasi di preprocessing\n",
    "\n",
    "for i in range(1,7):\n",
    "    test_fin[\"BILL_AMT\" + str(i)][test_fin[\"BILL_AMT\" + str(i)] < 0] = 0\n",
    "\n",
    "test_fin[\"LIMIT_BAL\"] = np.log(test_fin[\"LIMIT_BAL\"] + 1)\n",
    "for i in range(1,7):\n",
    "    test_fin[\"BILL_AMT\" + str(i)] = np.log(test_fin[\"BILL_AMT\" + str(i)] + 1)\n",
    "    test_fin[\"PAY_AMT\" + str(i)] = np.log(test_fin[\"PAY_AMT\" + str(i)] + 1)\n",
    "\n",
    "test_fin[\"AVG_BILL_AMT\"] = test_fin[[\"BILL_AMT1\", \"BILL_AMT2\", \"BILL_AMT3\", \"BILL_AMT4\", \"BILL_AMT5\", \"BILL_AMT6\"]].mean(axis = 1)\n",
    "\n",
    "age_bin =  pd.get_dummies(pd.cut(test_fin[\"AGE\"], [0, 20,30,40,50,60,70,80, float(\"inf\")]))\n",
    "age_bin.columns = [\"0-20\", \"21-30\", \"30-40\", \"41-50\", \"51-60\", \"61-70\", \"70-80\", \"80+\"]\n",
    "test_fin = test_fin.join(age_bin)\n",
    "test_fin[\"EDUCATION\"][test_fin[\"EDUCATION\"]>=4] =0\n",
    "\n",
    "\n",
    "test_fin = test_fin[['LIMIT_BAL', 'SEX', 'EDUCATION', 'MARRIAGE', 'PAY_1', 'PAY_2',\n",
    "       'PAY_3', 'PAY_4', 'PAY_5', 'PAY_6', 'PAY_AMT1',\n",
    "       'PAY_AMT2', 'PAY_AMT3', 'PAY_AMT4', 'PAY_AMT5', 'PAY_AMT6',\n",
    "       'AVG_BILL_AMT', '0-20', '21-30', '30-40', '41-50', '51-60', '61-70',\n",
    "       '70-80', '80+']]\n",
    "\n",
    "test_fin = test_fin.as_matrix()"
   ]
  },
  {
   "cell_type": "code",
   "execution_count": 145,
   "metadata": {},
   "outputs": [],
   "source": [
    "y_test = model.predict_classes(test_fin)"
   ]
  },
  {
   "cell_type": "code",
   "execution_count": 64,
   "metadata": {},
   "outputs": [],
   "source": [
    "a = []\n",
    "for i in y_test:\n",
    "    a.append(i[0])\n",
    "with open(\"Federico_Manenti_790032_score1.txt\", \"w\") as f:\n",
    "    for i in a:\n",
    "        f.write(\"%s\\n\" % str(i))"
   ]
  }
 ],
 "metadata": {
  "kernelspec": {
   "display_name": "Python 3",
   "language": "python",
   "name": "python3"
  },
  "language_info": {
   "codemirror_mode": {
    "name": "ipython",
    "version": 3
   },
   "file_extension": ".py",
   "mimetype": "text/x-python",
   "name": "python",
   "nbconvert_exporter": "python",
   "pygments_lexer": "ipython3",
   "version": "3.6.9"
  }
 },
 "nbformat": 4,
 "nbformat_minor": 2
}
