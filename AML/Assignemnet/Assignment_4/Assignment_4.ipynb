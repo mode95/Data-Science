{
 "cells": [
  {
   "cell_type": "code",
   "execution_count": 1,
   "metadata": {
    "colab": {
     "base_uri": "https://localhost:8080/",
     "height": 35
    },
    "colab_type": "code",
    "executionInfo": {
     "elapsed": 3613,
     "status": "ok",
     "timestamp": 1574323955213,
     "user": {
      "displayName": "Federico Manenti",
      "photoUrl": "",
      "userId": "10319363990719344506"
     },
     "user_tz": -60
    },
    "id": "LpPX3zPmTv15",
    "outputId": "453f9d21-8d12-4afa-bd71-12e7f4f70b47"
   },
   "outputs": [
    {
     "name": "stdout",
     "output_type": "stream",
     "text": [
      "TensorFlow 2.x selected.\n"
     ]
    }
   ],
   "source": [
    "%tensorflow_version  2.x\n",
    "! pip install -q keras==2.3.0"
   ]
  },
  {
   "cell_type": "code",
   "execution_count": 2,
   "metadata": {
    "colab": {
     "base_uri": "https://localhost:8080/",
     "height": 35
    },
    "colab_type": "code",
    "executionInfo": {
     "elapsed": 4474,
     "status": "ok",
     "timestamp": 1574323960748,
     "user": {
      "displayName": "Federico Manenti",
      "photoUrl": "",
      "userId": "10319363990719344506"
     },
     "user_tz": -60
    },
    "id": "YPt1riURGk5W",
    "outputId": "751fe1b0-6191-4f52-d758-e45236645c69"
   },
   "outputs": [
    {
     "name": "stderr",
     "output_type": "stream",
     "text": [
      "Using TensorFlow backend.\n"
     ]
    }
   ],
   "source": [
    "import pandas as pd\n",
    "import numpy as np\n",
    "from keras import layers, optimizers, models, datasets, callbacks, applications, Model, losses\n",
    "from keras.applications.vgg19 import preprocess_input\n",
    "import matplotlib.pyplot as plt\n",
    "import seaborn as sns\n",
    "from keras.preprocessing import image\n",
    "\n",
    "from sklearn.metrics import classification_report\n",
    "from sklearn.model_selection import train_test_split, GridSearchCV\n",
    "\n",
    "import cv2 as cv\n",
    "\n",
    "from sklearn.svm import SVC\n",
    "\n",
    "import requests"
   ]
  },
  {
   "cell_type": "markdown",
   "metadata": {
    "colab_type": "text",
    "id": "8k1nLZKuXhRR"
   },
   "source": [
    "# Dataset"
   ]
  },
  {
   "cell_type": "code",
   "execution_count": 7,
   "metadata": {
    "colab": {
     "base_uri": "https://localhost:8080/",
     "height": 35
    },
    "colab_type": "code",
    "executionInfo": {
     "elapsed": 786,
     "status": "ok",
     "timestamp": 1574323986653,
     "user": {
      "displayName": "Federico Manenti",
      "photoUrl": "",
      "userId": "10319363990719344506"
     },
     "user_tz": -60
    },
    "id": "xbM1Hi3UX3aC",
    "outputId": "4b230887-ca2a-41a9-8c53-f9b4816cad48"
   },
   "outputs": [
    {
     "name": "stdout",
     "output_type": "stream",
     "text": [
      "Drive already mounted at /content/drive; to attempt to forcibly remount, call drive.mount(\"/content/drive\", force_remount=True).\n"
     ]
    }
   ],
   "source": [
    "from google.colab import drive\n",
    "drive.mount('/content/drive')"
   ]
  },
  {
   "cell_type": "code",
   "execution_count": 0,
   "metadata": {
    "colab": {},
    "colab_type": "code",
    "id": "LF2hyK73X-Ac"
   },
   "outputs": [],
   "source": [
    "X = np.load(\"/content/drive/My Drive/AML/Assignment/Assignment_4/X.npy\")\n",
    "y = np.load(\"/content/drive/My Drive/AML/Assignment/Assignment_4/Y.npy\")"
   ]
  },
  {
   "cell_type": "code",
   "execution_count": 5,
   "metadata": {
    "colab": {
     "base_uri": "https://localhost:8080/",
     "height": 53
    },
    "colab_type": "code",
    "executionInfo": {
     "elapsed": 615,
     "status": "ok",
     "timestamp": 1574323889308,
     "user": {
      "displayName": "Federico Manenti",
      "photoUrl": "",
      "userId": "10319363990719344506"
     },
     "user_tz": -60
    },
    "id": "zKCpDCrTYfHi",
    "outputId": "a62af27c-60af-4997-8d42-7e2797436bd6"
   },
   "outputs": [
    {
     "name": "stdout",
     "output_type": "stream",
     "text": [
      "X shape: (2062, 64, 64)\n",
      "y shape: (2062, 10)\n"
     ]
    }
   ],
   "source": [
    "print(\"X shape: \" + str(X.shape))\n",
    "print(\"y shape: \" + str(y.shape))"
   ]
  },
  {
   "cell_type": "markdown",
   "metadata": {
    "colab_type": "text",
    "id": "57jyoUFgmmJe"
   },
   "source": [
    "## Cambio spazio colore e shape"
   ]
  },
  {
   "cell_type": "code",
   "execution_count": 0,
   "metadata": {
    "colab": {},
    "colab_type": "code",
    "id": "8YfSlYdkeFSy"
   },
   "outputs": [],
   "source": [
    "X_rgb = np.zeros(shape=(2062,64,64,3))\n",
    "for i in range(len(X)):\n",
    "    X_rgb[i] = cv.cvtColor(X[i],cv.COLOR_GRAY2RGB)"
   ]
  },
  {
   "cell_type": "code",
   "execution_count": 0,
   "metadata": {
    "colab": {},
    "colab_type": "code",
    "id": "3ohzZV3xUrIV"
   },
   "outputs": [],
   "source": [
    "IMG_SIZE = 64\n",
    "X_rgb = X_rgb/255.0\n",
    "y = np.argmax(y, axis=1)"
   ]
  },
  {
   "cell_type": "code",
   "execution_count": 11,
   "metadata": {
    "colab": {
     "base_uri": "https://localhost:8080/",
     "height": 53
    },
    "colab_type": "code",
    "executionInfo": {
     "elapsed": 686,
     "status": "ok",
     "timestamp": 1574323995062,
     "user": {
      "displayName": "Federico Manenti",
      "photoUrl": "",
      "userId": "10319363990719344506"
     },
     "user_tz": -60
    },
    "id": "TreukDshiCS-",
    "outputId": "5074eafc-2a3d-465a-d9c5-1ac49370033d"
   },
   "outputs": [
    {
     "name": "stdout",
     "output_type": "stream",
     "text": [
      "X shape: (2062, 64, 64, 3)\n",
      "y shape: (2062,)\n"
     ]
    }
   ],
   "source": [
    "print(\"X shape: \" + str(X_rgb.shape))\n",
    "print(\"y shape: \" + str(y.shape))"
   ]
  },
  {
   "cell_type": "markdown",
   "metadata": {
    "colab_type": "text",
    "id": "Edkbxg55At8C"
   },
   "source": [
    "## Sistemo le label"
   ]
  },
  {
   "cell_type": "code",
   "execution_count": 0,
   "metadata": {
    "colab": {},
    "colab_type": "code",
    "id": "rEvzAJDtkfbR"
   },
   "outputs": [],
   "source": [
    "y_new = np.zeros(len(y))\n",
    "y_new[y == 0] = int(9)\n",
    "y_new[y == 1] = int(0)\n",
    "y_new[y == 2] = int(7)\n",
    "y_new[y == 3] = int(6)\n",
    "y_new[y == 4] = int(1)\n",
    "y_new[y == 5] = int(8)\n",
    "y_new[y == 6] = int(4)\n",
    "y_new[y == 7] = int(3)\n",
    "y_new[y == 8] = int(2)\n",
    "y_new[y == 9] = int(5)\n",
    "\n",
    "\n",
    "y = y_new"
   ]
  },
  {
   "cell_type": "code",
   "execution_count": 0,
   "metadata": {
    "colab": {
     "base_uri": "https://localhost:8080/",
     "height": 282
    },
    "colab_type": "code",
    "executionInfo": {
     "elapsed": 739,
     "status": "ok",
     "timestamp": 1574258514144,
     "user": {
      "displayName": "Federico Manenti",
      "photoUrl": "",
      "userId": "10319363990719344506"
     },
     "user_tz": -60
    },
    "id": "rHemNYFcYmbX",
    "outputId": "805221e1-bb57-4b22-be83-454b8cea659c"
   },
   "outputs": [
    {
     "data": {
      "text/plain": [
       "<matplotlib.axes._subplots.AxesSubplot at 0x7f6eadad35c0>"
      ]
     },
     "execution_count": 158,
     "metadata": {
      "tags": []
     },
     "output_type": "execute_result"
    },
    {
     "data": {
      "image/png": "[encoded data removed]",
      "text/plain": [
       "<Figure size 432x288 with 1 Axes>"
      ]
     },
     "metadata": {
      "tags": []
     },
     "output_type": "display_data"
    }
   ],
   "source": [
    "target = pd.DataFrame(y)\n",
    "target.columns = [\"TARGET\"]\n",
    "\n",
    "sns.barplot(target[\"TARGET\"].value_counts().index, target[\"TARGET\"].value_counts().values, palette=\"Set1\")\n"
   ]
  },
  {
   "cell_type": "code",
   "execution_count": 0,
   "metadata": {
    "colab": {
     "base_uri": "https://localhost:8080/",
     "height": 204
    },
    "colab_type": "code",
    "executionInfo": {
     "elapsed": 836,
     "status": "ok",
     "timestamp": 1574258515390,
     "user": {
      "displayName": "Federico Manenti",
      "photoUrl": "",
      "userId": "10319363990719344506"
     },
     "user_tz": -60
    },
    "id": "sekZn9pWbrG8",
    "outputId": "6bbfa257-a486-4779-dfb7-260f8b409e5b"
   },
   "outputs": [
    {
     "data": {
      "text/plain": [
       "8.0    208\n",
       "5.0    207\n",
       "4.0    207\n",
       "6.0    207\n",
       "2.0    206\n",
       "3.0    206\n",
       "1.0    206\n",
       "7.0    206\n",
       "0.0    205\n",
       "9.0    204\n",
       "Name: TARGET, dtype: int64"
      ]
     },
     "execution_count": 159,
     "metadata": {
      "tags": []
     },
     "output_type": "execute_result"
    }
   ],
   "source": [
    "target[\"TARGET\"].value_counts()"
   ]
  },
  {
   "cell_type": "code",
   "execution_count": 0,
   "metadata": {
    "colab": {},
    "colab_type": "code",
    "id": "gVucp3p3etJD"
   },
   "outputs": [],
   "source": [
    "X_train, X_test, y_train, y_test = train_test_split(X_rgb, y, stratify = y ,test_size=0.15, random_state=42)"
   ]
  },
  {
   "cell_type": "markdown",
   "metadata": {
    "colab_type": "text",
    "id": "hCJpv9DjHxrU"
   },
   "source": [
    "# Carico VGG19\n"
   ]
  },
  {
   "cell_type": "code",
   "execution_count": 0,
   "metadata": {
    "colab": {},
    "colab_type": "code",
    "id": "EnUo8LZoHtrN"
   },
   "outputs": [],
   "source": [
    "vgg_base = applications.vgg19.VGG19(input_shape = (64, 64, 3),\n",
    "                                    weights='imagenet', \n",
    "                                    include_top = False)"
   ]
  },
  {
   "cell_type": "code",
   "execution_count": 15,
   "metadata": {
    "colab": {
     "base_uri": "https://localhost:8080/",
     "height": 953
    },
    "colab_type": "code",
    "executionInfo": {
     "elapsed": 582,
     "status": "ok",
     "timestamp": 1574324015573,
     "user": {
      "displayName": "Federico Manenti",
      "photoUrl": "",
      "userId": "10319363990719344506"
     },
     "user_tz": -60
    },
    "id": "GAji3JUQMQVf",
    "outputId": "d619df3f-071d-4e15-d123-4406cb25adaf"
   },
   "outputs": [
    {
     "name": "stdout",
     "output_type": "stream",
     "text": [
      "Model: \"vgg19\"\n",
      "_________________________________________________________________\n",
      "Layer (type)                 Output Shape              Param #   \n",
      "=================================================================\n",
      "input_1 (InputLayer)         (None, 64, 64, 3)         0         \n",
      "_________________________________________________________________\n",
      "block1_conv1 (Conv2D)        (None, 64, 64, 64)        1792      \n",
      "_________________________________________________________________\n",
      "block1_conv2 (Conv2D)        (None, 64, 64, 64)        36928     \n",
      "_________________________________________________________________\n",
      "block1_pool (MaxPooling2D)   (None, 32, 32, 64)        0         \n",
      "_________________________________________________________________\n",
      "block2_conv1 (Conv2D)        (None, 32, 32, 128)       73856     \n",
      "_________________________________________________________________\n",
      "block2_conv2 (Conv2D)        (None, 32, 32, 128)       147584    \n",
      "_________________________________________________________________\n",
      "block2_pool (MaxPooling2D)   (None, 16, 16, 128)       0         \n",
      "_________________________________________________________________\n",
      "block3_conv1 (Conv2D)        (None, 16, 16, 256)       295168    \n",
      "_________________________________________________________________\n",
      "block3_conv2 (Conv2D)        (None, 16, 16, 256)       590080    \n",
      "_________________________________________________________________\n",
      "block3_conv3 (Conv2D)        (None, 16, 16, 256)       590080    \n",
      "_________________________________________________________________\n",
      "block3_conv4 (Conv2D)        (None, 16, 16, 256)       590080    \n",
      "_________________________________________________________________\n",
      "block3_pool (MaxPooling2D)   (None, 8, 8, 256)         0         \n",
      "_________________________________________________________________\n",
      "block4_conv1 (Conv2D)        (None, 8, 8, 512)         1180160   \n",
      "_________________________________________________________________\n",
      "block4_conv2 (Conv2D)        (None, 8, 8, 512)         2359808   \n",
      "_________________________________________________________________\n",
      "block4_conv3 (Conv2D)        (None, 8, 8, 512)         2359808   \n",
      "_________________________________________________________________\n",
      "block4_conv4 (Conv2D)        (None, 8, 8, 512)         2359808   \n",
      "_________________________________________________________________\n",
      "block4_pool (MaxPooling2D)   (None, 4, 4, 512)         0         \n",
      "_________________________________________________________________\n",
      "block5_conv1 (Conv2D)        (None, 4, 4, 512)         2359808   \n",
      "_________________________________________________________________\n",
      "block5_conv2 (Conv2D)        (None, 4, 4, 512)         2359808   \n",
      "_________________________________________________________________\n",
      "block5_conv3 (Conv2D)        (None, 4, 4, 512)         2359808   \n",
      "_________________________________________________________________\n",
      "block5_conv4 (Conv2D)        (None, 4, 4, 512)         2359808   \n",
      "_________________________________________________________________\n",
      "block5_pool (MaxPooling2D)   (None, 2, 2, 512)         0         \n",
      "=================================================================\n",
      "Total params: 20,024,384\n",
      "Trainable params: 0\n",
      "Non-trainable params: 20,024,384\n",
      "_________________________________________________________________\n"
     ]
    }
   ],
   "source": [
    "vgg_base.summary()"
   ]
  },
  {
   "cell_type": "code",
   "execution_count": 0,
   "metadata": {
    "colab": {},
    "colab_type": "code",
    "id": "ZoSfxygsbrze"
   },
   "outputs": [],
   "source": [
    "for layer in vgg_base.layers:\n",
    "    layer.trainable = False"
   ]
  },
  {
   "cell_type": "markdown",
   "metadata": {
    "colab_type": "text",
    "id": "WbhemLrtIWrj"
   },
   "source": [
    "## Taglio al secondo blocco"
   ]
  },
  {
   "cell_type": "code",
   "execution_count": 16,
   "metadata": {
    "colab": {
     "base_uri": "https://localhost:8080/",
     "height": 73
    },
    "colab_type": "code",
    "executionInfo": {
     "elapsed": 683,
     "status": "ok",
     "timestamp": 1574324021786,
     "user": {
      "displayName": "Federico Manenti",
      "photoUrl": "",
      "userId": "10319363990719344506"
     },
     "user_tz": -60
    },
    "id": "u8nL5V-DIVm8",
    "outputId": "5ba53869-4465-476a-ff64-c304600f6bbd"
   },
   "outputs": [
    {
     "name": "stderr",
     "output_type": "stream",
     "text": [
      "/usr/local/lib/python3.6/dist-packages/ipykernel_launcher.py:4: UserWarning: Update your `Model` call to the Keras 2 API: `Model(inputs=Tensor(\"in..., outputs=Tensor(\"fl...)`\n",
      "  after removing the cwd from sys.path.\n"
     ]
    }
   ],
   "source": [
    "x = Model(inputs=vgg_base.input, outputs=vgg_base.get_layer('block2_pool').output).output\n",
    "x = layers.Flatten()(x)\n",
    "\n",
    "net = Model(input = vgg_base.input, output = x)"
   ]
  },
  {
   "cell_type": "code",
   "execution_count": 17,
   "metadata": {
    "colab": {
     "base_uri": "https://localhost:8080/",
     "height": 449
    },
    "colab_type": "code",
    "executionInfo": {
     "elapsed": 679,
     "status": "ok",
     "timestamp": 1574324023512,
     "user": {
      "displayName": "Federico Manenti",
      "photoUrl": "",
      "userId": "10319363990719344506"
     },
     "user_tz": -60
    },
    "id": "Esab6ircKPvq",
    "outputId": "b3469982-16fc-4a61-db1c-e31f21f21adc"
   },
   "outputs": [
    {
     "name": "stdout",
     "output_type": "stream",
     "text": [
      "Model: \"model_4\"\n",
      "_________________________________________________________________\n",
      "Layer (type)                 Output Shape              Param #   \n",
      "=================================================================\n",
      "input_1 (InputLayer)         (None, 64, 64, 3)         0         \n",
      "_________________________________________________________________\n",
      "block1_conv1 (Conv2D)        (None, 64, 64, 64)        1792      \n",
      "_________________________________________________________________\n",
      "block1_conv2 (Conv2D)        (None, 64, 64, 64)        36928     \n",
      "_________________________________________________________________\n",
      "block1_pool (MaxPooling2D)   (None, 32, 32, 64)        0         \n",
      "_________________________________________________________________\n",
      "block2_conv1 (Conv2D)        (None, 32, 32, 128)       73856     \n",
      "_________________________________________________________________\n",
      "block2_conv2 (Conv2D)        (None, 32, 32, 128)       147584    \n",
      "_________________________________________________________________\n",
      "block2_pool (MaxPooling2D)   (None, 16, 16, 128)       0         \n",
      "_________________________________________________________________\n",
      "flatten_2 (Flatten)          (None, 32768)             0         \n",
      "=================================================================\n",
      "Total params: 260,160\n",
      "Trainable params: 0\n",
      "Non-trainable params: 260,160\n",
      "_________________________________________________________________\n"
     ]
    }
   ],
   "source": [
    "net.summary()"
   ]
  },
  {
   "cell_type": "code",
   "execution_count": 18,
   "metadata": {
    "colab": {
     "base_uri": "https://localhost:8080/",
     "height": 35
    },
    "colab_type": "code",
    "executionInfo": {
     "elapsed": 2670,
     "status": "ok",
     "timestamp": 1574324029864,
     "user": {
      "displayName": "Federico Manenti",
      "photoUrl": "",
      "userId": "10319363990719344506"
     },
     "user_tz": -60
    },
    "id": "LazxsRtWIjPx",
    "outputId": "a99ac8c2-1257-4874-e4b6-11c6e479c2f3"
   },
   "outputs": [
    {
     "name": "stdout",
     "output_type": "stream",
     "text": [
      "1752/1752 [==============================] - 2s 1ms/step\n"
     ]
    }
   ],
   "source": [
    "X_train_feature = net.predict(X_train, batch_size=128, verbose = 1)"
   ]
  },
  {
   "cell_type": "markdown",
   "metadata": {
    "colab_type": "text",
    "id": "SkIZGAwOqpvU"
   },
   "source": [
    "### Creazione e train SVM"
   ]
  },
  {
   "cell_type": "code",
   "execution_count": 0,
   "metadata": {
    "colab": {},
    "colab_type": "code",
    "id": "5mtPcgKdI5HC"
   },
   "outputs": [],
   "source": [
    "param_grid = {\"C\" : [5, 10, 25, 50], \"gamma\" : [0.005, 0.015, 0.02, 0.1]}\n",
    "\n",
    "clf = GridSearchCV(SVC(kernel = \"rbf\", class_weight = \"balanced\"), param_grid, cv = 2)"
   ]
  },
  {
   "cell_type": "code",
   "execution_count": 0,
   "metadata": {
    "colab": {
     "base_uri": "https://localhost:8080/",
     "height": 34
    },
    "colab_type": "code",
    "executionInfo": {
     "elapsed": 2597253,
     "status": "ok",
     "timestamp": 1574268367573,
     "user": {
      "displayName": "Federico Manenti",
      "photoUrl": "",
      "userId": "10319363990719344506"
     },
     "user_tz": -60
    },
    "id": "tyra6hfmI56D",
    "outputId": "43a903cb-2079-45c6-83ba-5e8564b704c7"
   },
   "outputs": [
    {
     "name": "stdout",
     "output_type": "stream",
     "text": [
      "I parametri migliori risultano C : 5 e gamma:0.1\n"
     ]
    }
   ],
   "source": [
    "clf = clf.fit(X_train_feature, y_train)\n",
    "\n",
    "print(\"I parametri migliori risultano C : \" + str(clf.best_estimator_.C) + \" e gamma:\" + str(clf.best_estimator_.gamma))"
   ]
  },
  {
   "cell_type": "code",
   "execution_count": 0,
   "metadata": {
    "colab": {},
    "colab_type": "code",
    "id": "LL_mHfF1jBLc"
   },
   "outputs": [],
   "source": [
    "y_train_pred = clf.predict(X_train_feature)"
   ]
  },
  {
   "cell_type": "code",
   "execution_count": 0,
   "metadata": {
    "colab": {
     "base_uri": "https://localhost:8080/",
     "height": 302
    },
    "colab_type": "code",
    "executionInfo": {
     "elapsed": 1087,
     "status": "ok",
     "timestamp": 1574268624638,
     "user": {
      "displayName": "Federico Manenti",
      "photoUrl": "",
      "userId": "10319363990719344506"
     },
     "user_tz": -60
    },
    "id": "JjieCuOJjBLf",
    "outputId": "7110e5ee-f3e8-4500-8259-37f66a0c7eb0"
   },
   "outputs": [
    {
     "name": "stdout",
     "output_type": "stream",
     "text": [
      "              precision    recall  f1-score   support\n",
      "\n",
      "         0.0       1.00      1.00      1.00       174\n",
      "         1.0       1.00      1.00      1.00       175\n",
      "         2.0       1.00      1.00      1.00       175\n",
      "         3.0       1.00      0.99      1.00       175\n",
      "         4.0       1.00      1.00      1.00       176\n",
      "         5.0       1.00      1.00      1.00       176\n",
      "         6.0       1.00      1.00      1.00       176\n",
      "         7.0       0.99      1.00      1.00       175\n",
      "         8.0       1.00      1.00      1.00       177\n",
      "         9.0       1.00      1.00      1.00       173\n",
      "\n",
      "    accuracy                           1.00      1752\n",
      "   macro avg       1.00      1.00      1.00      1752\n",
      "weighted avg       1.00      1.00      1.00      1752\n",
      "\n"
     ]
    }
   ],
   "source": [
    "print(classification_report(y_train, y_train_pred))"
   ]
  },
  {
   "cell_type": "markdown",
   "metadata": {
    "colab_type": "text",
    "id": "qXCManLNq2Xn"
   },
   "source": [
    "### Test"
   ]
  },
  {
   "cell_type": "code",
   "execution_count": 0,
   "metadata": {
    "colab": {
     "base_uri": "https://localhost:8080/",
     "height": 34
    },
    "colab_type": "code",
    "executionInfo": {
     "elapsed": 5554,
     "status": "ok",
     "timestamp": 1574268640626,
     "user": {
      "displayName": "Federico Manenti",
      "photoUrl": "",
      "userId": "10319363990719344506"
     },
     "user_tz": -60
    },
    "id": "cbAIT0cxI70r",
    "outputId": "66e6ad18-acab-4f09-9220-6e93213423bd"
   },
   "outputs": [
    {
     "name": "stdout",
     "output_type": "stream",
     "text": [
      "310/310 [==============================] - 5s 15ms/step\n"
     ]
    }
   ],
   "source": [
    "test_feature = net.predict(X_test, batch_size=128, verbose = 1)"
   ]
  },
  {
   "cell_type": "code",
   "execution_count": 0,
   "metadata": {
    "colab": {},
    "colab_type": "code",
    "id": "PRe_fX93JCeI"
   },
   "outputs": [],
   "source": [
    "y_pred = clf.predict(test_feature)"
   ]
  },
  {
   "cell_type": "code",
   "execution_count": 0,
   "metadata": {
    "colab": {
     "base_uri": "https://localhost:8080/",
     "height": 302
    },
    "colab_type": "code",
    "executionInfo": {
     "elapsed": 1038,
     "status": "ok",
     "timestamp": 1574268683433,
     "user": {
      "displayName": "Federico Manenti",
      "photoUrl": "",
      "userId": "10319363990719344506"
     },
     "user_tz": -60
    },
    "id": "OZCSmQ9MJEx-",
    "outputId": "c7fc12d3-8516-4d8c-93b6-405361742426"
   },
   "outputs": [
    {
     "name": "stdout",
     "output_type": "stream",
     "text": [
      "              precision    recall  f1-score   support\n",
      "\n",
      "         0.0       1.00      0.94      0.97        31\n",
      "         1.0       1.00      0.97      0.98        31\n",
      "         2.0       0.91      0.97      0.94        31\n",
      "         3.0       1.00      1.00      1.00        31\n",
      "         4.0       0.87      0.84      0.85        31\n",
      "         5.0       1.00      1.00      1.00        31\n",
      "         6.0       0.90      0.90      0.90        31\n",
      "         7.0       0.86      0.81      0.83        31\n",
      "         8.0       0.88      0.97      0.92        31\n",
      "         9.0       0.94      0.97      0.95        31\n",
      "\n",
      "    accuracy                           0.94       310\n",
      "   macro avg       0.94      0.94      0.94       310\n",
      "weighted avg       0.94      0.94      0.94       310\n",
      "\n"
     ]
    }
   ],
   "source": [
    "print(classification_report(y_test, y_pred))"
   ]
  },
  {
   "cell_type": "markdown",
   "metadata": {
    "colab_type": "text",
    "id": "MtCBfC0prrNj"
   },
   "source": [
    "## Taglio al terzo blocco"
   ]
  },
  {
   "cell_type": "code",
   "execution_count": 0,
   "metadata": {
    "colab": {
     "base_uri": "https://localhost:8080/",
     "height": 70
    },
    "colab_type": "code",
    "executionInfo": {
     "elapsed": 1070,
     "status": "ok",
     "timestamp": 1574268936914,
     "user": {
      "displayName": "Federico Manenti",
      "photoUrl": "",
      "userId": "10319363990719344506"
     },
     "user_tz": -60
    },
    "id": "OFDC9ZdvruVW",
    "outputId": "7384e6f8-c3f6-4768-dd8d-1a9d4e6b397d"
   },
   "outputs": [
    {
     "name": "stderr",
     "output_type": "stream",
     "text": [
      "/usr/local/lib/python3.6/dist-packages/ipykernel_launcher.py:4: UserWarning: Update your `Model` call to the Keras 2 API: `Model(inputs=Tensor(\"in..., outputs=Tensor(\"fl...)`\n",
      "  after removing the cwd from sys.path.\n"
     ]
    }
   ],
   "source": [
    "x = Model(inputs=vgg_base.input, outputs=vgg_base.get_layer('block3_pool').output).output\n",
    "x = layers.Flatten()(x)\n",
    "\n",
    "net = Model(input = vgg_base.input, output = x)"
   ]
  },
  {
   "cell_type": "code",
   "execution_count": 0,
   "metadata": {
    "colab": {
     "base_uri": "https://localhost:8080/",
     "height": 588
    },
    "colab_type": "code",
    "executionInfo": {
     "elapsed": 45758,
     "status": "ok",
     "timestamp": 1574268992231,
     "user": {
      "displayName": "Federico Manenti",
      "photoUrl": "",
      "userId": "10319363990719344506"
     },
     "user_tz": -60
    },
    "id": "kxxndrpmTrBV",
    "outputId": "42c9f0b2-31a9-4c54-c246-11654e2134bc"
   },
   "outputs": [
    {
     "name": "stdout",
     "output_type": "stream",
     "text": [
      "Model: \"model_10\"\n",
      "_________________________________________________________________\n",
      "Layer (type)                 Output Shape              Param #   \n",
      "=================================================================\n",
      "input_2 (InputLayer)         (None, 64, 64, 3)         0         \n",
      "_________________________________________________________________\n",
      "block1_conv1 (Conv2D)        (None, 64, 64, 64)        1792      \n",
      "_________________________________________________________________\n",
      "block1_conv2 (Conv2D)        (None, 64, 64, 64)        36928     \n",
      "_________________________________________________________________\n",
      "block1_pool (MaxPooling2D)   (None, 32, 32, 64)        0         \n",
      "_________________________________________________________________\n",
      "block2_conv1 (Conv2D)        (None, 32, 32, 128)       73856     \n",
      "_________________________________________________________________\n",
      "block2_conv2 (Conv2D)        (None, 32, 32, 128)       147584    \n",
      "_________________________________________________________________\n",
      "block2_pool (MaxPooling2D)   (None, 16, 16, 128)       0         \n",
      "_________________________________________________________________\n",
      "block3_conv1 (Conv2D)        (None, 16, 16, 256)       295168    \n",
      "_________________________________________________________________\n",
      "block3_conv2 (Conv2D)        (None, 16, 16, 256)       590080    \n",
      "_________________________________________________________________\n",
      "block3_conv3 (Conv2D)        (None, 16, 16, 256)       590080    \n",
      "_________________________________________________________________\n",
      "block3_conv4 (Conv2D)        (None, 16, 16, 256)       590080    \n",
      "_________________________________________________________________\n",
      "block3_pool (MaxPooling2D)   (None, 8, 8, 256)         0         \n",
      "_________________________________________________________________\n",
      "flatten_5 (Flatten)          (None, 16384)             0         \n",
      "=================================================================\n",
      "Total params: 2,325,568\n",
      "Trainable params: 0\n",
      "Non-trainable params: 2,325,568\n",
      "_________________________________________________________________\n"
     ]
    }
   ],
   "source": [
    "net.summary()"
   ]
  },
  {
   "cell_type": "code",
   "execution_count": 0,
   "metadata": {
    "colab": {
     "base_uri": "https://localhost:8080/",
     "height": 34
    },
    "colab_type": "code",
    "executionInfo": {
     "elapsed": 49168,
     "status": "ok",
     "timestamp": 1574268992230,
     "user": {
      "displayName": "Federico Manenti",
      "photoUrl": "",
      "userId": "10319363990719344506"
     },
     "user_tz": -60
    },
    "id": "GMsPZ3fqUAFz",
    "outputId": "6276515b-33c3-43ce-def8-6f6d9d043e78"
   },
   "outputs": [
    {
     "name": "stdout",
     "output_type": "stream",
     "text": [
      "1752/1752 [==============================] - 48s 27ms/step\n"
     ]
    }
   ],
   "source": [
    "X_train_feature = net.predict(X_train, batch_size=128, verbose = 1)"
   ]
  },
  {
   "cell_type": "markdown",
   "metadata": {
    "colab_type": "text",
    "id": "muTh9k-LUcNd"
   },
   "source": [
    "### Creazione e train SVM"
   ]
  },
  {
   "cell_type": "code",
   "execution_count": 0,
   "metadata": {
    "colab": {},
    "colab_type": "code",
    "id": "ONfSq6y2ULTU"
   },
   "outputs": [],
   "source": [
    "param_grid = {\"C\" : [5, 10, 25, 50], \"gamma\" : [0.005, 0.015, 0.02, 0.1, 0.5]}\n",
    "\n",
    "clf = GridSearchCV(SVC(kernel = \"rbf\", class_weight = \"balanced\"), param_grid, cv = 2)"
   ]
  },
  {
   "cell_type": "code",
   "execution_count": 0,
   "metadata": {
    "colab": {},
    "colab_type": "code",
    "id": "omH6AwocUOIU"
   },
   "outputs": [],
   "source": [
    "clf = clf.fit(X_train_feature, y_train)\n",
    "\n",
    "print(\"I parametri migliori risultano C : \" + str(clf.best_estimator_.C) + \" e gamma:\" + str(clf.best_estimator_.gamma))\n"
   ]
  },
  {
   "cell_type": "code",
   "execution_count": 0,
   "metadata": {
    "colab": {},
    "colab_type": "code",
    "id": "TZq0Vrv7hdw7"
   },
   "outputs": [],
   "source": [
    "y_train_pred = clf.predict(X_train_feature)"
   ]
  },
  {
   "cell_type": "code",
   "execution_count": 0,
   "metadata": {
    "colab": {
     "base_uri": "https://localhost:8080/",
     "height": 302
    },
    "colab_type": "code",
    "executionInfo": {
     "elapsed": 1059,
     "status": "ok",
     "timestamp": 1574265586682,
     "user": {
      "displayName": "Federico Manenti",
      "photoUrl": "",
      "userId": "10319363990719344506"
     },
     "user_tz": -60
    },
    "id": "BG41KdG3iMSS",
    "outputId": "af011d72-38f5-485c-9cdf-bd27714fcb3d"
   },
   "outputs": [
    {
     "name": "stdout",
     "output_type": "stream",
     "text": [
      "              precision    recall  f1-score   support\n",
      "\n",
      "         0.0       1.00      1.00      1.00       174\n",
      "         1.0       1.00      1.00      1.00       175\n",
      "         2.0       1.00      0.99      1.00       175\n",
      "         3.0       0.99      0.99      0.99       175\n",
      "         4.0       1.00      0.99      1.00       176\n",
      "         5.0       1.00      1.00      1.00       176\n",
      "         6.0       0.99      1.00      1.00       176\n",
      "         7.0       0.99      1.00      1.00       175\n",
      "         8.0       1.00      1.00      1.00       177\n",
      "         9.0       1.00      1.00      1.00       173\n",
      "\n",
      "    accuracy                           1.00      1752\n",
      "   macro avg       1.00      1.00      1.00      1752\n",
      "weighted avg       1.00      1.00      1.00      1752\n",
      "\n"
     ]
    }
   ],
   "source": [
    "print(classification_report(y_train, y_train_pred))"
   ]
  },
  {
   "cell_type": "markdown",
   "metadata": {
    "colab_type": "text",
    "id": "e70x_hI1UYRA"
   },
   "source": [
    "### Test"
   ]
  },
  {
   "cell_type": "code",
   "execution_count": 0,
   "metadata": {
    "colab": {
     "base_uri": "https://localhost:8080/",
     "height": 34
    },
    "colab_type": "code",
    "executionInfo": {
     "elapsed": 10345,
     "status": "ok",
     "timestamp": 1574265008768,
     "user": {
      "displayName": "Federico Manenti",
      "photoUrl": "",
      "userId": "10319363990719344506"
     },
     "user_tz": -60
    },
    "id": "KeYiC3iDUQgk",
    "outputId": "9f844823-639c-4758-f7a0-fd21cdaeb945"
   },
   "outputs": [
    {
     "name": "stdout",
     "output_type": "stream",
     "text": [
      "310/310 [==============================] - 9s 28ms/step\n"
     ]
    }
   ],
   "source": [
    "test_feature = net.predict(X_test, batch_size=128, verbose = 1)"
   ]
  },
  {
   "cell_type": "code",
   "execution_count": 0,
   "metadata": {
    "colab": {},
    "colab_type": "code",
    "id": "mW2pnF5HUqSV"
   },
   "outputs": [],
   "source": [
    "y_pred = clf.predict(test_feature)"
   ]
  },
  {
   "cell_type": "code",
   "execution_count": 0,
   "metadata": {
    "colab": {
     "base_uri": "https://localhost:8080/",
     "height": 302
    },
    "colab_type": "code",
    "executionInfo": {
     "elapsed": 1070,
     "status": "ok",
     "timestamp": 1574265138989,
     "user": {
      "displayName": "Federico Manenti",
      "photoUrl": "",
      "userId": "10319363990719344506"
     },
     "user_tz": -60
    },
    "id": "j5IMg0ZjUq5I",
    "outputId": "185730e3-d051-46a6-e802-8d24c0052a08"
   },
   "outputs": [
    {
     "name": "stdout",
     "output_type": "stream",
     "text": [
      "              precision    recall  f1-score   support\n",
      "\n",
      "         0.0       1.00      0.97      0.98        31\n",
      "         1.0       1.00      1.00      1.00        31\n",
      "         2.0       0.94      0.97      0.95        31\n",
      "         3.0       0.97      1.00      0.98        31\n",
      "         4.0       0.91      0.94      0.92        31\n",
      "         5.0       1.00      1.00      1.00        31\n",
      "         6.0       0.88      0.94      0.91        31\n",
      "         7.0       0.96      0.87      0.92        31\n",
      "         8.0       1.00      0.94      0.97        31\n",
      "         9.0       0.97      1.00      0.98        31\n",
      "\n",
      "    accuracy                           0.96       310\n",
      "   macro avg       0.96      0.96      0.96       310\n",
      "weighted avg       0.96      0.96      0.96       310\n",
      "\n"
     ]
    }
   ],
   "source": [
    "print(classification_report(y_test, y_pred))"
   ]
  },
  {
   "cell_type": "markdown",
   "metadata": {
    "colab_type": "text",
    "id": "He8VaKTTUYkB"
   },
   "source": [
    "## Taglio al quarto blocco"
   ]
  },
  {
   "cell_type": "code",
   "execution_count": 19,
   "metadata": {
    "colab": {
     "base_uri": "https://localhost:8080/",
     "height": 73
    },
    "colab_type": "code",
    "executionInfo": {
     "elapsed": 593,
     "status": "ok",
     "timestamp": 1574324096521,
     "user": {
      "displayName": "Federico Manenti",
      "photoUrl": "",
      "userId": "10319363990719344506"
     },
     "user_tz": -60
    },
    "id": "A7CrKqSIUYj_",
    "outputId": "d473d2a5-39e1-454e-9cd9-e8fa8d201f4e"
   },
   "outputs": [
    {
     "name": "stderr",
     "output_type": "stream",
     "text": [
      "/usr/local/lib/python3.6/dist-packages/ipykernel_launcher.py:4: UserWarning: Update your `Model` call to the Keras 2 API: `Model(inputs=Tensor(\"in..., outputs=Tensor(\"fl...)`\n",
      "  after removing the cwd from sys.path.\n"
     ]
    }
   ],
   "source": [
    "x = Model(inputs=vgg_base.input, outputs=vgg_base.get_layer('block4_pool').output).output\n",
    "x = layers.Flatten()(x)\n",
    "\n",
    "net = Model(input = vgg_base.input, output = x)"
   ]
  },
  {
   "cell_type": "code",
   "execution_count": 20,
   "metadata": {
    "colab": {
     "base_uri": "https://localhost:8080/",
     "height": 809
    },
    "colab_type": "code",
    "executionInfo": {
     "elapsed": 924,
     "status": "ok",
     "timestamp": 1574324099596,
     "user": {
      "displayName": "Federico Manenti",
      "photoUrl": "",
      "userId": "10319363990719344506"
     },
     "user_tz": -60
    },
    "id": "of-6zYfpUYj8",
    "outputId": "cf26e16d-df4f-4e60-ed8d-132f08e0ca82"
   },
   "outputs": [
    {
     "name": "stdout",
     "output_type": "stream",
     "text": [
      "Model: \"model_6\"\n",
      "_________________________________________________________________\n",
      "Layer (type)                 Output Shape              Param #   \n",
      "=================================================================\n",
      "input_1 (InputLayer)         (None, 64, 64, 3)         0         \n",
      "_________________________________________________________________\n",
      "block1_conv1 (Conv2D)        (None, 64, 64, 64)        1792      \n",
      "_________________________________________________________________\n",
      "block1_conv2 (Conv2D)        (None, 64, 64, 64)        36928     \n",
      "_________________________________________________________________\n",
      "block1_pool (MaxPooling2D)   (None, 32, 32, 64)        0         \n",
      "_________________________________________________________________\n",
      "block2_conv1 (Conv2D)        (None, 32, 32, 128)       73856     \n",
      "_________________________________________________________________\n",
      "block2_conv2 (Conv2D)        (None, 32, 32, 128)       147584    \n",
      "_________________________________________________________________\n",
      "block2_pool (MaxPooling2D)   (None, 16, 16, 128)       0         \n",
      "_________________________________________________________________\n",
      "block3_conv1 (Conv2D)        (None, 16, 16, 256)       295168    \n",
      "_________________________________________________________________\n",
      "block3_conv2 (Conv2D)        (None, 16, 16, 256)       590080    \n",
      "_________________________________________________________________\n",
      "block3_conv3 (Conv2D)        (None, 16, 16, 256)       590080    \n",
      "_________________________________________________________________\n",
      "block3_conv4 (Conv2D)        (None, 16, 16, 256)       590080    \n",
      "_________________________________________________________________\n",
      "block3_pool (MaxPooling2D)   (None, 8, 8, 256)         0         \n",
      "_________________________________________________________________\n",
      "block4_conv1 (Conv2D)        (None, 8, 8, 512)         1180160   \n",
      "_________________________________________________________________\n",
      "block4_conv2 (Conv2D)        (None, 8, 8, 512)         2359808   \n",
      "_________________________________________________________________\n",
      "block4_conv3 (Conv2D)        (None, 8, 8, 512)         2359808   \n",
      "_________________________________________________________________\n",
      "block4_conv4 (Conv2D)        (None, 8, 8, 512)         2359808   \n",
      "_________________________________________________________________\n",
      "block4_pool (MaxPooling2D)   (None, 4, 4, 512)         0         \n",
      "_________________________________________________________________\n",
      "flatten_3 (Flatten)          (None, 8192)              0         \n",
      "=================================================================\n",
      "Total params: 10,585,152\n",
      "Trainable params: 0\n",
      "Non-trainable params: 10,585,152\n",
      "_________________________________________________________________\n"
     ]
    }
   ],
   "source": [
    "net.summary()"
   ]
  },
  {
   "cell_type": "markdown",
   "metadata": {
    "colab_type": "text",
    "id": "gZkF3DR3UYj7"
   },
   "source": [
    "### Creazione e train SVM"
   ]
  },
  {
   "cell_type": "code",
   "execution_count": 21,
   "metadata": {
    "colab": {
     "base_uri": "https://localhost:8080/",
     "height": 35
    },
    "colab_type": "code",
    "executionInfo": {
     "elapsed": 1600,
     "status": "ok",
     "timestamp": 1574324105719,
     "user": {
      "displayName": "Federico Manenti",
      "photoUrl": "",
      "userId": "10319363990719344506"
     },
     "user_tz": -60
    },
    "id": "Wd6EfXLBUYj4",
    "outputId": "86062a20-7445-4fd8-d915-31441a52febd"
   },
   "outputs": [
    {
     "name": "stdout",
     "output_type": "stream",
     "text": [
      "1752/1752 [==============================] - 1s 472us/step\n"
     ]
    }
   ],
   "source": [
    "X_train_feature = net.predict(X_train, batch_size=128, verbose = 1)"
   ]
  },
  {
   "cell_type": "code",
   "execution_count": 0,
   "metadata": {
    "colab": {},
    "colab_type": "code",
    "id": "xqdBYUZEUYj1"
   },
   "outputs": [],
   "source": [
    "param_grid = {\"C\" : [10, 20, 50], \"gamma\" : [0.015, 0.02, 0.1, 0.5, 1]}\n",
    "\n",
    "clf = GridSearchCV(SVC(kernel = \"rbf\", class_weight = \"balanced\"), param_grid, cv = 2)\n"
   ]
  },
  {
   "cell_type": "code",
   "execution_count": 26,
   "metadata": {
    "colab": {
     "base_uri": "https://localhost:8080/",
     "height": 35
    },
    "colab_type": "code",
    "executionInfo": {
     "elapsed": 368415,
     "status": "ok",
     "timestamp": 1574324937646,
     "user": {
      "displayName": "Federico Manenti",
      "photoUrl": "",
      "userId": "10319363990719344506"
     },
     "user_tz": -60
    },
    "id": "wYEZ75xFUYjz",
    "outputId": "653dac20-e70a-4140-9a8d-d1648e8030cc"
   },
   "outputs": [
    {
     "name": "stdout",
     "output_type": "stream",
     "text": [
      "I parametri migliori risultano C : 20 e gamma:0.5\n"
     ]
    }
   ],
   "source": [
    "clf = clf.fit(X_train_feature, y_train)\n",
    "\n",
    "print(\"I parametri migliori risultano C : \" + str(clf.best_estimator_.C) + \" e gamma:\" + str(clf.best_estimator_.gamma))"
   ]
  },
  {
   "cell_type": "code",
   "execution_count": 0,
   "metadata": {
    "colab": {},
    "colab_type": "code",
    "id": "Y2tfDsh7jGP4"
   },
   "outputs": [],
   "source": [
    "y_train_pred = clf.predict(X_train_feature)"
   ]
  },
  {
   "cell_type": "code",
   "execution_count": 28,
   "metadata": {
    "colab": {
     "base_uri": "https://localhost:8080/",
     "height": 323
    },
    "colab_type": "code",
    "executionInfo": {
     "elapsed": 20165,
     "status": "ok",
     "timestamp": 1574324965189,
     "user": {
      "displayName": "Federico Manenti",
      "photoUrl": "",
      "userId": "10319363990719344506"
     },
     "user_tz": -60
    },
    "id": "Vhz3UvryjGP7",
    "outputId": "6e8b3b28-32e6-4a7e-f694-18ffc927c252"
   },
   "outputs": [
    {
     "name": "stdout",
     "output_type": "stream",
     "text": [
      "              precision    recall  f1-score   support\n",
      "\n",
      "         0.0       1.00      1.00      1.00       174\n",
      "         1.0       1.00      1.00      1.00       175\n",
      "         2.0       1.00      0.99      1.00       175\n",
      "         3.0       0.99      0.99      0.99       175\n",
      "         4.0       1.00      0.99      1.00       176\n",
      "         5.0       1.00      1.00      1.00       176\n",
      "         6.0       0.99      1.00      1.00       176\n",
      "         7.0       0.99      1.00      1.00       175\n",
      "         8.0       1.00      1.00      1.00       177\n",
      "         9.0       1.00      1.00      1.00       173\n",
      "\n",
      "    accuracy                           1.00      1752\n",
      "   macro avg       1.00      1.00      1.00      1752\n",
      "weighted avg       1.00      1.00      1.00      1752\n",
      "\n"
     ]
    }
   ],
   "source": [
    "print(classification_report(y_train, y_train_pred))"
   ]
  },
  {
   "cell_type": "markdown",
   "metadata": {
    "colab_type": "text",
    "id": "qR5yYJW5UYjy"
   },
   "source": [
    "### Test"
   ]
  },
  {
   "cell_type": "code",
   "execution_count": 29,
   "metadata": {
    "colab": {
     "base_uri": "https://localhost:8080/",
     "height": 35
    },
    "colab_type": "code",
    "executionInfo": {
     "elapsed": 18219,
     "status": "ok",
     "timestamp": 1574324965498,
     "user": {
      "displayName": "Federico Manenti",
      "photoUrl": "",
      "userId": "10319363990719344506"
     },
     "user_tz": -60
    },
    "id": "TXtG9AUyUYjr",
    "outputId": "08e32659-3a4c-4e5b-cb51-67cb89f514fc"
   },
   "outputs": [
    {
     "name": "stdout",
     "output_type": "stream",
     "text": [
      "310/310 [==============================] - 0s 838us/step\n"
     ]
    }
   ],
   "source": [
    "test_feature = net.predict(X_test, batch_size=128, verbose = 1)"
   ]
  },
  {
   "cell_type": "code",
   "execution_count": 0,
   "metadata": {
    "colab": {},
    "colab_type": "code",
    "id": "Izp2S9spUYjg"
   },
   "outputs": [],
   "source": [
    "y_pred = clf.predict(test_feature)"
   ]
  },
  {
   "cell_type": "code",
   "execution_count": 32,
   "metadata": {
    "colab": {
     "base_uri": "https://localhost:8080/",
     "height": 323
    },
    "colab_type": "code",
    "executionInfo": {
     "elapsed": 1754,
     "status": "ok",
     "timestamp": 1574325069404,
     "user": {
      "displayName": "Federico Manenti",
      "photoUrl": "",
      "userId": "10319363990719344506"
     },
     "user_tz": -60
    },
    "id": "VW8Nwnd2UYjW",
    "outputId": "794eaeaf-90b4-457e-eaa3-744a8406fc91"
   },
   "outputs": [
    {
     "name": "stdout",
     "output_type": "stream",
     "text": [
      "              precision    recall  f1-score   support\n",
      "\n",
      "         0.0       1.00      0.97      0.98        31\n",
      "         1.0       0.97      1.00      0.98        31\n",
      "         2.0       0.90      0.90      0.90        31\n",
      "         3.0       0.94      1.00      0.97        31\n",
      "         4.0       0.87      0.87      0.87        31\n",
      "         5.0       1.00      1.00      1.00        31\n",
      "         6.0       0.85      0.90      0.88        31\n",
      "         7.0       0.86      0.81      0.83        31\n",
      "         8.0       0.97      0.90      0.93        31\n",
      "         9.0       0.94      0.94      0.94        31\n",
      "\n",
      "    accuracy                           0.93       310\n",
      "   macro avg       0.93      0.93      0.93       310\n",
      "weighted avg       0.93      0.93      0.93       310\n",
      "\n"
     ]
    }
   ],
   "source": [
    "print(classification_report(y_test, y_pred))"
   ]
  }
 ],
 "metadata": {
  "accelerator": "GPU",
  "colab": {
   "collapsed_sections": [],
   "name": "Assignment_4.ipynb",
   "provenance": [],
   "toc_visible": true
  },
  "kernelspec": {
   "display_name": "Python 3",
   "language": "python",
   "name": "python3"
  },
  "language_info": {
   "codemirror_mode": {
    "name": "ipython",
    "version": 3
   },
   "file_extension": ".py",
   "mimetype": "text/x-python",
   "name": "python",
   "nbconvert_exporter": "python",
   "pygments_lexer": "ipython3",
   "version": "3.6.9"
  }
 },
 "nbformat": 4,
 "nbformat_minor": 1
}
